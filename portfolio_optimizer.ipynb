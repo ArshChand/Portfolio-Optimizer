{
 "cells": [
  {
   "cell_type": "code",
   "execution_count": 27,
   "id": "a457ee42",
   "metadata": {},
   "outputs": [],
   "source": [
    "import yfinance as yf\n",
    "import pandas as pd\n",
    "import matplotlib.pyplot as plt\n",
    "import numpy as np\n",
    "import seaborn as sns\n",
    "from datetime import datetime\n",
    "import cvxpy as cp\n",
    "import time\n",
    "import plotly.graph_objects as go\n",
    "import plotly.express as px\n",
    "import dash\n",
    "from dash import html, dcc\n",
    "import plotly.io as pio"
   ]
  },
  {
   "cell_type": "code",
   "execution_count": 28,
   "id": "849310b0",
   "metadata": {
    "lines_to_next_cell": 2
   },
   "outputs": [],
   "source": [
    "pio.renderers.default = \"notebook_connected\""
   ]
  },
  {
   "cell_type": "markdown",
   "id": "549b9d21",
   "metadata": {},
   "source": [
    "Aggressive and Defensive portfolios\n",
    "This is a fairly well-diversified selection — spanning IT, Energy, Banking, Pharma, FMCG,etc."
   ]
  },
  {
   "cell_type": "code",
   "execution_count": 29,
   "id": "2b28c75b",
   "metadata": {},
   "outputs": [],
   "source": [
    "aggressive_tickers = [\"TSLA\", \"RELIANCE.NS\", \"INDA\",\"AAPL\",\"NVDA\",\"QQQ\",\"ARKK\",\"META\"]\n",
    "defensive_tickers = [\"WMT\", \"GLD\", \"CIPLA.NS\", \"SBILIFE.NS\",\"TLT\",\"VNQ\",\"XLU\",\"MCD\"]"
   ]
  },
  {
   "cell_type": "markdown",
   "id": "7bca877f",
   "metadata": {},
   "source": [
    "Training dates"
   ]
  },
  {
   "cell_type": "code",
   "execution_count": 4,
   "id": "8d38da5a",
   "metadata": {
    "lines_to_next_cell": 1
   },
   "outputs": [],
   "source": [
    "start_date = \"2019-04-01\"\n",
    "end_date = \"2022-03-31\""
   ]
  },
  {
   "cell_type": "markdown",
   "id": "f7161d72",
   "metadata": {},
   "source": [
    "Function to load the data"
   ]
  },
  {
   "cell_type": "code",
   "execution_count": 7,
   "id": "21b39c63",
   "metadata": {
    "lines_to_next_cell": 1
   },
   "outputs": [],
   "source": [
    "def download_price_and_returns(tickers, start_date, end_date):\n",
    "    all_closes = pd.DataFrame()\n",
    "    for ticker in tickers:\n",
    "        try:\n",
    "            print(f\"Downloading {ticker}...\")\n",
    "            data = yf.download(ticker, start=start_date, end=end_date, auto_adjust=True)['Close']\n",
    "            all_closes[ticker] = data\n",
    "        except Exception as e:\n",
    "            print(f\"Failed to download {ticker}: {e}\")\n",
    "    \n",
    "    returns = all_closes.pct_change().dropna()\n",
    "    return all_closes, returns"
   ]
  },
  {
   "cell_type": "markdown",
   "id": "2aa04c71",
   "metadata": {},
   "source": [
    "Testing dates"
   ]
  },
  {
   "cell_type": "code",
   "execution_count": 8,
   "id": "e3f45b92",
   "metadata": {
    "lines_to_next_cell": 1
   },
   "outputs": [],
   "source": [
    "start_date2 = \"2022-04-01\"\n",
    "end_date2 = \"2025-03-31\""
   ]
  },
  {
   "cell_type": "markdown",
   "id": "342c3d45",
   "metadata": {},
   "source": [
    "Markowitz Optimization"
   ]
  },
  {
   "cell_type": "markdown",
   "id": "01fb609d",
   "metadata": {},
   "source": [
    "We have split our optimization into two parts one for the aggressive and one for the defensive tickers , aiming at good returns and low volatility."
   ]
  },
  {
   "cell_type": "markdown",
   "id": "aa210050",
   "metadata": {},
   "source": [
    "Defensive Optimizer"
   ]
  },
  {
   "cell_type": "code",
   "execution_count": 9,
   "id": "d225c34e",
   "metadata": {
    "lines_to_next_cell": 1
   },
   "outputs": [],
   "source": [
    "def def_markowitz_optimizer(mean_returns, cov_matrix, target_returns, weight_bounds=(0.0,0.33), risk_free_rate=0.06):\n",
    "    n_assets = len(mean_returns)\n",
    "    weights = cp.Variable(n_assets)\n",
    "    portfolio_risk = cp.quad_form(weights, cov_matrix)\n",
    "    portfolio_return = mean_returns.values @ weights\n",
    "\n",
    "    results = {\n",
    "        'risks': [],\n",
    "        'weights': [],\n",
    "        'sharpe_ratios': [],\n",
    "    }\n",
    "\n",
    "    for target in target_returns:\n",
    "        constraints = [\n",
    "            cp.sum(weights) == 1,\n",
    "            weights >= weight_bounds[0],\n",
    "            weights <= weight_bounds[1],\n",
    "            portfolio_return >= target\n",
    "        ]\n",
    "        prob = cp.Problem(cp.Minimize(portfolio_risk), constraints)\n",
    "        prob.solve()\n",
    "\n",
    "        if weights.value is not None:\n",
    "            w = weights.value\n",
    "            vol = np.sqrt(w.T @ cov_matrix.values @ w)\n",
    "            ann_return = mean_returns.values @ w * 252\n",
    "            sharpe = (ann_return - risk_free_rate) / vol\n",
    "            results['risks'].append(vol)\n",
    "            results['weights'].append(w)\n",
    "            results['sharpe_ratios'].append(sharpe)\n",
    "\n",
    "    idx_best = int(np.argmax(results['sharpe_ratios']))\n",
    "    return results, idx_best"
   ]
  },
  {
   "cell_type": "markdown",
   "id": "88f98fdb",
   "metadata": {},
   "source": [
    "Aggressive Optimizer"
   ]
  },
  {
   "cell_type": "code",
   "execution_count": 11,
   "id": "cde16aab",
   "metadata": {
    "lines_to_next_cell": 1
   },
   "outputs": [],
   "source": [
    "def agg_markowitz_optimizer(mean_returns, cov_matrix, target_returns, weight_bounds=(0, 0.3), risk_free_rate=0.06):\n",
    "    n_assets = len(mean_returns)\n",
    "    weights = cp.Variable(n_assets)\n",
    "    portfolio_risk = cp.quad_form(weights, cov_matrix)\n",
    "    portfolio_return = mean_returns.values @ weights\n",
    "\n",
    "    results = {\n",
    "        'risks': [],\n",
    "        'weights': [],\n",
    "        'sharpe_ratios': [],\n",
    "    } \n",
    "\n",
    "    for target in target_returns:\n",
    "        constraints = [\n",
    "            cp.sum(weights) == 1,\n",
    "            weights >= weight_bounds[0],\n",
    "            weights <= weight_bounds[1],\n",
    "            portfolio_return >= target\n",
    "        ]\n",
    "        prob = cp.Problem(cp.Maximize(portfolio_return), constraints)\n",
    "        prob.solve()\n",
    "\n",
    "        if weights.value is not None:\n",
    "            w = weights.value\n",
    "            vol = np.sqrt(w.T @ cov_matrix.values @ w)\n",
    "            ann_return = mean_returns.values @ w * 252\n",
    "            sharpe = (ann_return - risk_free_rate) / vol\n",
    "            results['risks'].append(vol)\n",
    "            results['weights'].append(w)\n",
    "            results['sharpe_ratios'].append(sharpe)\n",
    "\n",
    "    idx_best = int(np.argmax(results['sharpe_ratios']))\n",
    "    return results, idx_best"
   ]
  },
  {
   "cell_type": "markdown",
   "id": "dc07637a",
   "metadata": {},
   "source": [
    "Aggressive portfolio"
   ]
  },
  {
   "cell_type": "code",
   "execution_count": 12,
   "id": "5a9ed82d",
   "metadata": {},
   "outputs": [
    {
     "name": "stdout",
     "output_type": "stream",
     "text": [
      "Downloading TSLA...\n"
     ]
    },
    {
     "name": "stderr",
     "output_type": "stream",
     "text": [
      "[*********************100%***********************]  1 of 1 completed\n"
     ]
    },
    {
     "name": "stdout",
     "output_type": "stream",
     "text": [
      "Downloading RELIANCE.NS...\n"
     ]
    },
    {
     "name": "stderr",
     "output_type": "stream",
     "text": [
      "[*********************100%***********************]  1 of 1 completed\n"
     ]
    },
    {
     "name": "stdout",
     "output_type": "stream",
     "text": [
      "Downloading INDA...\n"
     ]
    },
    {
     "name": "stderr",
     "output_type": "stream",
     "text": [
      "[*********************100%***********************]  1 of 1 completed\n"
     ]
    },
    {
     "name": "stdout",
     "output_type": "stream",
     "text": [
      "Downloading AAPL...\n"
     ]
    },
    {
     "name": "stderr",
     "output_type": "stream",
     "text": [
      "[*********************100%***********************]  1 of 1 completed\n"
     ]
    },
    {
     "name": "stdout",
     "output_type": "stream",
     "text": [
      "Downloading NVDA...\n"
     ]
    },
    {
     "name": "stderr",
     "output_type": "stream",
     "text": [
      "[*********************100%***********************]  1 of 1 completed\n"
     ]
    },
    {
     "name": "stdout",
     "output_type": "stream",
     "text": [
      "Downloading QQQ...\n"
     ]
    },
    {
     "name": "stderr",
     "output_type": "stream",
     "text": [
      "[*********************100%***********************]  1 of 1 completed\n"
     ]
    },
    {
     "name": "stdout",
     "output_type": "stream",
     "text": [
      "Downloading ARKK...\n"
     ]
    },
    {
     "name": "stderr",
     "output_type": "stream",
     "text": [
      "[*********************100%***********************]  1 of 1 completed\n"
     ]
    },
    {
     "name": "stdout",
     "output_type": "stream",
     "text": [
      "Downloading META...\n"
     ]
    },
    {
     "name": "stderr",
     "output_type": "stream",
     "text": [
      "[*********************100%***********************]  1 of 1 completed\n",
      "C:\\Users\\arshc\\AppData\\Local\\Temp\\ipykernel_12632\\1025574677.py:11: FutureWarning:\n",
      "\n",
      "The default fill_method='pad' in DataFrame.pct_change is deprecated and will be removed in a future version. Either fill in any non-leading NA values prior to calling pct_change or specify 'fill_method=None' to not fill NA values.\n",
      "\n"
     ]
    }
   ],
   "source": [
    "agg_data, agg_returns = download_price_and_returns(aggressive_tickers, start_date, end_date)\n",
    "agg_mean = agg_returns.mean()\n",
    "agg_cov = agg_returns.cov()\n",
    "agg_results, agg_best_index = agg_markowitz_optimizer(agg_mean, agg_cov, np.linspace(agg_mean.min(), agg_mean.max(), 50))"
   ]
  },
  {
   "cell_type": "markdown",
   "id": "8fbdac27",
   "metadata": {},
   "source": [
    "Defensive portfolio"
   ]
  },
  {
   "cell_type": "code",
   "execution_count": 13,
   "id": "ac6ac6ac",
   "metadata": {
    "lines_to_next_cell": 2
   },
   "outputs": [
    {
     "name": "stdout",
     "output_type": "stream",
     "text": [
      "Downloading WMT...\n"
     ]
    },
    {
     "name": "stderr",
     "output_type": "stream",
     "text": [
      "[*********************100%***********************]  1 of 1 completed\n"
     ]
    },
    {
     "name": "stdout",
     "output_type": "stream",
     "text": [
      "Downloading GLD...\n"
     ]
    },
    {
     "name": "stderr",
     "output_type": "stream",
     "text": [
      "[*********************100%***********************]  1 of 1 completed\n"
     ]
    },
    {
     "name": "stdout",
     "output_type": "stream",
     "text": [
      "Downloading CIPLA.NS...\n"
     ]
    },
    {
     "name": "stderr",
     "output_type": "stream",
     "text": [
      "[*********************100%***********************]  1 of 1 completed\n"
     ]
    },
    {
     "name": "stdout",
     "output_type": "stream",
     "text": [
      "Downloading SBILIFE.NS...\n"
     ]
    },
    {
     "name": "stderr",
     "output_type": "stream",
     "text": [
      "[*********************100%***********************]  1 of 1 completed\n"
     ]
    },
    {
     "name": "stdout",
     "output_type": "stream",
     "text": [
      "Downloading TLT...\n"
     ]
    },
    {
     "name": "stderr",
     "output_type": "stream",
     "text": [
      "[*********************100%***********************]  1 of 1 completed\n"
     ]
    },
    {
     "name": "stdout",
     "output_type": "stream",
     "text": [
      "Downloading VNQ...\n"
     ]
    },
    {
     "name": "stderr",
     "output_type": "stream",
     "text": [
      "[*********************100%***********************]  1 of 1 completed\n"
     ]
    },
    {
     "name": "stdout",
     "output_type": "stream",
     "text": [
      "Downloading XLU...\n"
     ]
    },
    {
     "name": "stderr",
     "output_type": "stream",
     "text": [
      "[*********************100%***********************]  1 of 1 completed\n"
     ]
    },
    {
     "name": "stdout",
     "output_type": "stream",
     "text": [
      "Downloading MCD...\n"
     ]
    },
    {
     "name": "stderr",
     "output_type": "stream",
     "text": [
      "[*********************100%***********************]  1 of 1 completed\n",
      "C:\\Users\\arshc\\AppData\\Local\\Temp\\ipykernel_12632\\1025574677.py:11: FutureWarning:\n",
      "\n",
      "The default fill_method='pad' in DataFrame.pct_change is deprecated and will be removed in a future version. Either fill in any non-leading NA values prior to calling pct_change or specify 'fill_method=None' to not fill NA values.\n",
      "\n"
     ]
    }
   ],
   "source": [
    "def_data, def_returns = download_price_and_returns(defensive_tickers, start_date, end_date)\n",
    "def_mean = def_returns.mean()\n",
    "def_cov = def_returns.cov()\n",
    "def_results, def_best_index = def_markowitz_optimizer(def_mean, def_cov, np.linspace(def_mean.min(), def_mean.max(), 50))"
   ]
  },
  {
   "cell_type": "markdown",
   "id": "6c6ee433",
   "metadata": {},
   "source": [
    "Weight Splits(agg & def separately)"
   ]
  },
  {
   "cell_type": "code",
   "execution_count": 14,
   "id": "eee196e5",
   "metadata": {
    "lines_to_next_cell": 1
   },
   "outputs": [
    {
     "name": "stdout",
     "output_type": "stream",
     "text": [
      "Optimal Portfolio Weights:\n",
      "{'TSLA': np.float64(0.3), 'RELIANCE.NS': np.float64(0.1), 'INDA': np.float64(0.0), 'AAPL': np.float64(0.3), 'NVDA': np.float64(0.3), 'QQQ': np.float64(0.0), 'ARKK': np.float64(0.0), 'META': np.float64(0.0)}\n",
      "Optimal Portfolio Weights:\n",
      "{'WMT': np.float64(0.2496), 'GLD': np.float64(0.33), 'CIPLA.NS': np.float64(0.1948), 'SBILIFE.NS': np.float64(0.2246), 'TLT': np.float64(0.001), 'VNQ': np.float64(-0.0), 'XLU': np.float64(-0.0), 'MCD': np.float64(-0.0)}\n"
     ]
    }
   ],
   "source": [
    "agg_optimal_weights = agg_results['weights'][agg_best_index]\n",
    "print(\"Optimal Portfolio Weights:\")\n",
    "print(dict(zip(aggressive_tickers, np.round(agg_optimal_weights, 4))))\n",
    "def_optimal_weights = def_results['weights'][def_best_index]\n",
    "print(\"Optimal Portfolio Weights:\")\n",
    "print(dict(zip(defensive_tickers, np.round(def_optimal_weights, 4))))"
   ]
  },
  {
   "cell_type": "markdown",
   "id": "3ed60672",
   "metadata": {},
   "source": [
    "Testing"
   ]
  },
  {
   "cell_type": "code",
   "execution_count": 15,
   "id": "a6e56b6d",
   "metadata": {
    "lines_to_next_cell": 1
   },
   "outputs": [],
   "source": [
    "def backtest_portfolio(returns_df, weights, initial_capital=100000, annual_risk_free_rate=0.06):\n",
    "    # 1. Daily portfolio returns\n",
    "    portfolio_daily_returns = returns_df @ weights\n",
    "\n",
    "    # 2. Portfolio value over time\n",
    "    portfolio_value = (1 + portfolio_daily_returns).cumprod() * initial_capital\n",
    "\n",
    "    # 3. Performance metrics\n",
    "    total_return = portfolio_value.iloc[-1] / initial_capital - 1\n",
    "    annualized_return = (1 + total_return) ** (1/3) - 1  # 3-year period\n",
    "    annualized_volatility = portfolio_daily_returns.std() * np.sqrt(252)\n",
    "    sharpe_ratio = (annualized_return - annual_risk_free_rate) / annualized_volatility\n",
    "\n",
    "    metrics = {\n",
    "        \"Total Return\": total_return,\n",
    "        \"Annualized Return\": annualized_return,\n",
    "        \"Annualized Volatility\": annualized_volatility,\n",
    "        \"Sharpe Ratio\": sharpe_ratio\n",
    "    }\n",
    "\n",
    "    return portfolio_value, metrics"
   ]
  },
  {
   "cell_type": "code",
   "execution_count": 16,
   "id": "7804bb66",
   "metadata": {},
   "outputs": [],
   "source": [
    "agg_weights = agg_results['weights'][agg_best_index]\n",
    "def_weights = def_results['weights'][def_best_index]"
   ]
  },
  {
   "cell_type": "markdown",
   "id": "f4833eba",
   "metadata": {},
   "source": [
    "Get test returns for 2022–2025"
   ]
  },
  {
   "cell_type": "code",
   "execution_count": 17,
   "id": "9a8d258b",
   "metadata": {},
   "outputs": [
    {
     "name": "stdout",
     "output_type": "stream",
     "text": [
      "Downloading TSLA...\n"
     ]
    },
    {
     "name": "stderr",
     "output_type": "stream",
     "text": [
      "[*********************100%***********************]  1 of 1 completed\n"
     ]
    },
    {
     "name": "stdout",
     "output_type": "stream",
     "text": [
      "Downloading RELIANCE.NS...\n"
     ]
    },
    {
     "name": "stderr",
     "output_type": "stream",
     "text": [
      "[*********************100%***********************]  1 of 1 completed\n"
     ]
    },
    {
     "name": "stdout",
     "output_type": "stream",
     "text": [
      "Downloading INDA...\n"
     ]
    },
    {
     "name": "stderr",
     "output_type": "stream",
     "text": [
      "[*********************100%***********************]  1 of 1 completed\n"
     ]
    },
    {
     "name": "stdout",
     "output_type": "stream",
     "text": [
      "Downloading AAPL...\n"
     ]
    },
    {
     "name": "stderr",
     "output_type": "stream",
     "text": [
      "[*********************100%***********************]  1 of 1 completed\n"
     ]
    },
    {
     "name": "stdout",
     "output_type": "stream",
     "text": [
      "Downloading NVDA...\n"
     ]
    },
    {
     "name": "stderr",
     "output_type": "stream",
     "text": [
      "[*********************100%***********************]  1 of 1 completed\n"
     ]
    },
    {
     "name": "stdout",
     "output_type": "stream",
     "text": [
      "Downloading QQQ...\n"
     ]
    },
    {
     "name": "stderr",
     "output_type": "stream",
     "text": [
      "[*********************100%***********************]  1 of 1 completed\n"
     ]
    },
    {
     "name": "stdout",
     "output_type": "stream",
     "text": [
      "Downloading ARKK...\n"
     ]
    },
    {
     "name": "stderr",
     "output_type": "stream",
     "text": [
      "[*********************100%***********************]  1 of 1 completed\n"
     ]
    },
    {
     "name": "stdout",
     "output_type": "stream",
     "text": [
      "Downloading META...\n"
     ]
    },
    {
     "name": "stderr",
     "output_type": "stream",
     "text": [
      "[*********************100%***********************]  1 of 1 completed\n",
      "C:\\Users\\arshc\\AppData\\Local\\Temp\\ipykernel_12632\\1025574677.py:11: FutureWarning:\n",
      "\n",
      "The default fill_method='pad' in DataFrame.pct_change is deprecated and will be removed in a future version. Either fill in any non-leading NA values prior to calling pct_change or specify 'fill_method=None' to not fill NA values.\n",
      "\n"
     ]
    },
    {
     "name": "stdout",
     "output_type": "stream",
     "text": [
      "Downloading WMT...\n"
     ]
    },
    {
     "name": "stderr",
     "output_type": "stream",
     "text": [
      "[*********************100%***********************]  1 of 1 completed\n"
     ]
    },
    {
     "name": "stdout",
     "output_type": "stream",
     "text": [
      "Downloading GLD...\n"
     ]
    },
    {
     "name": "stderr",
     "output_type": "stream",
     "text": [
      "[*********************100%***********************]  1 of 1 completed\n"
     ]
    },
    {
     "name": "stdout",
     "output_type": "stream",
     "text": [
      "Downloading CIPLA.NS...\n"
     ]
    },
    {
     "name": "stderr",
     "output_type": "stream",
     "text": [
      "[*********************100%***********************]  1 of 1 completed\n"
     ]
    },
    {
     "name": "stdout",
     "output_type": "stream",
     "text": [
      "Downloading SBILIFE.NS...\n"
     ]
    },
    {
     "name": "stderr",
     "output_type": "stream",
     "text": [
      "[*********************100%***********************]  1 of 1 completed\n"
     ]
    },
    {
     "name": "stdout",
     "output_type": "stream",
     "text": [
      "Downloading TLT...\n"
     ]
    },
    {
     "name": "stderr",
     "output_type": "stream",
     "text": [
      "[*********************100%***********************]  1 of 1 completed\n"
     ]
    },
    {
     "name": "stdout",
     "output_type": "stream",
     "text": [
      "Downloading VNQ...\n"
     ]
    },
    {
     "name": "stderr",
     "output_type": "stream",
     "text": [
      "[*********************100%***********************]  1 of 1 completed\n"
     ]
    },
    {
     "name": "stdout",
     "output_type": "stream",
     "text": [
      "Downloading XLU...\n"
     ]
    },
    {
     "name": "stderr",
     "output_type": "stream",
     "text": [
      "[*********************100%***********************]  1 of 1 completed\n"
     ]
    },
    {
     "name": "stdout",
     "output_type": "stream",
     "text": [
      "Downloading MCD...\n"
     ]
    },
    {
     "name": "stderr",
     "output_type": "stream",
     "text": [
      "[*********************100%***********************]  1 of 1 completed\n",
      "C:\\Users\\arshc\\AppData\\Local\\Temp\\ipykernel_12632\\1025574677.py:11: FutureWarning:\n",
      "\n",
      "The default fill_method='pad' in DataFrame.pct_change is deprecated and will be removed in a future version. Either fill in any non-leading NA values prior to calling pct_change or specify 'fill_method=None' to not fill NA values.\n",
      "\n"
     ]
    }
   ],
   "source": [
    "agg_test_data, agg_test_returns = download_price_and_returns(aggressive_tickers, start_date2, end_date2)\n",
    "def_test_data, def_test_returns = download_price_and_returns(defensive_tickers, start_date2, end_date2)"
   ]
  },
  {
   "cell_type": "markdown",
   "id": "1ad8aadf",
   "metadata": {},
   "source": [
    "Backtest "
   ]
  },
  {
   "cell_type": "code",
   "execution_count": 18,
   "id": "1e17b2c2",
   "metadata": {},
   "outputs": [],
   "source": [
    "agg_value, agg_metrics = backtest_portfolio(agg_test_returns, agg_weights, initial_capital=8000)\n",
    "def_value, def_metrics = backtest_portfolio(def_test_returns, def_weights, initial_capital=92000)"
   ]
  },
  {
   "cell_type": "code",
   "execution_count": 19,
   "id": "b687fece",
   "metadata": {},
   "outputs": [],
   "source": [
    "combined_tickers = aggressive_tickers + defensive_tickers\n",
    "combined_weights = list(0.08 * np.array(agg_weights)) + list(0.92 * np.array(def_weights))"
   ]
  },
  {
   "cell_type": "code",
   "execution_count": 20,
   "id": "439de4e4",
   "metadata": {
    "lines_to_next_cell": 2
   },
   "outputs": [],
   "source": [
    "combined_returns = pd.concat([agg_test_returns, def_test_returns], axis=1)"
   ]
  },
  {
   "cell_type": "code",
   "execution_count": 21,
   "id": "ae89c8ff",
   "metadata": {
    "lines_to_next_cell": 2
   },
   "outputs": [],
   "source": [
    "combined_tickers = aggressive_tickers + defensive_tickers\n",
    "combined_returns.columns = combined_tickers"
   ]
  },
  {
   "cell_type": "code",
   "execution_count": 22,
   "id": "4058c942",
   "metadata": {},
   "outputs": [
    {
     "name": "stdout",
     "output_type": "stream",
     "text": [
      "\n",
      "Backtest Performance:\n"
     ]
    }
   ],
   "source": [
    "print(\"\\nBacktest Performance:\")\n",
    "combined_value, combined_metrics = backtest_portfolio(combined_returns, combined_weights, initial_capital=100000)"
   ]
  },
  {
   "cell_type": "code",
   "execution_count": 23,
   "id": "d5d363bd",
   "metadata": {},
   "outputs": [
    {
     "name": "stdout",
     "output_type": "stream",
     "text": [
      "----- Combined Portfolio Metrics -----\n",
      "Total Return: 0.6550467182190884\n",
      "Annualized Return: 0.1828692786142474\n",
      "Annualized Volatility: 0.10765288827672423\n",
      "Sharpe Ratio: 1.1413467913504474\n"
     ]
    }
   ],
   "source": [
    "print(\"----- Combined Portfolio Metrics -----\")\n",
    "for key, value in combined_metrics.items():\n",
    "    print(f\"{key}: {value}\")"
   ]
  },
  {
   "cell_type": "markdown",
   "id": "48850e9f",
   "metadata": {},
   "source": [
    "plot results"
   ]
  },
  {
   "cell_type": "code",
   "execution_count": 30,
   "id": "e452f959",
   "metadata": {},
   "outputs": [],
   "source": [
    "def plot_results_interactive_combined(\n",
    "    agg_results, agg_best_index, agg_tickers, agg_portfolio_value, agg_weights,\n",
    "    def_results, def_best_index, def_tickers, def_portfolio_value, def_weights\n",
    "):\n",
    "    total_value = agg_portfolio_value + def_portfolio_value\n",
    "    total_weights = np.concatenate([agg_weights * 0.08, def_weights * 0.92])\n",
    "    total_tickers = agg_tickers + def_tickers\n",
    "\n",
    "    # --- Pie Chart ---\n",
    "    min_allocation_threshold = 0.02\n",
    "    rounded_weights = np.round(total_weights, 4)\n",
    "\n",
    "    filtered = [(t, w) for t, w in zip(total_tickers, rounded_weights) if w > min_allocation_threshold]\n",
    "    if filtered:\n",
    "        new_tickers, new_weights = zip(*filtered)\n",
    "    else:\n",
    "        new_tickers, new_weights = [], []\n",
    "\n",
    "    sorted_allocation = sorted(zip(new_tickers, new_weights), key=lambda x: x[1], reverse=True)\n",
    "    new_tickers, new_weights = zip(*sorted_allocation)\n",
    "\n",
    "    fig = go.Figure(data=[go.Pie(labels=new_tickers, values=new_weights, hole=0.3)])\n",
    "    fig.update_layout(title=\"Combined Portfolio Allocation\", template=\"plotly_dark\")\n",
    "    fig.show()\n",
    "\n",
    "    # --- Value Over Time Chart ---\n",
    "    fig = go.Figure()\n",
    "    fig.add_trace(go.Scatter(x=total_value.index, y=total_value.values, mode='lines', name='Total Portfolio', line=dict(color='yellow')))\n",
    "    fig.add_trace(go.Scatter(x=agg_portfolio_value.index, y=agg_portfolio_value.values, mode='lines', name='Aggressive', line=dict(color='red')))\n",
    "    fig.add_trace(go.Scatter(x=def_portfolio_value.index, y=def_portfolio_value.values, mode='lines', name='Defensive', line=dict(color='green')))\n",
    "\n",
    "    fig.update_layout(\n",
    "        title=\"Portfolio Performance (Apr 2022 - Mar 2025)\",\n",
    "        xaxis_title=\"Date\",\n",
    "        yaxis_title=\"Value (INR)\",\n",
    "        template=\"plotly_dark\"\n",
    "    )\n",
    "    fig.show()\n",
    "\n",
    "    # --- Bar Chart with Optimization ---\n",
    "    assert len(total_weights) == len(total_tickers), \"Mismatch in weights and tickers\"\n",
    "\n",
    "    allocation_inr = pd.Series(total_weights * 100000, index=total_tickers)\n",
    "    allocation_df = allocation_inr.reset_index()\n",
    "    allocation_df.columns = ['Ticker', 'Allocation (INR)']\n",
    "\n",
    "    allocation_df = allocation_df[allocation_df[\"Allocation (INR)\"] > 100]  # Filter low weights\n",
    "    allocation_df = allocation_df.sort_values(\"Allocation (INR)\", ascending=False)\n",
    "\n",
    "    fig = px.bar(allocation_df,\n",
    "                 x='Ticker', y='Allocation (INR)',\n",
    "                 title=\"Combined Portfolio Allocation (₹100,000)\",\n",
    "                 template='plotly_dark')\n",
    "\n",
    "    fig.update_traces(texttemplate='', textposition='none')  \n",
    "    fig.update_layout(uniformtext_minsize=8, uniformtext_mode='hide')\n",
    "    fig.show()"
   ]
  },
  {
   "cell_type": "code",
   "execution_count": 32,
   "id": "72820469",
   "metadata": {
    "lines_to_next_cell": 2
   },
   "outputs": [
    {
     "data": {
      "text/html": [
       "<div>            <script src=\"https://cdnjs.cloudflare.com/ajax/libs/mathjax/2.7.5/MathJax.js?config=TeX-AMS-MML_SVG\"></script><script type=\"text/javascript\">if (window.MathJax && window.MathJax.Hub && window.MathJax.Hub.Config) {window.MathJax.Hub.Config({SVG: {font: \"STIX-Web\"}});}</script>                <script type=\"text/javascript\">window.PlotlyConfig = {MathJaxConfig: 'local'};</script>\n",
       "        <script charset=\"utf-8\" src=\"https://cdn.plot.ly/plotly-3.0.1.min.js\"></script>                <div id=\"8946678a-0588-4ff2-8b0c-c2e215a01f4e\" class=\"plotly-graph-div\" style=\"height:525px; width:100%;\"></div>            <script type=\"text/javascript\">                window.PLOTLYENV=window.PLOTLYENV || {};                                if (document.getElementById(\"8946678a-0588-4ff2-8b0c-c2e215a01f4e\")) {                    Plotly.newPlot(                        \"8946678a-0588-4ff2-8b0c-c2e215a01f4e\",                        [{\"hole\":0.3,\"labels\":[\"GLD\",\"WMT\",\"SBILIFE.NS\",\"CIPLA.NS\",\"TSLA\",\"AAPL\",\"NVDA\"],\"values\":[0.3036,0.2296,0.2066,0.1792,0.024,0.024,0.024],\"type\":\"pie\"}],                        {\"template\":{\"data\":{\"barpolar\":[{\"marker\":{\"line\":{\"color\":\"rgb(17,17,17)\",\"width\":0.5},\"pattern\":{\"fillmode\":\"overlay\",\"size\":10,\"solidity\":0.2}},\"type\":\"barpolar\"}],\"bar\":[{\"error_x\":{\"color\":\"#f2f5fa\"},\"error_y\":{\"color\":\"#f2f5fa\"},\"marker\":{\"line\":{\"color\":\"rgb(17,17,17)\",\"width\":0.5},\"pattern\":{\"fillmode\":\"overlay\",\"size\":10,\"solidity\":0.2}},\"type\":\"bar\"}],\"carpet\":[{\"aaxis\":{\"endlinecolor\":\"#A2B1C6\",\"gridcolor\":\"#506784\",\"linecolor\":\"#506784\",\"minorgridcolor\":\"#506784\",\"startlinecolor\":\"#A2B1C6\"},\"baxis\":{\"endlinecolor\":\"#A2B1C6\",\"gridcolor\":\"#506784\",\"linecolor\":\"#506784\",\"minorgridcolor\":\"#506784\",\"startlinecolor\":\"#A2B1C6\"},\"type\":\"carpet\"}],\"choropleth\":[{\"colorbar\":{\"outlinewidth\":0,\"ticks\":\"\"},\"type\":\"choropleth\"}],\"contourcarpet\":[{\"colorbar\":{\"outlinewidth\":0,\"ticks\":\"\"},\"type\":\"contourcarpet\"}],\"contour\":[{\"colorbar\":{\"outlinewidth\":0,\"ticks\":\"\"},\"colorscale\":[[0.0,\"#0d0887\"],[0.1111111111111111,\"#46039f\"],[0.2222222222222222,\"#7201a8\"],[0.3333333333333333,\"#9c179e\"],[0.4444444444444444,\"#bd3786\"],[0.5555555555555556,\"#d8576b\"],[0.6666666666666666,\"#ed7953\"],[0.7777777777777778,\"#fb9f3a\"],[0.8888888888888888,\"#fdca26\"],[1.0,\"#f0f921\"]],\"type\":\"contour\"}],\"heatmap\":[{\"colorbar\":{\"outlinewidth\":0,\"ticks\":\"\"},\"colorscale\":[[0.0,\"#0d0887\"],[0.1111111111111111,\"#46039f\"],[0.2222222222222222,\"#7201a8\"],[0.3333333333333333,\"#9c179e\"],[0.4444444444444444,\"#bd3786\"],[0.5555555555555556,\"#d8576b\"],[0.6666666666666666,\"#ed7953\"],[0.7777777777777778,\"#fb9f3a\"],[0.8888888888888888,\"#fdca26\"],[1.0,\"#f0f921\"]],\"type\":\"heatmap\"}],\"histogram2dcontour\":[{\"colorbar\":{\"outlinewidth\":0,\"ticks\":\"\"},\"colorscale\":[[0.0,\"#0d0887\"],[0.1111111111111111,\"#46039f\"],[0.2222222222222222,\"#7201a8\"],[0.3333333333333333,\"#9c179e\"],[0.4444444444444444,\"#bd3786\"],[0.5555555555555556,\"#d8576b\"],[0.6666666666666666,\"#ed7953\"],[0.7777777777777778,\"#fb9f3a\"],[0.8888888888888888,\"#fdca26\"],[1.0,\"#f0f921\"]],\"type\":\"histogram2dcontour\"}],\"histogram2d\":[{\"colorbar\":{\"outlinewidth\":0,\"ticks\":\"\"},\"colorscale\":[[0.0,\"#0d0887\"],[0.1111111111111111,\"#46039f\"],[0.2222222222222222,\"#7201a8\"],[0.3333333333333333,\"#9c179e\"],[0.4444444444444444,\"#bd3786\"],[0.5555555555555556,\"#d8576b\"],[0.6666666666666666,\"#ed7953\"],[0.7777777777777778,\"#fb9f3a\"],[0.8888888888888888,\"#fdca26\"],[1.0,\"#f0f921\"]],\"type\":\"histogram2d\"}],\"histogram\":[{\"marker\":{\"pattern\":{\"fillmode\":\"overlay\",\"size\":10,\"solidity\":0.2}},\"type\":\"histogram\"}],\"mesh3d\":[{\"colorbar\":{\"outlinewidth\":0,\"ticks\":\"\"},\"type\":\"mesh3d\"}],\"parcoords\":[{\"line\":{\"colorbar\":{\"outlinewidth\":0,\"ticks\":\"\"}},\"type\":\"parcoords\"}],\"pie\":[{\"automargin\":true,\"type\":\"pie\"}],\"scatter3d\":[{\"line\":{\"colorbar\":{\"outlinewidth\":0,\"ticks\":\"\"}},\"marker\":{\"colorbar\":{\"outlinewidth\":0,\"ticks\":\"\"}},\"type\":\"scatter3d\"}],\"scattercarpet\":[{\"marker\":{\"colorbar\":{\"outlinewidth\":0,\"ticks\":\"\"}},\"type\":\"scattercarpet\"}],\"scattergeo\":[{\"marker\":{\"colorbar\":{\"outlinewidth\":0,\"ticks\":\"\"}},\"type\":\"scattergeo\"}],\"scattergl\":[{\"marker\":{\"line\":{\"color\":\"#283442\"}},\"type\":\"scattergl\"}],\"scattermapbox\":[{\"marker\":{\"colorbar\":{\"outlinewidth\":0,\"ticks\":\"\"}},\"type\":\"scattermapbox\"}],\"scattermap\":[{\"marker\":{\"colorbar\":{\"outlinewidth\":0,\"ticks\":\"\"}},\"type\":\"scattermap\"}],\"scatterpolargl\":[{\"marker\":{\"colorbar\":{\"outlinewidth\":0,\"ticks\":\"\"}},\"type\":\"scatterpolargl\"}],\"scatterpolar\":[{\"marker\":{\"colorbar\":{\"outlinewidth\":0,\"ticks\":\"\"}},\"type\":\"scatterpolar\"}],\"scatter\":[{\"marker\":{\"line\":{\"color\":\"#283442\"}},\"type\":\"scatter\"}],\"scatterternary\":[{\"marker\":{\"colorbar\":{\"outlinewidth\":0,\"ticks\":\"\"}},\"type\":\"scatterternary\"}],\"surface\":[{\"colorbar\":{\"outlinewidth\":0,\"ticks\":\"\"},\"colorscale\":[[0.0,\"#0d0887\"],[0.1111111111111111,\"#46039f\"],[0.2222222222222222,\"#7201a8\"],[0.3333333333333333,\"#9c179e\"],[0.4444444444444444,\"#bd3786\"],[0.5555555555555556,\"#d8576b\"],[0.6666666666666666,\"#ed7953\"],[0.7777777777777778,\"#fb9f3a\"],[0.8888888888888888,\"#fdca26\"],[1.0,\"#f0f921\"]],\"type\":\"surface\"}],\"table\":[{\"cells\":{\"fill\":{\"color\":\"#506784\"},\"line\":{\"color\":\"rgb(17,17,17)\"}},\"header\":{\"fill\":{\"color\":\"#2a3f5f\"},\"line\":{\"color\":\"rgb(17,17,17)\"}},\"type\":\"table\"}]},\"layout\":{\"annotationdefaults\":{\"arrowcolor\":\"#f2f5fa\",\"arrowhead\":0,\"arrowwidth\":1},\"autotypenumbers\":\"strict\",\"coloraxis\":{\"colorbar\":{\"outlinewidth\":0,\"ticks\":\"\"}},\"colorscale\":{\"diverging\":[[0,\"#8e0152\"],[0.1,\"#c51b7d\"],[0.2,\"#de77ae\"],[0.3,\"#f1b6da\"],[0.4,\"#fde0ef\"],[0.5,\"#f7f7f7\"],[0.6,\"#e6f5d0\"],[0.7,\"#b8e186\"],[0.8,\"#7fbc41\"],[0.9,\"#4d9221\"],[1,\"#276419\"]],\"sequential\":[[0.0,\"#0d0887\"],[0.1111111111111111,\"#46039f\"],[0.2222222222222222,\"#7201a8\"],[0.3333333333333333,\"#9c179e\"],[0.4444444444444444,\"#bd3786\"],[0.5555555555555556,\"#d8576b\"],[0.6666666666666666,\"#ed7953\"],[0.7777777777777778,\"#fb9f3a\"],[0.8888888888888888,\"#fdca26\"],[1.0,\"#f0f921\"]],\"sequentialminus\":[[0.0,\"#0d0887\"],[0.1111111111111111,\"#46039f\"],[0.2222222222222222,\"#7201a8\"],[0.3333333333333333,\"#9c179e\"],[0.4444444444444444,\"#bd3786\"],[0.5555555555555556,\"#d8576b\"],[0.6666666666666666,\"#ed7953\"],[0.7777777777777778,\"#fb9f3a\"],[0.8888888888888888,\"#fdca26\"],[1.0,\"#f0f921\"]]},\"colorway\":[\"#636efa\",\"#EF553B\",\"#00cc96\",\"#ab63fa\",\"#FFA15A\",\"#19d3f3\",\"#FF6692\",\"#B6E880\",\"#FF97FF\",\"#FECB52\"],\"font\":{\"color\":\"#f2f5fa\"},\"geo\":{\"bgcolor\":\"rgb(17,17,17)\",\"lakecolor\":\"rgb(17,17,17)\",\"landcolor\":\"rgb(17,17,17)\",\"showlakes\":true,\"showland\":true,\"subunitcolor\":\"#506784\"},\"hoverlabel\":{\"align\":\"left\"},\"hovermode\":\"closest\",\"mapbox\":{\"style\":\"dark\"},\"paper_bgcolor\":\"rgb(17,17,17)\",\"plot_bgcolor\":\"rgb(17,17,17)\",\"polar\":{\"angularaxis\":{\"gridcolor\":\"#506784\",\"linecolor\":\"#506784\",\"ticks\":\"\"},\"bgcolor\":\"rgb(17,17,17)\",\"radialaxis\":{\"gridcolor\":\"#506784\",\"linecolor\":\"#506784\",\"ticks\":\"\"}},\"scene\":{\"xaxis\":{\"backgroundcolor\":\"rgb(17,17,17)\",\"gridcolor\":\"#506784\",\"gridwidth\":2,\"linecolor\":\"#506784\",\"showbackground\":true,\"ticks\":\"\",\"zerolinecolor\":\"#C8D4E3\"},\"yaxis\":{\"backgroundcolor\":\"rgb(17,17,17)\",\"gridcolor\":\"#506784\",\"gridwidth\":2,\"linecolor\":\"#506784\",\"showbackground\":true,\"ticks\":\"\",\"zerolinecolor\":\"#C8D4E3\"},\"zaxis\":{\"backgroundcolor\":\"rgb(17,17,17)\",\"gridcolor\":\"#506784\",\"gridwidth\":2,\"linecolor\":\"#506784\",\"showbackground\":true,\"ticks\":\"\",\"zerolinecolor\":\"#C8D4E3\"}},\"shapedefaults\":{\"line\":{\"color\":\"#f2f5fa\"}},\"sliderdefaults\":{\"bgcolor\":\"#C8D4E3\",\"bordercolor\":\"rgb(17,17,17)\",\"borderwidth\":1,\"tickwidth\":0},\"ternary\":{\"aaxis\":{\"gridcolor\":\"#506784\",\"linecolor\":\"#506784\",\"ticks\":\"\"},\"baxis\":{\"gridcolor\":\"#506784\",\"linecolor\":\"#506784\",\"ticks\":\"\"},\"bgcolor\":\"rgb(17,17,17)\",\"caxis\":{\"gridcolor\":\"#506784\",\"linecolor\":\"#506784\",\"ticks\":\"\"}},\"title\":{\"x\":0.05},\"updatemenudefaults\":{\"bgcolor\":\"#506784\",\"borderwidth\":0},\"xaxis\":{\"automargin\":true,\"gridcolor\":\"#283442\",\"linecolor\":\"#506784\",\"ticks\":\"\",\"title\":{\"standoff\":15},\"zerolinecolor\":\"#283442\",\"zerolinewidth\":2},\"yaxis\":{\"automargin\":true,\"gridcolor\":\"#283442\",\"linecolor\":\"#506784\",\"ticks\":\"\",\"title\":{\"standoff\":15},\"zerolinecolor\":\"#283442\",\"zerolinewidth\":2}}},\"title\":{\"text\":\"Combined Portfolio Allocation\"}},                        {\"responsive\": true}                    ).then(function(){\n",
       "                            \n",
       "var gd = document.getElementById('8946678a-0588-4ff2-8b0c-c2e215a01f4e');\n",
       "var x = new MutationObserver(function (mutations, observer) {{\n",
       "        var display = window.getComputedStyle(gd).display;\n",
       "        if (!display || display === 'none') {{\n",
       "            console.log([gd, 'removed!']);\n",
       "            Plotly.purge(gd);\n",
       "            observer.disconnect();\n",
       "        }}\n",
       "}});\n",
       "\n",
       "// Listen for the removal of the full notebook cells\n",
       "var notebookContainer = gd.closest('#notebook-container');\n",
       "if (notebookContainer) {{\n",
       "    x.observe(notebookContainer, {childList: true});\n",
       "}}\n",
       "\n",
       "// Listen for the clearing of the current output cell\n",
       "var outputEl = gd.closest('.output');\n",
       "if (outputEl) {{\n",
       "    x.observe(outputEl, {childList: true});\n",
       "}}\n",
       "\n",
       "                        })                };            </script>        </div>"
      ]
     },
     "metadata": {},
     "output_type": "display_data"
    },
    {
     "data": {
      "text/html": [
       "<div>            <script src=\"https://cdnjs.cloudflare.com/ajax/libs/mathjax/2.7.5/MathJax.js?config=TeX-AMS-MML_SVG\"></script><script type=\"text/javascript\">if (window.MathJax && window.MathJax.Hub && window.MathJax.Hub.Config) {window.MathJax.Hub.Config({SVG: {font: \"STIX-Web\"}});}</script>                <script type=\"text/javascript\">window.PlotlyConfig = {MathJaxConfig: 'local'};</script>\n",
       "        <script charset=\"utf-8\" src=\"https://cdn.plot.ly/plotly-3.0.1.min.js\"></script>                <div id=\"5520e660-a193-4931-ad24-1ff465de4800\" class=\"plotly-graph-div\" style=\"height:525px; width:100%;\"></div>            <script type=\"text/javascript\">                window.PLOTLYENV=window.PLOTLYENV || {};                                if (document.getElementById(\"5520e660-a193-4931-ad24-1ff465de4800\")) {                    Plotly.newPlot(                        \"5520e660-a193-4931-ad24-1ff465de4800\",                        [{\"line\":{\"color\":\"yellow\"},\"mode\":\"lines\",\"name\":\"Total Portfolio\",\"x\":[\"2022-04-04T00:00:00.000000000\",\"2022-04-05T00:00:00.000000000\",\"2022-04-06T00:00:00.000000000\",\"2022-04-07T00:00:00.000000000\",\"2022-04-08T00:00:00.000000000\",\"2022-04-11T00:00:00.000000000\",\"2022-04-12T00:00:00.000000000\",\"2022-04-13T00:00:00.000000000\",\"2022-04-14T00:00:00.000000000\",\"2022-04-18T00:00:00.000000000\",\"2022-04-19T00:00:00.000000000\",\"2022-04-20T00:00:00.000000000\",\"2022-04-21T00:00:00.000000000\",\"2022-04-22T00:00:00.000000000\",\"2022-04-25T00:00:00.000000000\",\"2022-04-26T00:00:00.000000000\",\"2022-04-27T00:00:00.000000000\",\"2022-04-28T00:00:00.000000000\",\"2022-04-29T00:00:00.000000000\",\"2022-05-02T00:00:00.000000000\",\"2022-05-03T00:00:00.000000000\",\"2022-05-04T00:00:00.000000000\",\"2022-05-05T00:00:00.000000000\",\"2022-05-06T00:00:00.000000000\",\"2022-05-09T00:00:00.000000000\",\"2022-05-10T00:00:00.000000000\",\"2022-05-11T00:00:00.000000000\",\"2022-05-12T00:00:00.000000000\",\"2022-05-13T00:00:00.000000000\",\"2022-05-16T00:00:00.000000000\",\"2022-05-17T00:00:00.000000000\",\"2022-05-18T00:00:00.000000000\",\"2022-05-19T00:00:00.000000000\",\"2022-05-20T00:00:00.000000000\",\"2022-05-23T00:00:00.000000000\",\"2022-05-24T00:00:00.000000000\",\"2022-05-25T00:00:00.000000000\",\"2022-05-26T00:00:00.000000000\",\"2022-05-27T00:00:00.000000000\",\"2022-05-31T00:00:00.000000000\",\"2022-06-01T00:00:00.000000000\",\"2022-06-02T00:00:00.000000000\",\"2022-06-03T00:00:00.000000000\",\"2022-06-06T00:00:00.000000000\",\"2022-06-07T00:00:00.000000000\",\"2022-06-08T00:00:00.000000000\",\"2022-06-09T00:00:00.000000000\",\"2022-06-10T00:00:00.000000000\",\"2022-06-13T00:00:00.000000000\",\"2022-06-14T00:00:00.000000000\",\"2022-06-15T00:00:00.000000000\",\"2022-06-16T00:00:00.000000000\",\"2022-06-17T00:00:00.000000000\",\"2022-06-21T00:00:00.000000000\",\"2022-06-22T00:00:00.000000000\",\"2022-06-23T00:00:00.000000000\",\"2022-06-24T00:00:00.000000000\",\"2022-06-27T00:00:00.000000000\",\"2022-06-28T00:00:00.000000000\",\"2022-06-29T00:00:00.000000000\",\"2022-06-30T00:00:00.000000000\",\"2022-07-01T00:00:00.000000000\",\"2022-07-05T00:00:00.000000000\",\"2022-07-06T00:00:00.000000000\",\"2022-07-07T00:00:00.000000000\",\"2022-07-08T00:00:00.000000000\",\"2022-07-11T00:00:00.000000000\",\"2022-07-12T00:00:00.000000000\",\"2022-07-13T00:00:00.000000000\",\"2022-07-14T00:00:00.000000000\",\"2022-07-15T00:00:00.000000000\",\"2022-07-18T00:00:00.000000000\",\"2022-07-19T00:00:00.000000000\",\"2022-07-20T00:00:00.000000000\",\"2022-07-21T00:00:00.000000000\",\"2022-07-22T00:00:00.000000000\",\"2022-07-25T00:00:00.000000000\",\"2022-07-26T00:00:00.000000000\",\"2022-07-27T00:00:00.000000000\",\"2022-07-28T00:00:00.000000000\",\"2022-07-29T00:00:00.000000000\",\"2022-08-01T00:00:00.000000000\",\"2022-08-02T00:00:00.000000000\",\"2022-08-03T00:00:00.000000000\",\"2022-08-04T00:00:00.000000000\",\"2022-08-05T00:00:00.000000000\",\"2022-08-08T00:00:00.000000000\",\"2022-08-09T00:00:00.000000000\",\"2022-08-10T00:00:00.000000000\",\"2022-08-11T00:00:00.000000000\",\"2022-08-12T00:00:00.000000000\",\"2022-08-15T00:00:00.000000000\",\"2022-08-16T00:00:00.000000000\",\"2022-08-17T00:00:00.000000000\",\"2022-08-18T00:00:00.000000000\",\"2022-08-19T00:00:00.000000000\",\"2022-08-22T00:00:00.000000000\",\"2022-08-23T00:00:00.000000000\",\"2022-08-24T00:00:00.000000000\",\"2022-08-25T00:00:00.000000000\",\"2022-08-26T00:00:00.000000000\",\"2022-08-29T00:00:00.000000000\",\"2022-08-30T00:00:00.000000000\",\"2022-08-31T00:00:00.000000000\",\"2022-09-01T00:00:00.000000000\",\"2022-09-02T00:00:00.000000000\",\"2022-09-06T00:00:00.000000000\",\"2022-09-07T00:00:00.000000000\",\"2022-09-08T00:00:00.000000000\",\"2022-09-09T00:00:00.000000000\",\"2022-09-12T00:00:00.000000000\",\"2022-09-13T00:00:00.000000000\",\"2022-09-14T00:00:00.000000000\",\"2022-09-15T00:00:00.000000000\",\"2022-09-16T00:00:00.000000000\",\"2022-09-19T00:00:00.000000000\",\"2022-09-20T00:00:00.000000000\",\"2022-09-21T00:00:00.000000000\",\"2022-09-22T00:00:00.000000000\",\"2022-09-23T00:00:00.000000000\",\"2022-09-26T00:00:00.000000000\",\"2022-09-27T00:00:00.000000000\",\"2022-09-28T00:00:00.000000000\",\"2022-09-29T00:00:00.000000000\",\"2022-09-30T00:00:00.000000000\",\"2022-10-03T00:00:00.000000000\",\"2022-10-04T00:00:00.000000000\",\"2022-10-05T00:00:00.000000000\",\"2022-10-06T00:00:00.000000000\",\"2022-10-07T00:00:00.000000000\",\"2022-10-10T00:00:00.000000000\",\"2022-10-11T00:00:00.000000000\",\"2022-10-12T00:00:00.000000000\",\"2022-10-13T00:00:00.000000000\",\"2022-10-14T00:00:00.000000000\",\"2022-10-17T00:00:00.000000000\",\"2022-10-18T00:00:00.000000000\",\"2022-10-19T00:00:00.000000000\",\"2022-10-20T00:00:00.000000000\",\"2022-10-21T00:00:00.000000000\",\"2022-10-24T00:00:00.000000000\",\"2022-10-25T00:00:00.000000000\",\"2022-10-26T00:00:00.000000000\",\"2022-10-27T00:00:00.000000000\",\"2022-10-28T00:00:00.000000000\",\"2022-10-31T00:00:00.000000000\",\"2022-11-01T00:00:00.000000000\",\"2022-11-02T00:00:00.000000000\",\"2022-11-03T00:00:00.000000000\",\"2022-11-04T00:00:00.000000000\",\"2022-11-07T00:00:00.000000000\",\"2022-11-08T00:00:00.000000000\",\"2022-11-09T00:00:00.000000000\",\"2022-11-10T00:00:00.000000000\",\"2022-11-11T00:00:00.000000000\",\"2022-11-14T00:00:00.000000000\",\"2022-11-15T00:00:00.000000000\",\"2022-11-16T00:00:00.000000000\",\"2022-11-17T00:00:00.000000000\",\"2022-11-18T00:00:00.000000000\",\"2022-11-21T00:00:00.000000000\",\"2022-11-22T00:00:00.000000000\",\"2022-11-23T00:00:00.000000000\",\"2022-11-25T00:00:00.000000000\",\"2022-11-28T00:00:00.000000000\",\"2022-11-29T00:00:00.000000000\",\"2022-11-30T00:00:00.000000000\",\"2022-12-01T00:00:00.000000000\",\"2022-12-02T00:00:00.000000000\",\"2022-12-05T00:00:00.000000000\",\"2022-12-06T00:00:00.000000000\",\"2022-12-07T00:00:00.000000000\",\"2022-12-08T00:00:00.000000000\",\"2022-12-09T00:00:00.000000000\",\"2022-12-12T00:00:00.000000000\",\"2022-12-13T00:00:00.000000000\",\"2022-12-14T00:00:00.000000000\",\"2022-12-15T00:00:00.000000000\",\"2022-12-16T00:00:00.000000000\",\"2022-12-19T00:00:00.000000000\",\"2022-12-20T00:00:00.000000000\",\"2022-12-21T00:00:00.000000000\",\"2022-12-22T00:00:00.000000000\",\"2022-12-23T00:00:00.000000000\",\"2022-12-27T00:00:00.000000000\",\"2022-12-28T00:00:00.000000000\",\"2022-12-29T00:00:00.000000000\",\"2022-12-30T00:00:00.000000000\",\"2023-01-03T00:00:00.000000000\",\"2023-01-04T00:00:00.000000000\",\"2023-01-05T00:00:00.000000000\",\"2023-01-06T00:00:00.000000000\",\"2023-01-09T00:00:00.000000000\",\"2023-01-10T00:00:00.000000000\",\"2023-01-11T00:00:00.000000000\",\"2023-01-12T00:00:00.000000000\",\"2023-01-13T00:00:00.000000000\",\"2023-01-17T00:00:00.000000000\",\"2023-01-18T00:00:00.000000000\",\"2023-01-19T00:00:00.000000000\",\"2023-01-20T00:00:00.000000000\",\"2023-01-23T00:00:00.000000000\",\"2023-01-24T00:00:00.000000000\",\"2023-01-25T00:00:00.000000000\",\"2023-01-26T00:00:00.000000000\",\"2023-01-27T00:00:00.000000000\",\"2023-01-30T00:00:00.000000000\",\"2023-01-31T00:00:00.000000000\",\"2023-02-01T00:00:00.000000000\",\"2023-02-02T00:00:00.000000000\",\"2023-02-03T00:00:00.000000000\",\"2023-02-06T00:00:00.000000000\",\"2023-02-07T00:00:00.000000000\",\"2023-02-08T00:00:00.000000000\",\"2023-02-09T00:00:00.000000000\",\"2023-02-10T00:00:00.000000000\",\"2023-02-13T00:00:00.000000000\",\"2023-02-14T00:00:00.000000000\",\"2023-02-15T00:00:00.000000000\",\"2023-02-16T00:00:00.000000000\",\"2023-02-17T00:00:00.000000000\",\"2023-02-21T00:00:00.000000000\",\"2023-02-22T00:00:00.000000000\",\"2023-02-23T00:00:00.000000000\",\"2023-02-24T00:00:00.000000000\",\"2023-02-27T00:00:00.000000000\",\"2023-02-28T00:00:00.000000000\",\"2023-03-01T00:00:00.000000000\",\"2023-03-02T00:00:00.000000000\",\"2023-03-03T00:00:00.000000000\",\"2023-03-06T00:00:00.000000000\",\"2023-03-07T00:00:00.000000000\",\"2023-03-08T00:00:00.000000000\",\"2023-03-09T00:00:00.000000000\",\"2023-03-10T00:00:00.000000000\",\"2023-03-13T00:00:00.000000000\",\"2023-03-14T00:00:00.000000000\",\"2023-03-15T00:00:00.000000000\",\"2023-03-16T00:00:00.000000000\",\"2023-03-17T00:00:00.000000000\",\"2023-03-20T00:00:00.000000000\",\"2023-03-21T00:00:00.000000000\",\"2023-03-22T00:00:00.000000000\",\"2023-03-23T00:00:00.000000000\",\"2023-03-24T00:00:00.000000000\",\"2023-03-27T00:00:00.000000000\",\"2023-03-28T00:00:00.000000000\",\"2023-03-29T00:00:00.000000000\",\"2023-03-30T00:00:00.000000000\",\"2023-03-31T00:00:00.000000000\",\"2023-04-03T00:00:00.000000000\",\"2023-04-04T00:00:00.000000000\",\"2023-04-05T00:00:00.000000000\",\"2023-04-06T00:00:00.000000000\",\"2023-04-10T00:00:00.000000000\",\"2023-04-11T00:00:00.000000000\",\"2023-04-12T00:00:00.000000000\",\"2023-04-13T00:00:00.000000000\",\"2023-04-14T00:00:00.000000000\",\"2023-04-17T00:00:00.000000000\",\"2023-04-18T00:00:00.000000000\",\"2023-04-19T00:00:00.000000000\",\"2023-04-20T00:00:00.000000000\",\"2023-04-21T00:00:00.000000000\",\"2023-04-24T00:00:00.000000000\",\"2023-04-25T00:00:00.000000000\",\"2023-04-26T00:00:00.000000000\",\"2023-04-27T00:00:00.000000000\",\"2023-04-28T00:00:00.000000000\",\"2023-05-01T00:00:00.000000000\",\"2023-05-02T00:00:00.000000000\",\"2023-05-03T00:00:00.000000000\",\"2023-05-04T00:00:00.000000000\",\"2023-05-05T00:00:00.000000000\",\"2023-05-08T00:00:00.000000000\",\"2023-05-09T00:00:00.000000000\",\"2023-05-10T00:00:00.000000000\",\"2023-05-11T00:00:00.000000000\",\"2023-05-12T00:00:00.000000000\",\"2023-05-15T00:00:00.000000000\",\"2023-05-16T00:00:00.000000000\",\"2023-05-17T00:00:00.000000000\",\"2023-05-18T00:00:00.000000000\",\"2023-05-19T00:00:00.000000000\",\"2023-05-22T00:00:00.000000000\",\"2023-05-23T00:00:00.000000000\",\"2023-05-24T00:00:00.000000000\",\"2023-05-25T00:00:00.000000000\",\"2023-05-26T00:00:00.000000000\",\"2023-05-30T00:00:00.000000000\",\"2023-05-31T00:00:00.000000000\",\"2023-06-01T00:00:00.000000000\",\"2023-06-02T00:00:00.000000000\",\"2023-06-05T00:00:00.000000000\",\"2023-06-06T00:00:00.000000000\",\"2023-06-07T00:00:00.000000000\",\"2023-06-08T00:00:00.000000000\",\"2023-06-09T00:00:00.000000000\",\"2023-06-12T00:00:00.000000000\",\"2023-06-13T00:00:00.000000000\",\"2023-06-14T00:00:00.000000000\",\"2023-06-15T00:00:00.000000000\",\"2023-06-16T00:00:00.000000000\",\"2023-06-20T00:00:00.000000000\",\"2023-06-21T00:00:00.000000000\",\"2023-06-22T00:00:00.000000000\",\"2023-06-23T00:00:00.000000000\",\"2023-06-26T00:00:00.000000000\",\"2023-06-27T00:00:00.000000000\",\"2023-06-28T00:00:00.000000000\",\"2023-06-29T00:00:00.000000000\",\"2023-06-30T00:00:00.000000000\",\"2023-07-03T00:00:00.000000000\",\"2023-07-05T00:00:00.000000000\",\"2023-07-06T00:00:00.000000000\",\"2023-07-07T00:00:00.000000000\",\"2023-07-10T00:00:00.000000000\",\"2023-07-11T00:00:00.000000000\",\"2023-07-12T00:00:00.000000000\",\"2023-07-13T00:00:00.000000000\",\"2023-07-14T00:00:00.000000000\",\"2023-07-17T00:00:00.000000000\",\"2023-07-18T00:00:00.000000000\",\"2023-07-19T00:00:00.000000000\",\"2023-07-20T00:00:00.000000000\",\"2023-07-21T00:00:00.000000000\",\"2023-07-24T00:00:00.000000000\",\"2023-07-25T00:00:00.000000000\",\"2023-07-26T00:00:00.000000000\",\"2023-07-27T00:00:00.000000000\",\"2023-07-28T00:00:00.000000000\",\"2023-07-31T00:00:00.000000000\",\"2023-08-01T00:00:00.000000000\",\"2023-08-02T00:00:00.000000000\",\"2023-08-03T00:00:00.000000000\",\"2023-08-04T00:00:00.000000000\",\"2023-08-07T00:00:00.000000000\",\"2023-08-08T00:00:00.000000000\",\"2023-08-09T00:00:00.000000000\",\"2023-08-10T00:00:00.000000000\",\"2023-08-11T00:00:00.000000000\",\"2023-08-14T00:00:00.000000000\",\"2023-08-15T00:00:00.000000000\",\"2023-08-16T00:00:00.000000000\",\"2023-08-17T00:00:00.000000000\",\"2023-08-18T00:00:00.000000000\",\"2023-08-21T00:00:00.000000000\",\"2023-08-22T00:00:00.000000000\",\"2023-08-23T00:00:00.000000000\",\"2023-08-24T00:00:00.000000000\",\"2023-08-25T00:00:00.000000000\",\"2023-08-28T00:00:00.000000000\",\"2023-08-29T00:00:00.000000000\",\"2023-08-30T00:00:00.000000000\",\"2023-08-31T00:00:00.000000000\",\"2023-09-01T00:00:00.000000000\",\"2023-09-05T00:00:00.000000000\",\"2023-09-06T00:00:00.000000000\",\"2023-09-07T00:00:00.000000000\",\"2023-09-08T00:00:00.000000000\",\"2023-09-11T00:00:00.000000000\",\"2023-09-12T00:00:00.000000000\",\"2023-09-13T00:00:00.000000000\",\"2023-09-14T00:00:00.000000000\",\"2023-09-15T00:00:00.000000000\",\"2023-09-18T00:00:00.000000000\",\"2023-09-19T00:00:00.000000000\",\"2023-09-20T00:00:00.000000000\",\"2023-09-21T00:00:00.000000000\",\"2023-09-22T00:00:00.000000000\",\"2023-09-25T00:00:00.000000000\",\"2023-09-26T00:00:00.000000000\",\"2023-09-27T00:00:00.000000000\",\"2023-09-28T00:00:00.000000000\",\"2023-09-29T00:00:00.000000000\",\"2023-10-02T00:00:00.000000000\",\"2023-10-03T00:00:00.000000000\",\"2023-10-04T00:00:00.000000000\",\"2023-10-05T00:00:00.000000000\",\"2023-10-06T00:00:00.000000000\",\"2023-10-09T00:00:00.000000000\",\"2023-10-10T00:00:00.000000000\",\"2023-10-11T00:00:00.000000000\",\"2023-10-12T00:00:00.000000000\",\"2023-10-13T00:00:00.000000000\",\"2023-10-16T00:00:00.000000000\",\"2023-10-17T00:00:00.000000000\",\"2023-10-18T00:00:00.000000000\",\"2023-10-19T00:00:00.000000000\",\"2023-10-20T00:00:00.000000000\",\"2023-10-23T00:00:00.000000000\",\"2023-10-24T00:00:00.000000000\",\"2023-10-25T00:00:00.000000000\",\"2023-10-26T00:00:00.000000000\",\"2023-10-27T00:00:00.000000000\",\"2023-10-30T00:00:00.000000000\",\"2023-10-31T00:00:00.000000000\",\"2023-11-01T00:00:00.000000000\",\"2023-11-02T00:00:00.000000000\",\"2023-11-03T00:00:00.000000000\",\"2023-11-06T00:00:00.000000000\",\"2023-11-07T00:00:00.000000000\",\"2023-11-08T00:00:00.000000000\",\"2023-11-09T00:00:00.000000000\",\"2023-11-10T00:00:00.000000000\",\"2023-11-13T00:00:00.000000000\",\"2023-11-14T00:00:00.000000000\",\"2023-11-15T00:00:00.000000000\",\"2023-11-16T00:00:00.000000000\",\"2023-11-17T00:00:00.000000000\",\"2023-11-20T00:00:00.000000000\",\"2023-11-21T00:00:00.000000000\",\"2023-11-22T00:00:00.000000000\",\"2023-11-24T00:00:00.000000000\",\"2023-11-27T00:00:00.000000000\",\"2023-11-28T00:00:00.000000000\",\"2023-11-29T00:00:00.000000000\",\"2023-11-30T00:00:00.000000000\",\"2023-12-01T00:00:00.000000000\",\"2023-12-04T00:00:00.000000000\",\"2023-12-05T00:00:00.000000000\",\"2023-12-06T00:00:00.000000000\",\"2023-12-07T00:00:00.000000000\",\"2023-12-08T00:00:00.000000000\",\"2023-12-11T00:00:00.000000000\",\"2023-12-12T00:00:00.000000000\",\"2023-12-13T00:00:00.000000000\",\"2023-12-14T00:00:00.000000000\",\"2023-12-15T00:00:00.000000000\",\"2023-12-18T00:00:00.000000000\",\"2023-12-19T00:00:00.000000000\",\"2023-12-20T00:00:00.000000000\",\"2023-12-21T00:00:00.000000000\",\"2023-12-22T00:00:00.000000000\",\"2023-12-26T00:00:00.000000000\",\"2023-12-27T00:00:00.000000000\",\"2023-12-28T00:00:00.000000000\",\"2023-12-29T00:00:00.000000000\",\"2024-01-02T00:00:00.000000000\",\"2024-01-03T00:00:00.000000000\",\"2024-01-04T00:00:00.000000000\",\"2024-01-05T00:00:00.000000000\",\"2024-01-08T00:00:00.000000000\",\"2024-01-09T00:00:00.000000000\",\"2024-01-10T00:00:00.000000000\",\"2024-01-11T00:00:00.000000000\",\"2024-01-12T00:00:00.000000000\",\"2024-01-16T00:00:00.000000000\",\"2024-01-17T00:00:00.000000000\",\"2024-01-18T00:00:00.000000000\",\"2024-01-19T00:00:00.000000000\",\"2024-01-22T00:00:00.000000000\",\"2024-01-23T00:00:00.000000000\",\"2024-01-24T00:00:00.000000000\",\"2024-01-25T00:00:00.000000000\",\"2024-01-26T00:00:00.000000000\",\"2024-01-29T00:00:00.000000000\",\"2024-01-30T00:00:00.000000000\",\"2024-01-31T00:00:00.000000000\",\"2024-02-01T00:00:00.000000000\",\"2024-02-02T00:00:00.000000000\",\"2024-02-05T00:00:00.000000000\",\"2024-02-06T00:00:00.000000000\",\"2024-02-07T00:00:00.000000000\",\"2024-02-08T00:00:00.000000000\",\"2024-02-09T00:00:00.000000000\",\"2024-02-12T00:00:00.000000000\",\"2024-02-13T00:00:00.000000000\",\"2024-02-14T00:00:00.000000000\",\"2024-02-15T00:00:00.000000000\",\"2024-02-16T00:00:00.000000000\",\"2024-02-20T00:00:00.000000000\",\"2024-02-21T00:00:00.000000000\",\"2024-02-22T00:00:00.000000000\",\"2024-02-23T00:00:00.000000000\",\"2024-02-26T00:00:00.000000000\",\"2024-02-27T00:00:00.000000000\",\"2024-02-28T00:00:00.000000000\",\"2024-02-29T00:00:00.000000000\",\"2024-03-01T00:00:00.000000000\",\"2024-03-04T00:00:00.000000000\",\"2024-03-05T00:00:00.000000000\",\"2024-03-06T00:00:00.000000000\",\"2024-03-07T00:00:00.000000000\",\"2024-03-08T00:00:00.000000000\",\"2024-03-11T00:00:00.000000000\",\"2024-03-12T00:00:00.000000000\",\"2024-03-13T00:00:00.000000000\",\"2024-03-14T00:00:00.000000000\",\"2024-03-15T00:00:00.000000000\",\"2024-03-18T00:00:00.000000000\",\"2024-03-19T00:00:00.000000000\",\"2024-03-20T00:00:00.000000000\",\"2024-03-21T00:00:00.000000000\",\"2024-03-22T00:00:00.000000000\",\"2024-03-25T00:00:00.000000000\",\"2024-03-26T00:00:00.000000000\",\"2024-03-27T00:00:00.000000000\",\"2024-03-28T00:00:00.000000000\",\"2024-04-01T00:00:00.000000000\",\"2024-04-02T00:00:00.000000000\",\"2024-04-03T00:00:00.000000000\",\"2024-04-04T00:00:00.000000000\",\"2024-04-05T00:00:00.000000000\",\"2024-04-08T00:00:00.000000000\",\"2024-04-09T00:00:00.000000000\",\"2024-04-10T00:00:00.000000000\",\"2024-04-11T00:00:00.000000000\",\"2024-04-12T00:00:00.000000000\",\"2024-04-15T00:00:00.000000000\",\"2024-04-16T00:00:00.000000000\",\"2024-04-17T00:00:00.000000000\",\"2024-04-18T00:00:00.000000000\",\"2024-04-19T00:00:00.000000000\",\"2024-04-22T00:00:00.000000000\",\"2024-04-23T00:00:00.000000000\",\"2024-04-24T00:00:00.000000000\",\"2024-04-25T00:00:00.000000000\",\"2024-04-26T00:00:00.000000000\",\"2024-04-29T00:00:00.000000000\",\"2024-04-30T00:00:00.000000000\",\"2024-05-01T00:00:00.000000000\",\"2024-05-02T00:00:00.000000000\",\"2024-05-03T00:00:00.000000000\",\"2024-05-06T00:00:00.000000000\",\"2024-05-07T00:00:00.000000000\",\"2024-05-08T00:00:00.000000000\",\"2024-05-09T00:00:00.000000000\",\"2024-05-10T00:00:00.000000000\",\"2024-05-13T00:00:00.000000000\",\"2024-05-14T00:00:00.000000000\",\"2024-05-15T00:00:00.000000000\",\"2024-05-16T00:00:00.000000000\",\"2024-05-17T00:00:00.000000000\",\"2024-05-20T00:00:00.000000000\",\"2024-05-21T00:00:00.000000000\",\"2024-05-22T00:00:00.000000000\",\"2024-05-23T00:00:00.000000000\",\"2024-05-24T00:00:00.000000000\",\"2024-05-28T00:00:00.000000000\",\"2024-05-29T00:00:00.000000000\",\"2024-05-30T00:00:00.000000000\",\"2024-05-31T00:00:00.000000000\",\"2024-06-03T00:00:00.000000000\",\"2024-06-04T00:00:00.000000000\",\"2024-06-05T00:00:00.000000000\",\"2024-06-06T00:00:00.000000000\",\"2024-06-07T00:00:00.000000000\",\"2024-06-10T00:00:00.000000000\",\"2024-06-11T00:00:00.000000000\",\"2024-06-12T00:00:00.000000000\",\"2024-06-13T00:00:00.000000000\",\"2024-06-14T00:00:00.000000000\",\"2024-06-17T00:00:00.000000000\",\"2024-06-18T00:00:00.000000000\",\"2024-06-20T00:00:00.000000000\",\"2024-06-21T00:00:00.000000000\",\"2024-06-24T00:00:00.000000000\",\"2024-06-25T00:00:00.000000000\",\"2024-06-26T00:00:00.000000000\",\"2024-06-27T00:00:00.000000000\",\"2024-06-28T00:00:00.000000000\",\"2024-07-01T00:00:00.000000000\",\"2024-07-02T00:00:00.000000000\",\"2024-07-03T00:00:00.000000000\",\"2024-07-05T00:00:00.000000000\",\"2024-07-08T00:00:00.000000000\",\"2024-07-09T00:00:00.000000000\",\"2024-07-10T00:00:00.000000000\",\"2024-07-11T00:00:00.000000000\",\"2024-07-12T00:00:00.000000000\",\"2024-07-15T00:00:00.000000000\",\"2024-07-16T00:00:00.000000000\",\"2024-07-17T00:00:00.000000000\",\"2024-07-18T00:00:00.000000000\",\"2024-07-19T00:00:00.000000000\",\"2024-07-22T00:00:00.000000000\",\"2024-07-23T00:00:00.000000000\",\"2024-07-24T00:00:00.000000000\",\"2024-07-25T00:00:00.000000000\",\"2024-07-26T00:00:00.000000000\",\"2024-07-29T00:00:00.000000000\",\"2024-07-30T00:00:00.000000000\",\"2024-07-31T00:00:00.000000000\",\"2024-08-01T00:00:00.000000000\",\"2024-08-02T00:00:00.000000000\",\"2024-08-05T00:00:00.000000000\",\"2024-08-06T00:00:00.000000000\",\"2024-08-07T00:00:00.000000000\",\"2024-08-08T00:00:00.000000000\",\"2024-08-09T00:00:00.000000000\",\"2024-08-12T00:00:00.000000000\",\"2024-08-13T00:00:00.000000000\",\"2024-08-14T00:00:00.000000000\",\"2024-08-15T00:00:00.000000000\",\"2024-08-16T00:00:00.000000000\",\"2024-08-19T00:00:00.000000000\",\"2024-08-20T00:00:00.000000000\",\"2024-08-21T00:00:00.000000000\",\"2024-08-22T00:00:00.000000000\",\"2024-08-23T00:00:00.000000000\",\"2024-08-26T00:00:00.000000000\",\"2024-08-27T00:00:00.000000000\",\"2024-08-28T00:00:00.000000000\",\"2024-08-29T00:00:00.000000000\",\"2024-08-30T00:00:00.000000000\",\"2024-09-03T00:00:00.000000000\",\"2024-09-04T00:00:00.000000000\",\"2024-09-05T00:00:00.000000000\",\"2024-09-06T00:00:00.000000000\",\"2024-09-09T00:00:00.000000000\",\"2024-09-10T00:00:00.000000000\",\"2024-09-11T00:00:00.000000000\",\"2024-09-12T00:00:00.000000000\",\"2024-09-13T00:00:00.000000000\",\"2024-09-16T00:00:00.000000000\",\"2024-09-17T00:00:00.000000000\",\"2024-09-18T00:00:00.000000000\",\"2024-09-19T00:00:00.000000000\",\"2024-09-20T00:00:00.000000000\",\"2024-09-23T00:00:00.000000000\",\"2024-09-24T00:00:00.000000000\",\"2024-09-25T00:00:00.000000000\",\"2024-09-26T00:00:00.000000000\",\"2024-09-27T00:00:00.000000000\",\"2024-09-30T00:00:00.000000000\",\"2024-10-01T00:00:00.000000000\",\"2024-10-02T00:00:00.000000000\",\"2024-10-03T00:00:00.000000000\",\"2024-10-04T00:00:00.000000000\",\"2024-10-07T00:00:00.000000000\",\"2024-10-08T00:00:00.000000000\",\"2024-10-09T00:00:00.000000000\",\"2024-10-10T00:00:00.000000000\",\"2024-10-11T00:00:00.000000000\",\"2024-10-14T00:00:00.000000000\",\"2024-10-15T00:00:00.000000000\",\"2024-10-16T00:00:00.000000000\",\"2024-10-17T00:00:00.000000000\",\"2024-10-18T00:00:00.000000000\",\"2024-10-21T00:00:00.000000000\",\"2024-10-22T00:00:00.000000000\",\"2024-10-23T00:00:00.000000000\",\"2024-10-24T00:00:00.000000000\",\"2024-10-25T00:00:00.000000000\",\"2024-10-28T00:00:00.000000000\",\"2024-10-29T00:00:00.000000000\",\"2024-10-30T00:00:00.000000000\",\"2024-10-31T00:00:00.000000000\",\"2024-11-01T00:00:00.000000000\",\"2024-11-04T00:00:00.000000000\",\"2024-11-05T00:00:00.000000000\",\"2024-11-06T00:00:00.000000000\",\"2024-11-07T00:00:00.000000000\",\"2024-11-08T00:00:00.000000000\",\"2024-11-11T00:00:00.000000000\",\"2024-11-12T00:00:00.000000000\",\"2024-11-13T00:00:00.000000000\",\"2024-11-14T00:00:00.000000000\",\"2024-11-15T00:00:00.000000000\",\"2024-11-18T00:00:00.000000000\",\"2024-11-19T00:00:00.000000000\",\"2024-11-20T00:00:00.000000000\",\"2024-11-21T00:00:00.000000000\",\"2024-11-22T00:00:00.000000000\",\"2024-11-25T00:00:00.000000000\",\"2024-11-26T00:00:00.000000000\",\"2024-11-27T00:00:00.000000000\",\"2024-11-29T00:00:00.000000000\",\"2024-12-02T00:00:00.000000000\",\"2024-12-03T00:00:00.000000000\",\"2024-12-04T00:00:00.000000000\",\"2024-12-05T00:00:00.000000000\",\"2024-12-06T00:00:00.000000000\",\"2024-12-09T00:00:00.000000000\",\"2024-12-10T00:00:00.000000000\",\"2024-12-11T00:00:00.000000000\",\"2024-12-12T00:00:00.000000000\",\"2024-12-13T00:00:00.000000000\",\"2024-12-16T00:00:00.000000000\",\"2024-12-17T00:00:00.000000000\",\"2024-12-18T00:00:00.000000000\",\"2024-12-19T00:00:00.000000000\",\"2024-12-20T00:00:00.000000000\",\"2024-12-23T00:00:00.000000000\",\"2024-12-24T00:00:00.000000000\",\"2024-12-26T00:00:00.000000000\",\"2024-12-27T00:00:00.000000000\",\"2024-12-30T00:00:00.000000000\",\"2024-12-31T00:00:00.000000000\",\"2025-01-02T00:00:00.000000000\",\"2025-01-03T00:00:00.000000000\",\"2025-01-06T00:00:00.000000000\",\"2025-01-07T00:00:00.000000000\",\"2025-01-08T00:00:00.000000000\",\"2025-01-10T00:00:00.000000000\",\"2025-01-13T00:00:00.000000000\",\"2025-01-14T00:00:00.000000000\",\"2025-01-15T00:00:00.000000000\",\"2025-01-16T00:00:00.000000000\",\"2025-01-17T00:00:00.000000000\",\"2025-01-21T00:00:00.000000000\",\"2025-01-22T00:00:00.000000000\",\"2025-01-23T00:00:00.000000000\",\"2025-01-24T00:00:00.000000000\",\"2025-01-27T00:00:00.000000000\",\"2025-01-28T00:00:00.000000000\",\"2025-01-29T00:00:00.000000000\",\"2025-01-30T00:00:00.000000000\",\"2025-01-31T00:00:00.000000000\",\"2025-02-03T00:00:00.000000000\",\"2025-02-04T00:00:00.000000000\",\"2025-02-05T00:00:00.000000000\",\"2025-02-06T00:00:00.000000000\",\"2025-02-07T00:00:00.000000000\",\"2025-02-10T00:00:00.000000000\",\"2025-02-11T00:00:00.000000000\",\"2025-02-12T00:00:00.000000000\",\"2025-02-13T00:00:00.000000000\",\"2025-02-14T00:00:00.000000000\",\"2025-02-18T00:00:00.000000000\",\"2025-02-19T00:00:00.000000000\",\"2025-02-20T00:00:00.000000000\",\"2025-02-21T00:00:00.000000000\",\"2025-02-24T00:00:00.000000000\",\"2025-02-25T00:00:00.000000000\",\"2025-02-26T00:00:00.000000000\",\"2025-02-27T00:00:00.000000000\",\"2025-02-28T00:00:00.000000000\",\"2025-03-03T00:00:00.000000000\",\"2025-03-04T00:00:00.000000000\",\"2025-03-05T00:00:00.000000000\",\"2025-03-06T00:00:00.000000000\",\"2025-03-07T00:00:00.000000000\",\"2025-03-10T00:00:00.000000000\",\"2025-03-11T00:00:00.000000000\",\"2025-03-12T00:00:00.000000000\",\"2025-03-13T00:00:00.000000000\",\"2025-03-14T00:00:00.000000000\",\"2025-03-17T00:00:00.000000000\",\"2025-03-18T00:00:00.000000000\",\"2025-03-19T00:00:00.000000000\",\"2025-03-20T00:00:00.000000000\",\"2025-03-21T00:00:00.000000000\",\"2025-03-24T00:00:00.000000000\",\"2025-03-25T00:00:00.000000000\",\"2025-03-26T00:00:00.000000000\",\"2025-03-27T00:00:00.000000000\",\"2025-03-28T00:00:00.000000000\"],\"y\":{\"dtype\":\"f8\",\"bdata\":\"TSHW1oSg+EDacrbLVHX4QKlta3CahPhAzsQEnZuk+EB6rhEtcM74QE3i5j10pPhAdQ5HjHuy+EB9UYJwzt74QBNfq7bgx\\u002fhAc01cEZDz+EBPl0qvzZn4QHYcNz0uvfhAK5T0qri4+EDzEe5xgVT4QFCp\\u002fNe97\\u002fdAsutArV3q90Ck2EW9hLf3QMAUJMLJGPhAMtoaIMnf90CbLEZKGZ33QC3H8Rh\\u002fqfdAqymafNHE90B7kHN+9pD3QKhR5A+CSPdAiPyvM3ks90C98paMYhb3QNKXbN\\u002fVFPdAvEnzIA6+9kA4L+5Sqcb2QLrfvE7gzPZAOKpr9o9Z9kA3ZS2DOAP2QOlTkLHHzvVAhBcr\\u002fEoG9kBo4\\u002ffT6Df2QGpzBMuiRPZAKaagARBX9kAuAO8yRIL2QISRuexjw\\u002fZAHGlRFUEJ90BoMwmVFs32QDwxxMx4BPdAuf7Iryin9kAf3M\\u002fBfK72QGl96LZkofZAeBD1sMGJ9kAswda4epX2QLfue2B4lvZAiu55Hx0V9kCWX4NakhT2QE7qYRglNPZACtcxCD4O9kATgSIuoLX1QHqjmiqJFPZAmwlo+9nU9UD+1YUxcAD2QMqRLIYaE\\u002fZAhVUH110Y9kCgwfRN1fv1QOSBAlph6vVAZ+2uPpzE9UC+83pOHwL2QHkKA5yo9fVAOzCRsAHz9UAJT8fmsAD2QBeQeGkbHfZAreTNTi8V9kDcUnimg\\u002fX1QMakcbfyFfZA9EgoOFkY9kCtMiFyBUj2QEhuy\\u002fUVX\\u002fZAa+3g\\u002f01o9kC4rXtI55L2QKQkwEpLrvZA6t3zSUGq9kAmW9OJW3v2QM1f86xK\\u002f\\u002fVANaoeFCR19kABIui0\\u002f9X2QCBOWkiudPdALRe270u390AWbIVIAZP3QEFe2QbIkfdA3Y\\u002fNcv+b90ByQYNzonD3QBqNkpp4iPdAmiVgygaU90Bq9niiSa73QBQX3UJspvdAj5kGO1\\u002ft90AJYpIqUeD3QHpvpOsiQvhAmenGdAom+ECakko2aDj4QOAdCopp7PdABq+Vpeud90DTs6RQ0b\\u002f3QDM25l3p1PdAZ0KnNovn90BSrSaHE5v3QKjfLn5skPdAwtBUSf+q90Bg8j5uTZj3QG28vAEUZPdAjBGHo9dN90Db8JG0AW73QNZeVs9nyvdA\\u002f2gs7y3B90DEgvYpTMf3QMg0HM959PdAwy\\u002fo3K6z90AwJjgKo5r3QM9SkOrZQPdAVV97hdg890Bf90PdyGf3QMbGelLUlfdAysd7axWO90AZTvFD3FX3QB8VRX1VBfdAB9DI5wbr9kDEgkR0MQD3QJfofIpiOvdAHCu05GEz90CgOj69Rx73QPhm7lANafdAjIZ40hvH90ANAUuyT6v3QJvXQeXRf\\u002fdA1BwMx3cx90B9psG61gr3QJyNIoY4\\u002fPZAoKWMlTv69kDC3\\u002ffgduT2QHw952VjpvZAvpmZskHO9kDhe6afUyH3QHQqFJc+C\\u002fdA7RpP7yoQ90Dj7oTq02r3QI0mEb0omPdAWzCIiiS190AO99hyWcj3QCwNCa1uyPdAwZqzQhfM90BPZ0BnyM\\u002f3QDlwJzm54\\u002fdAcxz1+ES390DoMEIub7T3QItHNMM62PdA3Vt+OsXa90Cp307W4gn4QDIOjH61vfdAnM4HSQ8R+EAkyx27ATX4QI7EP2++EPhAATqNezh8+ECIar7SWHb4QKmEfyGiXvhAKAXEMoFG+ECi8v8XRSv4QB826CiUPPhAGEXIU0pc+ED4XTGdIWj4QPlbm9KEaPhAJUF1z9+B+EA+SUYA2tf4QGMRMNNYAPlAlOcLKrrv+EDqAMGPNKr4QC9MXeIGkfhApcDTfGV6+EAU7FF3Eo34QCRM\\u002fcAWdvhALJ3Xc7tt+EBv1vRwuqb4QNUDWOyMjfhAkIb+FAtQ+EDRyoN0CB34QGQ2zg9yKvhAHNg6sYIj+EDiApYewVn4QCLpSG88JfhARyhRP8ER+EDyt66HdAv4QHBYjr8z3\\u002fdAEzqgaHIS+EDPSdpbKvD3QKwxSTgmK\\u002fhAgAOKK90y+EDxgiuVtS\\u002f4QBqB6+n1dfhApm5\\u002f4Kql+ECNLZv2ep\\u002f4QGbzqE0Vg\\u002fhAae1OXF63+EAa\\u002fjf3xtr4QJ6fa7LfwvhAVHiWkV2a+EB7y0KcUK74QOrc84S3nfhA4U+fD7nR+ECXnhCetsb4QBYA81ITmvhAU5O7t9GV+EDJrA3Je7P4QPjjX7ALc\\u002fhAQwSzMMlx+ECaIF5GIzj4QD8yvaYfCPhA3ranq3rm90DfgE+GCen3QCc6Yxwd8fdAk+U7I2Yd+EDgaj3V0x34QAMHKbNrPfhAydkLnAU7+EBurUFMmjv4QCzfysE6T\\u002fhAYF6Mn6ko+EAUpk1+JB74QL3unlE00fdA74jTtWyR90AE\\u002fTAZuI73QKuPDl\\u002f6cPdA9Uf6qDBx90A38ykRU0H3QMMR44iGJ\\u002fdA\\u002ffYbr5EC90DI0GKhRzv3QFjn+Ud6MvdAGVROjfL99kAn1okt8+\\u002f2QG31\\u002f4ZUzvZAiCJW8aHt9kDIyS8Rsvr2QH6PfGn9BfdARX+AZ+0d90C1sK2lCSn3QK+qmhPuZfdAGotKMLtz90B4Mrkxz2\\u002f3QF4Bw+RnlfdA6z11nQDK90CIYP7xrsD3QIChjz8oxvdAchLXbWfE90CKRgvPlM\\u002f3QDQq60ez8vdAwqA19coa+ECvVsGFSSb4QPnh0+tYN\\u002fhA2pj6r1BM+ECzesCDk1T4QOxfovFuQvhAFEexhWNX+EDB9RXiKHD4QLfSpoLBlPhAPELuQf9o+EBWB0GmRnP4QPzqsQ9JlvhABISYoY1l+EBdE1Bc+2H4QJS5clO8SvhAhA\\u002fn9bdI+EBOgNcE7Un4QIfYjBh8R\\u002fhApuLuPVZv+EBqIxTBUW\\u002f4QEa2Nt2+b\\u002fhAzczb7v+k+EAv+WL48aD4QGIDzlnw5PhAnafKSrLg+EAgZ87sqAT5QAk1xfu1F\\u002flAcp2YKDIg+UBz9VPKMBH5QOcw3Q\\u002fJAvlA4g\\u002fw8Rbt+EAOcdaA87X4QPvgCmy3pPhA2H+taxKS+EB6h2BH3pr4QLATgjIZlvhAaJucj9im+EBNc6jRFKL4QJe986+hrvhAxzfb903i+EDY0+aUlxf5QFc7X0YEKPlA+eFbkjs6+UC4\\u002fqV9iSr5QC0FSD1aWvlAWeCda8Zh+UAkl+nKFlT5QK2glBj8j\\u002flAbm9XC7uY+UBKQrYjz6X5QKV7GdZwzvlAjUdLrG3i+UCk2Ly0DQ\\u002f6QOByA\\u002fNKL\\u002fpAkX\\u002f4Qhcv+kCAr5XjyB76QFJ1UBPA\\u002fPlAz2B\\u002f9wLd+UBHpKwfE\\u002fX5QAsnIEvq+vlAYsxaaX0Q+kBxjyr80wP6QHriv81wSPpAacicRgxI+kBnlO5vdEP6QA8zGbaZPvpAItsGJxAq+kCooypgGDD6QCJuBBh0RfpAmhH6AnNt+kDykz74tn76QC\\u002f8lwOYkPpAxLADieOd+kAVF3oRr7b6QCuCogLyt\\u002fpAgnoMjTXM+kDqkD7jJq36QJr7ghUK0fpAd1ao+l3T+kBINFjQIur6QFuBos1UOPtAWIJ4QIxd+0CgMkIE+lj7QJjgXVfQNftAITAnTbj9+kCkLnPlHfT6QN5mLCpzJvtAkvEphz5r+0AtHU2f\\u002fbv7QFCG3Gi\\u002fpftAuk\\u002fHhaWM+0CcKAh10mz7QKPitzBmR\\u002ftAzLlQMJ4z+0AV5lfb9CH7QHdYJWRg6PpAI1if3Lb2+kDvqhtEGQv7QL2FO83uA\\u002ftANPsQ+dxI+0BO+UIHayD7QC5rMAvNIvtAxbEMVblE+0AvDKuAVoX7QBQeVcx3pftAqfG8bRS++0A7I+oLk737QD8YtTzSlPtAIy03tPWl+0AjIEfJKsv7QJRyskv8v\\u002ftAg\\u002fG\\u002fPmTn+0B6wKNsZsn7QJzOAJYvu\\u002ftA1e4eGlvV+0BTNa3Q2Oz7QFLDIKzO8PtAn4sP9Gju+0D5\\u002fHvSgsn7QBOL4ABPbPtAns2ehlVN+0AcIEfEACz7QL2OqkD++PpAUsPm38H0+kCIVA8RJNr6QJo5RZo\\u002f2fpAsrmBpi\\u002fN+kD+VgdtiKH6QCueSmPymPpAfLnIMaKD+kCB19UcYob6QPAIFk9Mm\\u002fpAZPGrDD\\u002fE+kCK8hoLOvn6QCFNpJaM7vpAdHjVl1Q7+0BGKzUpe0X7QHLfBDkCaftAHd7g+4mo+0AxR+LZLa\\u002f7QEMcWzZPjftAySPTlwt3+0DoN1exs5P7QO4rc1GxVPtAE9IE1NEu+0AyP6BlClz7QMFjnzlsj\\u002ftAPtC\\u002fGOC9+0CxinGAPbH7QE5PtfHW4PtAAMG2xiDU+0BCJbGcv8r7QMJjtPGJ5ftA38QaRw\\u002fl+0CvurEQueP7QC\\u002fgSlFo9vtAXpAPnc\\u002f6+0D0\\u002fzbNih78QMpAiTT3UfxAnMh4sUTd+0Cj8I9rFR\\u002f8QNTcQj\\u002fsAPxAoO\\u002fk7RVQ\\u002fEBhs9fHD0v8QL+8JPsjAvxAhOR5fGEa\\u002fEAF8h48KU78QFr8is5mOvxARsatwq1N\\u002fEDya9m73FL8QHPLMddaRvxACO3NTY5n\\u002fEAkd5Ahrzr8QH5vLaCpU\\u002fxA\\u002fW8Kni0w\\u002fECa\\u002fpttQP37QKN95lQGEfxAVlvYl4Vq\\u002fECut4fBRmT8QDkWnXFiS\\u002fxABdXtr6J0\\u002fEDvX65gEIz8QFXNdn\\u002f1S\\u002fxAXWEopaZb\\u002fEBu2Xigxnr8QDjnbR1emPxA1leCUDbN\\u002fEDB9X7tk938QNY9IO3zw\\u002fxA0wVxDPnv\\u002fEDw4PXdYtX8QLwb8WBmzPxAguPVgrTS\\u002fEAGdggLzrD8QDYJOkZ56\\u002fxAQuUuTows\\u002fUAaPUkJ0g\\u002f9QMOJQmZDGP1An8fpDTDq\\u002fECQu3yeP8j8QDVcyZ\\u002fmA\\u002f1ATseZLT44\\u002fUD1fQPAoC\\u002f9QPDvne4eSf1A18CCr+dQ\\u002fUBCrZqO1A\\u002f9QCyTTLmOGv1AGBrvi5ZL\\u002fUBRxfbZ1if9QEAo1holPf1A4rIr3VTE\\u002fUC6\\u002fuR1rsv9QAXH+y3cz\\u002f1ApVTopjYT\\u002fkB\\u002f4qG\\u002fJSn+QJf8rIzLCf5AOqETqI8J\\u002fkDff8G1IP79QCWojIfRBP5AhHt1ZFjZ\\u002fUDBoHjlrPT9QMJhL2IeU\\u002f5A2\\u002fuLtECc\\u002fkCiJfEVnHH+QCdsucMttv5Agp6KNLDg\\u002fkCsfs0i4hv\\u002fQNtkUb0NJP9A9qCTlsMZ\\u002f0DizpsAuhr\\u002fQOJpeNrGQf9ABfFlVARV\\u002f0Ag9zVvnVP\\u002fQI6iBTF7pP9A7Wl5XKqo\\u002f0DmzJWbnKn\\u002fQIKxjc8S7P9Ao9aHq6q\\u002f\\u002f0D4zCLc6KL\\u002fQJ7jrc\\u002feuP9ANlVvf6Oa\\u002f0Cud1p5Jqj\\u002fQIoNLyt9U\\u002f9ANSSslvRw\\u002f0BEJ9adv5b\\u002fQFrl2qrPvP9APz3S8129\\u002f0AAU8xpAan\\u002fQNmOMVLMtP9AeLW2Xfv1\\u002f0C2TilGqf3\\u002fQK3IpT5E3P9AXhPub\\u002fPe\\u002f0C+4gXQucX\\u002fQOG4m44XBABBTkXgZjIoAEEWl8Nk5CQAQUp755RrEgBBpTSkIQksAEHsfHUgrQQAQYbbVVFg7\\u002f9AviuEv5ze\\u002f0CgdDTLwLv\\u002fQE1JzH5Ujf9A+nuzYaB5\\u002f0AoefgC3Xz\\u002fQBykcLT+UP9Amsp75mSi\\u002f0A3xN9sOcP\\u002fQEushPE8s\\u002f9A6ZuOTF\\u002fa\\u002f0BDlvgLLYT\\u002fQP4D3VyPfv9AEAY817PN\\u002f0D0tY2079H\\u002fQJPJRhkC8v9Aw8PUr+zY\\u002f0B+AflFbqf\\u002fQLnal0HHsv9AQjcpFmC8\\u002f0DW6CPei\\u002fD\\u002fQMaH+JoMzf9AZeUeY4ERAEET3hJUl2MAQciGbsiMawBBVAVUmWBrAEGDstUEx5QAQS4341EDjgBBYzLHsAyCAEGmp8SoMYsAQd56URk1ngBBeyzRFBqBAEEb7dAcGV8AQZl9KI8FXgBB\\u002frr5yD93AEH1ZETUsVkAQdZPxHNKqQBBSpkiDMjKAEE4cdqWBIwAQbpzlzRlugBBvLsv9BO7AEGQnwNuoNgAQQyKzAQk3ABBBxui4VEGAUE2KAqqKg0BQcjXT1SZHQFBDkPz2BIRAUGGdLnuUvoAQSIEefVb7ABB1rzG2IDfAEFuVGoG29gAQdZyajJu6QBBh6kalvT2AEEoq7EbTQcBQTO0ijvcHQFBqg3fb\\u002fs7AUFFfzumTI0BQXD90Md4ZwFBUwOkL1aIAUECHUft8q8BQTidwtdspAFBF+rPdgepAUHr7HKo5dYBQcrc1T0b+AFBDGs6P3rwAUGgnV3iLfoBQWcoHhHHxAFBAaWYcVG+AUESJUyp17gBQTTcY0berwFB82YhlVyzAUF2RoY0CwYCQY4nXpQo+gFB6zpAvuXYAUECsJ\\u002f2hBkCQep5Z04vHAJBVeR6ckPwAUF\\u002fcNBtH6oBQQUpHNb2lAFB1CprSbWPAUEwxAYxxNABQUZfaoIp6AFBwbu9IDcKAkGMmOX0KAECQWcbfc\\u002fE9wFBUwRaUEBPAkHNLWLIo34CQeSOv06afwJBUhdJsNq6AkF29rpl3+wCQd\\u002f9PsN7ywJBx6KZ4nfhAkEx1o\\u002fzwvICQZX6tnWcEQNBck8UnGEOA0FgYPz46hUDQTjP2fwzNANByNppG2JFA0EManzzJUADQa6x5w+rQANBMevR66sQA0GoBgGtQTADQc5x1abUPwNB2FF1SDhLA0FvhzGoJo4DQRtirIu3mwNBIfmN2smEA0Fjo3mvs2UDQWDOg7HkYQNBduHOuJt1A0HcVyusRaMDQdr18bK85ANBNZPEz0LdA0EM2pFML+wDQQif4\\u002fB15gNBL2sZWmvtA0G9wrZVEtIDQZzBfunF3gNB7husiuDQA0GrSOPfprgDQbuXJCnerQNB3xra0ByEA0E2OVSt1HIDQe595aPAjgNBzwoRe9VsA0Ez\\u002fCEfJmsDQUEHpBzxdANBH4RdHqtwA0GHyOpgD3cDQaCdZs7jZwNB0ySp27d+A0H2wVTabXADQR2E5RW4fwNBwc0+M6hxA0Ho8EC0oGsDQfaOiObqXwNBD0vPR7thA0Ell851FXcDQSxcH0AKPANB1Dv8BsJvA0Fmx2E9J3YDQZTuUSAdeQNBB01rEKqvA0GSGITF6oEDQdN90j1+lgNB7yEL4PifA0GVXLvR8WQDQWO9N9GbSgNBAYkw5c8rA0H0Nxm18BsDQSYtXiUcFANBZX0WJSMiA0HYsmK\\u002fq0QDQWB5JAPNUQNBvas1yhFLA0Ft\\u002fuJ9VYwDQUjBym0zXANBiOo5Sbd5A0Fvs2yH3n0DQWwyin5NiANBLjpnvPhqA0Fcr2BCl5YDQcd17XK5owNB4QUZg4SYA0FXiU5keqIDQUQS5pG\\u002fogNBE+w+5QWyA0HQ+\\u002fsu+s0DQQJB4s9ekwNBrKyohGqIA0FhIyOfHJgDQWZFl8uklgNBRCnlbvpVA0H5laZSonADQQVJlVcBXANBYaCWS1RPA0Hn4GPLbHADQWbmRxi0kANB9ilaxKRxA0HqJnx3tV8DQZXg2aa5VgNBWbHrvtt5A0E45YBbF48DQfkezVxkhgNBUM\\u002fdsH2WA0H6VFHbtaADQVRoP1i\\u002frgNB6dOTc5VzA0HcXD0c2IcDQa5dgVRUnQNB85fzAPqxA0F\\u002fJ0S1y88DQZY5JUfHtwNBdihGloDIA0H4EuS+3MsDQTl3EekMuQNBL\\u002f\\u002f5pZmZA0E+QRyr58QDQWjXgh0R2ANByN\\u002f\\u002fF+IeBEFIbPw8oSwEQRP1y0L1\\u002fQNBA8hXO8BABEFu3gG\\u002f81UEQfqDFw5LbQRBBNWccBpZBEG35oRCq24EQddT99zUQgRBETVxJExrBEG1UO5FmLcEQXnA7mQNjwRBKInP3467BEGU3xDo57YEQXzdh+7HbgRBa0Cxtb9RBEEt35eeHj8EQXSqtBm5OARBR9I\\u002fp90kBEHxALv6vfIDQWOvy81\\u002f2wNBOj6h4Lm\\u002fA0Hnq1H1wZkDQY73hqIqzgNBh7jUwcbCA0EkVuOarJ4DQccd\\u002fVySRgNBkANcS9JKA0Fj\\u002fS+ngEMDQW\\u002fAMMCePwNBQElnU4lZA0FKZygZ3KoDQQkakG\\u002fZlwNBxZBONmPaA0Frm1doGeQDQedqMICLDgRBUbg1Y5VCBEEQ7\\u002fjSuxkEQcGedPwH7QNButxcHTkNBEGJnAINlvADQQ==\"},\"type\":\"scatter\"},{\"line\":{\"color\":\"red\"},\"mode\":\"lines\",\"name\":\"Aggressive\",\"x\":[\"2022-04-04T00:00:00.000000000\",\"2022-04-05T00:00:00.000000000\",\"2022-04-06T00:00:00.000000000\",\"2022-04-07T00:00:00.000000000\",\"2022-04-08T00:00:00.000000000\",\"2022-04-11T00:00:00.000000000\",\"2022-04-12T00:00:00.000000000\",\"2022-04-13T00:00:00.000000000\",\"2022-04-14T00:00:00.000000000\",\"2022-04-18T00:00:00.000000000\",\"2022-04-19T00:00:00.000000000\",\"2022-04-20T00:00:00.000000000\",\"2022-04-21T00:00:00.000000000\",\"2022-04-22T00:00:00.000000000\",\"2022-04-25T00:00:00.000000000\",\"2022-04-26T00:00:00.000000000\",\"2022-04-27T00:00:00.000000000\",\"2022-04-28T00:00:00.000000000\",\"2022-04-29T00:00:00.000000000\",\"2022-05-02T00:00:00.000000000\",\"2022-05-03T00:00:00.000000000\",\"2022-05-04T00:00:00.000000000\",\"2022-05-05T00:00:00.000000000\",\"2022-05-06T00:00:00.000000000\",\"2022-05-09T00:00:00.000000000\",\"2022-05-10T00:00:00.000000000\",\"2022-05-11T00:00:00.000000000\",\"2022-05-12T00:00:00.000000000\",\"2022-05-13T00:00:00.000000000\",\"2022-05-16T00:00:00.000000000\",\"2022-05-17T00:00:00.000000000\",\"2022-05-18T00:00:00.000000000\",\"2022-05-19T00:00:00.000000000\",\"2022-05-20T00:00:00.000000000\",\"2022-05-23T00:00:00.000000000\",\"2022-05-24T00:00:00.000000000\",\"2022-05-25T00:00:00.000000000\",\"2022-05-26T00:00:00.000000000\",\"2022-05-27T00:00:00.000000000\",\"2022-05-31T00:00:00.000000000\",\"2022-06-01T00:00:00.000000000\",\"2022-06-02T00:00:00.000000000\",\"2022-06-03T00:00:00.000000000\",\"2022-06-06T00:00:00.000000000\",\"2022-06-07T00:00:00.000000000\",\"2022-06-08T00:00:00.000000000\",\"2022-06-09T00:00:00.000000000\",\"2022-06-10T00:00:00.000000000\",\"2022-06-13T00:00:00.000000000\",\"2022-06-14T00:00:00.000000000\",\"2022-06-15T00:00:00.000000000\",\"2022-06-16T00:00:00.000000000\",\"2022-06-17T00:00:00.000000000\",\"2022-06-21T00:00:00.000000000\",\"2022-06-22T00:00:00.000000000\",\"2022-06-23T00:00:00.000000000\",\"2022-06-24T00:00:00.000000000\",\"2022-06-27T00:00:00.000000000\",\"2022-06-28T00:00:00.000000000\",\"2022-06-29T00:00:00.000000000\",\"2022-06-30T00:00:00.000000000\",\"2022-07-01T00:00:00.000000000\",\"2022-07-05T00:00:00.000000000\",\"2022-07-06T00:00:00.000000000\",\"2022-07-07T00:00:00.000000000\",\"2022-07-08T00:00:00.000000000\",\"2022-07-11T00:00:00.000000000\",\"2022-07-12T00:00:00.000000000\",\"2022-07-13T00:00:00.000000000\",\"2022-07-14T00:00:00.000000000\",\"2022-07-15T00:00:00.000000000\",\"2022-07-18T00:00:00.000000000\",\"2022-07-19T00:00:00.000000000\",\"2022-07-20T00:00:00.000000000\",\"2022-07-21T00:00:00.000000000\",\"2022-07-22T00:00:00.000000000\",\"2022-07-25T00:00:00.000000000\",\"2022-07-26T00:00:00.000000000\",\"2022-07-27T00:00:00.000000000\",\"2022-07-28T00:00:00.000000000\",\"2022-07-29T00:00:00.000000000\",\"2022-08-01T00:00:00.000000000\",\"2022-08-02T00:00:00.000000000\",\"2022-08-03T00:00:00.000000000\",\"2022-08-04T00:00:00.000000000\",\"2022-08-05T00:00:00.000000000\",\"2022-08-08T00:00:00.000000000\",\"2022-08-09T00:00:00.000000000\",\"2022-08-10T00:00:00.000000000\",\"2022-08-11T00:00:00.000000000\",\"2022-08-12T00:00:00.000000000\",\"2022-08-15T00:00:00.000000000\",\"2022-08-16T00:00:00.000000000\",\"2022-08-17T00:00:00.000000000\",\"2022-08-18T00:00:00.000000000\",\"2022-08-19T00:00:00.000000000\",\"2022-08-22T00:00:00.000000000\",\"2022-08-23T00:00:00.000000000\",\"2022-08-24T00:00:00.000000000\",\"2022-08-25T00:00:00.000000000\",\"2022-08-26T00:00:00.000000000\",\"2022-08-29T00:00:00.000000000\",\"2022-08-30T00:00:00.000000000\",\"2022-08-31T00:00:00.000000000\",\"2022-09-01T00:00:00.000000000\",\"2022-09-02T00:00:00.000000000\",\"2022-09-06T00:00:00.000000000\",\"2022-09-07T00:00:00.000000000\",\"2022-09-08T00:00:00.000000000\",\"2022-09-09T00:00:00.000000000\",\"2022-09-12T00:00:00.000000000\",\"2022-09-13T00:00:00.000000000\",\"2022-09-14T00:00:00.000000000\",\"2022-09-15T00:00:00.000000000\",\"2022-09-16T00:00:00.000000000\",\"2022-09-19T00:00:00.000000000\",\"2022-09-20T00:00:00.000000000\",\"2022-09-21T00:00:00.000000000\",\"2022-09-22T00:00:00.000000000\",\"2022-09-23T00:00:00.000000000\",\"2022-09-26T00:00:00.000000000\",\"2022-09-27T00:00:00.000000000\",\"2022-09-28T00:00:00.000000000\",\"2022-09-29T00:00:00.000000000\",\"2022-09-30T00:00:00.000000000\",\"2022-10-03T00:00:00.000000000\",\"2022-10-04T00:00:00.000000000\",\"2022-10-05T00:00:00.000000000\",\"2022-10-06T00:00:00.000000000\",\"2022-10-07T00:00:00.000000000\",\"2022-10-10T00:00:00.000000000\",\"2022-10-11T00:00:00.000000000\",\"2022-10-12T00:00:00.000000000\",\"2022-10-13T00:00:00.000000000\",\"2022-10-14T00:00:00.000000000\",\"2022-10-17T00:00:00.000000000\",\"2022-10-18T00:00:00.000000000\",\"2022-10-19T00:00:00.000000000\",\"2022-10-20T00:00:00.000000000\",\"2022-10-21T00:00:00.000000000\",\"2022-10-24T00:00:00.000000000\",\"2022-10-25T00:00:00.000000000\",\"2022-10-26T00:00:00.000000000\",\"2022-10-27T00:00:00.000000000\",\"2022-10-28T00:00:00.000000000\",\"2022-10-31T00:00:00.000000000\",\"2022-11-01T00:00:00.000000000\",\"2022-11-02T00:00:00.000000000\",\"2022-11-03T00:00:00.000000000\",\"2022-11-04T00:00:00.000000000\",\"2022-11-07T00:00:00.000000000\",\"2022-11-08T00:00:00.000000000\",\"2022-11-09T00:00:00.000000000\",\"2022-11-10T00:00:00.000000000\",\"2022-11-11T00:00:00.000000000\",\"2022-11-14T00:00:00.000000000\",\"2022-11-15T00:00:00.000000000\",\"2022-11-16T00:00:00.000000000\",\"2022-11-17T00:00:00.000000000\",\"2022-11-18T00:00:00.000000000\",\"2022-11-21T00:00:00.000000000\",\"2022-11-22T00:00:00.000000000\",\"2022-11-23T00:00:00.000000000\",\"2022-11-25T00:00:00.000000000\",\"2022-11-28T00:00:00.000000000\",\"2022-11-29T00:00:00.000000000\",\"2022-11-30T00:00:00.000000000\",\"2022-12-01T00:00:00.000000000\",\"2022-12-02T00:00:00.000000000\",\"2022-12-05T00:00:00.000000000\",\"2022-12-06T00:00:00.000000000\",\"2022-12-07T00:00:00.000000000\",\"2022-12-08T00:00:00.000000000\",\"2022-12-09T00:00:00.000000000\",\"2022-12-12T00:00:00.000000000\",\"2022-12-13T00:00:00.000000000\",\"2022-12-14T00:00:00.000000000\",\"2022-12-15T00:00:00.000000000\",\"2022-12-16T00:00:00.000000000\",\"2022-12-19T00:00:00.000000000\",\"2022-12-20T00:00:00.000000000\",\"2022-12-21T00:00:00.000000000\",\"2022-12-22T00:00:00.000000000\",\"2022-12-23T00:00:00.000000000\",\"2022-12-27T00:00:00.000000000\",\"2022-12-28T00:00:00.000000000\",\"2022-12-29T00:00:00.000000000\",\"2022-12-30T00:00:00.000000000\",\"2023-01-03T00:00:00.000000000\",\"2023-01-04T00:00:00.000000000\",\"2023-01-05T00:00:00.000000000\",\"2023-01-06T00:00:00.000000000\",\"2023-01-09T00:00:00.000000000\",\"2023-01-10T00:00:00.000000000\",\"2023-01-11T00:00:00.000000000\",\"2023-01-12T00:00:00.000000000\",\"2023-01-13T00:00:00.000000000\",\"2023-01-17T00:00:00.000000000\",\"2023-01-18T00:00:00.000000000\",\"2023-01-19T00:00:00.000000000\",\"2023-01-20T00:00:00.000000000\",\"2023-01-23T00:00:00.000000000\",\"2023-01-24T00:00:00.000000000\",\"2023-01-25T00:00:00.000000000\",\"2023-01-26T00:00:00.000000000\",\"2023-01-27T00:00:00.000000000\",\"2023-01-30T00:00:00.000000000\",\"2023-01-31T00:00:00.000000000\",\"2023-02-01T00:00:00.000000000\",\"2023-02-02T00:00:00.000000000\",\"2023-02-03T00:00:00.000000000\",\"2023-02-06T00:00:00.000000000\",\"2023-02-07T00:00:00.000000000\",\"2023-02-08T00:00:00.000000000\",\"2023-02-09T00:00:00.000000000\",\"2023-02-10T00:00:00.000000000\",\"2023-02-13T00:00:00.000000000\",\"2023-02-14T00:00:00.000000000\",\"2023-02-15T00:00:00.000000000\",\"2023-02-16T00:00:00.000000000\",\"2023-02-17T00:00:00.000000000\",\"2023-02-21T00:00:00.000000000\",\"2023-02-22T00:00:00.000000000\",\"2023-02-23T00:00:00.000000000\",\"2023-02-24T00:00:00.000000000\",\"2023-02-27T00:00:00.000000000\",\"2023-02-28T00:00:00.000000000\",\"2023-03-01T00:00:00.000000000\",\"2023-03-02T00:00:00.000000000\",\"2023-03-03T00:00:00.000000000\",\"2023-03-06T00:00:00.000000000\",\"2023-03-07T00:00:00.000000000\",\"2023-03-08T00:00:00.000000000\",\"2023-03-09T00:00:00.000000000\",\"2023-03-10T00:00:00.000000000\",\"2023-03-13T00:00:00.000000000\",\"2023-03-14T00:00:00.000000000\",\"2023-03-15T00:00:00.000000000\",\"2023-03-16T00:00:00.000000000\",\"2023-03-17T00:00:00.000000000\",\"2023-03-20T00:00:00.000000000\",\"2023-03-21T00:00:00.000000000\",\"2023-03-22T00:00:00.000000000\",\"2023-03-23T00:00:00.000000000\",\"2023-03-24T00:00:00.000000000\",\"2023-03-27T00:00:00.000000000\",\"2023-03-28T00:00:00.000000000\",\"2023-03-29T00:00:00.000000000\",\"2023-03-30T00:00:00.000000000\",\"2023-03-31T00:00:00.000000000\",\"2023-04-03T00:00:00.000000000\",\"2023-04-04T00:00:00.000000000\",\"2023-04-05T00:00:00.000000000\",\"2023-04-06T00:00:00.000000000\",\"2023-04-10T00:00:00.000000000\",\"2023-04-11T00:00:00.000000000\",\"2023-04-12T00:00:00.000000000\",\"2023-04-13T00:00:00.000000000\",\"2023-04-14T00:00:00.000000000\",\"2023-04-17T00:00:00.000000000\",\"2023-04-18T00:00:00.000000000\",\"2023-04-19T00:00:00.000000000\",\"2023-04-20T00:00:00.000000000\",\"2023-04-21T00:00:00.000000000\",\"2023-04-24T00:00:00.000000000\",\"2023-04-25T00:00:00.000000000\",\"2023-04-26T00:00:00.000000000\",\"2023-04-27T00:00:00.000000000\",\"2023-04-28T00:00:00.000000000\",\"2023-05-01T00:00:00.000000000\",\"2023-05-02T00:00:00.000000000\",\"2023-05-03T00:00:00.000000000\",\"2023-05-04T00:00:00.000000000\",\"2023-05-05T00:00:00.000000000\",\"2023-05-08T00:00:00.000000000\",\"2023-05-09T00:00:00.000000000\",\"2023-05-10T00:00:00.000000000\",\"2023-05-11T00:00:00.000000000\",\"2023-05-12T00:00:00.000000000\",\"2023-05-15T00:00:00.000000000\",\"2023-05-16T00:00:00.000000000\",\"2023-05-17T00:00:00.000000000\",\"2023-05-18T00:00:00.000000000\",\"2023-05-19T00:00:00.000000000\",\"2023-05-22T00:00:00.000000000\",\"2023-05-23T00:00:00.000000000\",\"2023-05-24T00:00:00.000000000\",\"2023-05-25T00:00:00.000000000\",\"2023-05-26T00:00:00.000000000\",\"2023-05-30T00:00:00.000000000\",\"2023-05-31T00:00:00.000000000\",\"2023-06-01T00:00:00.000000000\",\"2023-06-02T00:00:00.000000000\",\"2023-06-05T00:00:00.000000000\",\"2023-06-06T00:00:00.000000000\",\"2023-06-07T00:00:00.000000000\",\"2023-06-08T00:00:00.000000000\",\"2023-06-09T00:00:00.000000000\",\"2023-06-12T00:00:00.000000000\",\"2023-06-13T00:00:00.000000000\",\"2023-06-14T00:00:00.000000000\",\"2023-06-15T00:00:00.000000000\",\"2023-06-16T00:00:00.000000000\",\"2023-06-20T00:00:00.000000000\",\"2023-06-21T00:00:00.000000000\",\"2023-06-22T00:00:00.000000000\",\"2023-06-23T00:00:00.000000000\",\"2023-06-26T00:00:00.000000000\",\"2023-06-27T00:00:00.000000000\",\"2023-06-28T00:00:00.000000000\",\"2023-06-29T00:00:00.000000000\",\"2023-06-30T00:00:00.000000000\",\"2023-07-03T00:00:00.000000000\",\"2023-07-05T00:00:00.000000000\",\"2023-07-06T00:00:00.000000000\",\"2023-07-07T00:00:00.000000000\",\"2023-07-10T00:00:00.000000000\",\"2023-07-11T00:00:00.000000000\",\"2023-07-12T00:00:00.000000000\",\"2023-07-13T00:00:00.000000000\",\"2023-07-14T00:00:00.000000000\",\"2023-07-17T00:00:00.000000000\",\"2023-07-18T00:00:00.000000000\",\"2023-07-19T00:00:00.000000000\",\"2023-07-20T00:00:00.000000000\",\"2023-07-21T00:00:00.000000000\",\"2023-07-24T00:00:00.000000000\",\"2023-07-25T00:00:00.000000000\",\"2023-07-26T00:00:00.000000000\",\"2023-07-27T00:00:00.000000000\",\"2023-07-28T00:00:00.000000000\",\"2023-07-31T00:00:00.000000000\",\"2023-08-01T00:00:00.000000000\",\"2023-08-02T00:00:00.000000000\",\"2023-08-03T00:00:00.000000000\",\"2023-08-04T00:00:00.000000000\",\"2023-08-07T00:00:00.000000000\",\"2023-08-08T00:00:00.000000000\",\"2023-08-09T00:00:00.000000000\",\"2023-08-10T00:00:00.000000000\",\"2023-08-11T00:00:00.000000000\",\"2023-08-14T00:00:00.000000000\",\"2023-08-15T00:00:00.000000000\",\"2023-08-16T00:00:00.000000000\",\"2023-08-17T00:00:00.000000000\",\"2023-08-18T00:00:00.000000000\",\"2023-08-21T00:00:00.000000000\",\"2023-08-22T00:00:00.000000000\",\"2023-08-23T00:00:00.000000000\",\"2023-08-24T00:00:00.000000000\",\"2023-08-25T00:00:00.000000000\",\"2023-08-28T00:00:00.000000000\",\"2023-08-29T00:00:00.000000000\",\"2023-08-30T00:00:00.000000000\",\"2023-08-31T00:00:00.000000000\",\"2023-09-01T00:00:00.000000000\",\"2023-09-05T00:00:00.000000000\",\"2023-09-06T00:00:00.000000000\",\"2023-09-07T00:00:00.000000000\",\"2023-09-08T00:00:00.000000000\",\"2023-09-11T00:00:00.000000000\",\"2023-09-12T00:00:00.000000000\",\"2023-09-13T00:00:00.000000000\",\"2023-09-14T00:00:00.000000000\",\"2023-09-15T00:00:00.000000000\",\"2023-09-18T00:00:00.000000000\",\"2023-09-19T00:00:00.000000000\",\"2023-09-20T00:00:00.000000000\",\"2023-09-21T00:00:00.000000000\",\"2023-09-22T00:00:00.000000000\",\"2023-09-25T00:00:00.000000000\",\"2023-09-26T00:00:00.000000000\",\"2023-09-27T00:00:00.000000000\",\"2023-09-28T00:00:00.000000000\",\"2023-09-29T00:00:00.000000000\",\"2023-10-02T00:00:00.000000000\",\"2023-10-03T00:00:00.000000000\",\"2023-10-04T00:00:00.000000000\",\"2023-10-05T00:00:00.000000000\",\"2023-10-06T00:00:00.000000000\",\"2023-10-09T00:00:00.000000000\",\"2023-10-10T00:00:00.000000000\",\"2023-10-11T00:00:00.000000000\",\"2023-10-12T00:00:00.000000000\",\"2023-10-13T00:00:00.000000000\",\"2023-10-16T00:00:00.000000000\",\"2023-10-17T00:00:00.000000000\",\"2023-10-18T00:00:00.000000000\",\"2023-10-19T00:00:00.000000000\",\"2023-10-20T00:00:00.000000000\",\"2023-10-23T00:00:00.000000000\",\"2023-10-24T00:00:00.000000000\",\"2023-10-25T00:00:00.000000000\",\"2023-10-26T00:00:00.000000000\",\"2023-10-27T00:00:00.000000000\",\"2023-10-30T00:00:00.000000000\",\"2023-10-31T00:00:00.000000000\",\"2023-11-01T00:00:00.000000000\",\"2023-11-02T00:00:00.000000000\",\"2023-11-03T00:00:00.000000000\",\"2023-11-06T00:00:00.000000000\",\"2023-11-07T00:00:00.000000000\",\"2023-11-08T00:00:00.000000000\",\"2023-11-09T00:00:00.000000000\",\"2023-11-10T00:00:00.000000000\",\"2023-11-13T00:00:00.000000000\",\"2023-11-14T00:00:00.000000000\",\"2023-11-15T00:00:00.000000000\",\"2023-11-16T00:00:00.000000000\",\"2023-11-17T00:00:00.000000000\",\"2023-11-20T00:00:00.000000000\",\"2023-11-21T00:00:00.000000000\",\"2023-11-22T00:00:00.000000000\",\"2023-11-24T00:00:00.000000000\",\"2023-11-27T00:00:00.000000000\",\"2023-11-28T00:00:00.000000000\",\"2023-11-29T00:00:00.000000000\",\"2023-11-30T00:00:00.000000000\",\"2023-12-01T00:00:00.000000000\",\"2023-12-04T00:00:00.000000000\",\"2023-12-05T00:00:00.000000000\",\"2023-12-06T00:00:00.000000000\",\"2023-12-07T00:00:00.000000000\",\"2023-12-08T00:00:00.000000000\",\"2023-12-11T00:00:00.000000000\",\"2023-12-12T00:00:00.000000000\",\"2023-12-13T00:00:00.000000000\",\"2023-12-14T00:00:00.000000000\",\"2023-12-15T00:00:00.000000000\",\"2023-12-18T00:00:00.000000000\",\"2023-12-19T00:00:00.000000000\",\"2023-12-20T00:00:00.000000000\",\"2023-12-21T00:00:00.000000000\",\"2023-12-22T00:00:00.000000000\",\"2023-12-26T00:00:00.000000000\",\"2023-12-27T00:00:00.000000000\",\"2023-12-28T00:00:00.000000000\",\"2023-12-29T00:00:00.000000000\",\"2024-01-02T00:00:00.000000000\",\"2024-01-03T00:00:00.000000000\",\"2024-01-04T00:00:00.000000000\",\"2024-01-05T00:00:00.000000000\",\"2024-01-08T00:00:00.000000000\",\"2024-01-09T00:00:00.000000000\",\"2024-01-10T00:00:00.000000000\",\"2024-01-11T00:00:00.000000000\",\"2024-01-12T00:00:00.000000000\",\"2024-01-16T00:00:00.000000000\",\"2024-01-17T00:00:00.000000000\",\"2024-01-18T00:00:00.000000000\",\"2024-01-19T00:00:00.000000000\",\"2024-01-22T00:00:00.000000000\",\"2024-01-23T00:00:00.000000000\",\"2024-01-24T00:00:00.000000000\",\"2024-01-25T00:00:00.000000000\",\"2024-01-26T00:00:00.000000000\",\"2024-01-29T00:00:00.000000000\",\"2024-01-30T00:00:00.000000000\",\"2024-01-31T00:00:00.000000000\",\"2024-02-01T00:00:00.000000000\",\"2024-02-02T00:00:00.000000000\",\"2024-02-05T00:00:00.000000000\",\"2024-02-06T00:00:00.000000000\",\"2024-02-07T00:00:00.000000000\",\"2024-02-08T00:00:00.000000000\",\"2024-02-09T00:00:00.000000000\",\"2024-02-12T00:00:00.000000000\",\"2024-02-13T00:00:00.000000000\",\"2024-02-14T00:00:00.000000000\",\"2024-02-15T00:00:00.000000000\",\"2024-02-16T00:00:00.000000000\",\"2024-02-20T00:00:00.000000000\",\"2024-02-21T00:00:00.000000000\",\"2024-02-22T00:00:00.000000000\",\"2024-02-23T00:00:00.000000000\",\"2024-02-26T00:00:00.000000000\",\"2024-02-27T00:00:00.000000000\",\"2024-02-28T00:00:00.000000000\",\"2024-02-29T00:00:00.000000000\",\"2024-03-01T00:00:00.000000000\",\"2024-03-04T00:00:00.000000000\",\"2024-03-05T00:00:00.000000000\",\"2024-03-06T00:00:00.000000000\",\"2024-03-07T00:00:00.000000000\",\"2024-03-08T00:00:00.000000000\",\"2024-03-11T00:00:00.000000000\",\"2024-03-12T00:00:00.000000000\",\"2024-03-13T00:00:00.000000000\",\"2024-03-14T00:00:00.000000000\",\"2024-03-15T00:00:00.000000000\",\"2024-03-18T00:00:00.000000000\",\"2024-03-19T00:00:00.000000000\",\"2024-03-20T00:00:00.000000000\",\"2024-03-21T00:00:00.000000000\",\"2024-03-22T00:00:00.000000000\",\"2024-03-25T00:00:00.000000000\",\"2024-03-26T00:00:00.000000000\",\"2024-03-27T00:00:00.000000000\",\"2024-03-28T00:00:00.000000000\",\"2024-04-01T00:00:00.000000000\",\"2024-04-02T00:00:00.000000000\",\"2024-04-03T00:00:00.000000000\",\"2024-04-04T00:00:00.000000000\",\"2024-04-05T00:00:00.000000000\",\"2024-04-08T00:00:00.000000000\",\"2024-04-09T00:00:00.000000000\",\"2024-04-10T00:00:00.000000000\",\"2024-04-11T00:00:00.000000000\",\"2024-04-12T00:00:00.000000000\",\"2024-04-15T00:00:00.000000000\",\"2024-04-16T00:00:00.000000000\",\"2024-04-17T00:00:00.000000000\",\"2024-04-18T00:00:00.000000000\",\"2024-04-19T00:00:00.000000000\",\"2024-04-22T00:00:00.000000000\",\"2024-04-23T00:00:00.000000000\",\"2024-04-24T00:00:00.000000000\",\"2024-04-25T00:00:00.000000000\",\"2024-04-26T00:00:00.000000000\",\"2024-04-29T00:00:00.000000000\",\"2024-04-30T00:00:00.000000000\",\"2024-05-01T00:00:00.000000000\",\"2024-05-02T00:00:00.000000000\",\"2024-05-03T00:00:00.000000000\",\"2024-05-06T00:00:00.000000000\",\"2024-05-07T00:00:00.000000000\",\"2024-05-08T00:00:00.000000000\",\"2024-05-09T00:00:00.000000000\",\"2024-05-10T00:00:00.000000000\",\"2024-05-13T00:00:00.000000000\",\"2024-05-14T00:00:00.000000000\",\"2024-05-15T00:00:00.000000000\",\"2024-05-16T00:00:00.000000000\",\"2024-05-17T00:00:00.000000000\",\"2024-05-20T00:00:00.000000000\",\"2024-05-21T00:00:00.000000000\",\"2024-05-22T00:00:00.000000000\",\"2024-05-23T00:00:00.000000000\",\"2024-05-24T00:00:00.000000000\",\"2024-05-28T00:00:00.000000000\",\"2024-05-29T00:00:00.000000000\",\"2024-05-30T00:00:00.000000000\",\"2024-05-31T00:00:00.000000000\",\"2024-06-03T00:00:00.000000000\",\"2024-06-04T00:00:00.000000000\",\"2024-06-05T00:00:00.000000000\",\"2024-06-06T00:00:00.000000000\",\"2024-06-07T00:00:00.000000000\",\"2024-06-10T00:00:00.000000000\",\"2024-06-11T00:00:00.000000000\",\"2024-06-12T00:00:00.000000000\",\"2024-06-13T00:00:00.000000000\",\"2024-06-14T00:00:00.000000000\",\"2024-06-17T00:00:00.000000000\",\"2024-06-18T00:00:00.000000000\",\"2024-06-20T00:00:00.000000000\",\"2024-06-21T00:00:00.000000000\",\"2024-06-24T00:00:00.000000000\",\"2024-06-25T00:00:00.000000000\",\"2024-06-26T00:00:00.000000000\",\"2024-06-27T00:00:00.000000000\",\"2024-06-28T00:00:00.000000000\",\"2024-07-01T00:00:00.000000000\",\"2024-07-02T00:00:00.000000000\",\"2024-07-03T00:00:00.000000000\",\"2024-07-05T00:00:00.000000000\",\"2024-07-08T00:00:00.000000000\",\"2024-07-09T00:00:00.000000000\",\"2024-07-10T00:00:00.000000000\",\"2024-07-11T00:00:00.000000000\",\"2024-07-12T00:00:00.000000000\",\"2024-07-15T00:00:00.000000000\",\"2024-07-16T00:00:00.000000000\",\"2024-07-17T00:00:00.000000000\",\"2024-07-18T00:00:00.000000000\",\"2024-07-19T00:00:00.000000000\",\"2024-07-22T00:00:00.000000000\",\"2024-07-23T00:00:00.000000000\",\"2024-07-24T00:00:00.000000000\",\"2024-07-25T00:00:00.000000000\",\"2024-07-26T00:00:00.000000000\",\"2024-07-29T00:00:00.000000000\",\"2024-07-30T00:00:00.000000000\",\"2024-07-31T00:00:00.000000000\",\"2024-08-01T00:00:00.000000000\",\"2024-08-02T00:00:00.000000000\",\"2024-08-05T00:00:00.000000000\",\"2024-08-06T00:00:00.000000000\",\"2024-08-07T00:00:00.000000000\",\"2024-08-08T00:00:00.000000000\",\"2024-08-09T00:00:00.000000000\",\"2024-08-12T00:00:00.000000000\",\"2024-08-13T00:00:00.000000000\",\"2024-08-14T00:00:00.000000000\",\"2024-08-15T00:00:00.000000000\",\"2024-08-16T00:00:00.000000000\",\"2024-08-19T00:00:00.000000000\",\"2024-08-20T00:00:00.000000000\",\"2024-08-21T00:00:00.000000000\",\"2024-08-22T00:00:00.000000000\",\"2024-08-23T00:00:00.000000000\",\"2024-08-26T00:00:00.000000000\",\"2024-08-27T00:00:00.000000000\",\"2024-08-28T00:00:00.000000000\",\"2024-08-29T00:00:00.000000000\",\"2024-08-30T00:00:00.000000000\",\"2024-09-03T00:00:00.000000000\",\"2024-09-04T00:00:00.000000000\",\"2024-09-05T00:00:00.000000000\",\"2024-09-06T00:00:00.000000000\",\"2024-09-09T00:00:00.000000000\",\"2024-09-10T00:00:00.000000000\",\"2024-09-11T00:00:00.000000000\",\"2024-09-12T00:00:00.000000000\",\"2024-09-13T00:00:00.000000000\",\"2024-09-16T00:00:00.000000000\",\"2024-09-17T00:00:00.000000000\",\"2024-09-18T00:00:00.000000000\",\"2024-09-19T00:00:00.000000000\",\"2024-09-20T00:00:00.000000000\",\"2024-09-23T00:00:00.000000000\",\"2024-09-24T00:00:00.000000000\",\"2024-09-25T00:00:00.000000000\",\"2024-09-26T00:00:00.000000000\",\"2024-09-27T00:00:00.000000000\",\"2024-09-30T00:00:00.000000000\",\"2024-10-01T00:00:00.000000000\",\"2024-10-02T00:00:00.000000000\",\"2024-10-03T00:00:00.000000000\",\"2024-10-04T00:00:00.000000000\",\"2024-10-07T00:00:00.000000000\",\"2024-10-08T00:00:00.000000000\",\"2024-10-09T00:00:00.000000000\",\"2024-10-10T00:00:00.000000000\",\"2024-10-11T00:00:00.000000000\",\"2024-10-14T00:00:00.000000000\",\"2024-10-15T00:00:00.000000000\",\"2024-10-16T00:00:00.000000000\",\"2024-10-17T00:00:00.000000000\",\"2024-10-18T00:00:00.000000000\",\"2024-10-21T00:00:00.000000000\",\"2024-10-22T00:00:00.000000000\",\"2024-10-23T00:00:00.000000000\",\"2024-10-24T00:00:00.000000000\",\"2024-10-25T00:00:00.000000000\",\"2024-10-28T00:00:00.000000000\",\"2024-10-29T00:00:00.000000000\",\"2024-10-30T00:00:00.000000000\",\"2024-10-31T00:00:00.000000000\",\"2024-11-01T00:00:00.000000000\",\"2024-11-04T00:00:00.000000000\",\"2024-11-05T00:00:00.000000000\",\"2024-11-06T00:00:00.000000000\",\"2024-11-07T00:00:00.000000000\",\"2024-11-08T00:00:00.000000000\",\"2024-11-11T00:00:00.000000000\",\"2024-11-12T00:00:00.000000000\",\"2024-11-13T00:00:00.000000000\",\"2024-11-14T00:00:00.000000000\",\"2024-11-15T00:00:00.000000000\",\"2024-11-18T00:00:00.000000000\",\"2024-11-19T00:00:00.000000000\",\"2024-11-20T00:00:00.000000000\",\"2024-11-21T00:00:00.000000000\",\"2024-11-22T00:00:00.000000000\",\"2024-11-25T00:00:00.000000000\",\"2024-11-26T00:00:00.000000000\",\"2024-11-27T00:00:00.000000000\",\"2024-11-29T00:00:00.000000000\",\"2024-12-02T00:00:00.000000000\",\"2024-12-03T00:00:00.000000000\",\"2024-12-04T00:00:00.000000000\",\"2024-12-05T00:00:00.000000000\",\"2024-12-06T00:00:00.000000000\",\"2024-12-09T00:00:00.000000000\",\"2024-12-10T00:00:00.000000000\",\"2024-12-11T00:00:00.000000000\",\"2024-12-12T00:00:00.000000000\",\"2024-12-13T00:00:00.000000000\",\"2024-12-16T00:00:00.000000000\",\"2024-12-17T00:00:00.000000000\",\"2024-12-18T00:00:00.000000000\",\"2024-12-19T00:00:00.000000000\",\"2024-12-20T00:00:00.000000000\",\"2024-12-23T00:00:00.000000000\",\"2024-12-24T00:00:00.000000000\",\"2024-12-26T00:00:00.000000000\",\"2024-12-27T00:00:00.000000000\",\"2024-12-30T00:00:00.000000000\",\"2024-12-31T00:00:00.000000000\",\"2025-01-02T00:00:00.000000000\",\"2025-01-03T00:00:00.000000000\",\"2025-01-06T00:00:00.000000000\",\"2025-01-07T00:00:00.000000000\",\"2025-01-08T00:00:00.000000000\",\"2025-01-10T00:00:00.000000000\",\"2025-01-13T00:00:00.000000000\",\"2025-01-14T00:00:00.000000000\",\"2025-01-15T00:00:00.000000000\",\"2025-01-16T00:00:00.000000000\",\"2025-01-17T00:00:00.000000000\",\"2025-01-21T00:00:00.000000000\",\"2025-01-22T00:00:00.000000000\",\"2025-01-23T00:00:00.000000000\",\"2025-01-24T00:00:00.000000000\",\"2025-01-27T00:00:00.000000000\",\"2025-01-28T00:00:00.000000000\",\"2025-01-29T00:00:00.000000000\",\"2025-01-30T00:00:00.000000000\",\"2025-01-31T00:00:00.000000000\",\"2025-02-03T00:00:00.000000000\",\"2025-02-04T00:00:00.000000000\",\"2025-02-05T00:00:00.000000000\",\"2025-02-06T00:00:00.000000000\",\"2025-02-07T00:00:00.000000000\",\"2025-02-10T00:00:00.000000000\",\"2025-02-11T00:00:00.000000000\",\"2025-02-12T00:00:00.000000000\",\"2025-02-13T00:00:00.000000000\",\"2025-02-14T00:00:00.000000000\",\"2025-02-18T00:00:00.000000000\",\"2025-02-19T00:00:00.000000000\",\"2025-02-20T00:00:00.000000000\",\"2025-02-21T00:00:00.000000000\",\"2025-02-24T00:00:00.000000000\",\"2025-02-25T00:00:00.000000000\",\"2025-02-26T00:00:00.000000000\",\"2025-02-27T00:00:00.000000000\",\"2025-02-28T00:00:00.000000000\",\"2025-03-03T00:00:00.000000000\",\"2025-03-04T00:00:00.000000000\",\"2025-03-05T00:00:00.000000000\",\"2025-03-06T00:00:00.000000000\",\"2025-03-07T00:00:00.000000000\",\"2025-03-10T00:00:00.000000000\",\"2025-03-11T00:00:00.000000000\",\"2025-03-12T00:00:00.000000000\",\"2025-03-13T00:00:00.000000000\",\"2025-03-14T00:00:00.000000000\",\"2025-03-17T00:00:00.000000000\",\"2025-03-18T00:00:00.000000000\",\"2025-03-19T00:00:00.000000000\",\"2025-03-20T00:00:00.000000000\",\"2025-03-21T00:00:00.000000000\",\"2025-03-24T00:00:00.000000000\",\"2025-03-25T00:00:00.000000000\",\"2025-03-26T00:00:00.000000000\",\"2025-03-27T00:00:00.000000000\",\"2025-03-28T00:00:00.000000000\"],\"y\":{\"dtype\":\"f8\",\"bdata\":\"g1jfsw8ewEABXEq4JAu\\u002fQF0J3nuC7b1AQueHf63qvUA\\u002f4rTVpy+9QI0jdeQJFLxANHegUREPvEDiWwknCMO8QFA85cII0rtAoxZSmZ8rvECG4Q1sQ8K8QMS0B+75ILxATET7Ho7qu0AO\\u002f9MSCVq7QHcZwX\\u002f1crtAv7e7Z3LCuUB0Vns8ZqS5QFFGp\\u002fFhkLpAdYhwEoKvuUDaNwqp2WK6QFdbAmyri7pAUK7u3253u0DHDBSQ4Km5QHRLDUVCi7lAxGXGKWnJt0AcZOri0D+4QPwj200K2bZAViq7dpRftkDoFHVDt6G3QBYEUiiM9rZAG1DGNQH0t0B7oCh975O2QLVZpK\\u002f5bbZAVhv4K674tUAqszPGMWm2QFgfu5Ych7VA4GxgudsstkA7ySoCVSW3QE0iGnf8TLhADEuoPcE\\u002fuEDkjX5HSO+3QHb+7Fjr+LhA4\\u002f3+X8C1t0Bp5NIrTeC3QA\\u002fpg+sHFLhANEuWLSv8t0C1R9dODn+3QEfi5IGFg7ZAlAHBMnI0tUDLPs5JynK1QP7l7oN1L7ZAgTUXFvnytEAVZL\\u002f6N0S1QFIaCrHSV7ZAGcOBVKojtkAdTXiwzCm2QNYwVRonB7dA\\u002fl350DTltkAUPXJSnQS2QLX56Ity2bVAGWJA6LR3tUDMVf4tGDq1QGzNZDSgubVAOiEWW7rNtUBRo22Ijp22QJXmJ02I0LZAVNiS4\\u002fz\\u002ftUBz6K8Mv\\u002fm1QOgQiQFrEbZAJn6KJiRZtkC8nqJNE6a2QK4wJET+r7ZADzT14qFmt0B\\u002fCFkgu\\u002fO3QLX7qghs2LhAqjynXLyDuEB5iPuwpya4QORRsMHrnrdA5w42njjWuEDAAiXy\\u002fiW5QB1XscoA9rlAbSqEKmwaukB65oWq6Cm6QATQ6R+30bpAz3y9QxDwukDWoQnGhkG6QM7YdaQ61blApuKLi5BWuUDMe9OsRUy6QF8V1t8\\u002f\\u002f7lAgYfXA3vnukCreUTcN1i7QPZBfXiLN7tA3WHAvND\\u002fukA7PhUh6iO7QLz\\u002fKcvDZrpAiGMlbnSruUAvmOs+E++5QJpWU3H0+blAQ\\u002fIT0e9eukB50UOggB25QLiNbmPBsbhAIoUaUShHuEAd4DVPNvi3QHkqEB8VbLdA\\u002f+SLUg\\u002f6tkDPwj1X8v62QOIg\\u002f5XIaLdAAew3lMGft0DS1k6fAzO4QLjkQRMnrrhAcI6bnCJEt0Bef7GWw423QEZ+4bDwULdAlfR5O2xRt0ApOThF2rm3QKoYhMpwuLdAtsswuCZyt0CzBYIa4Li2QKG6+pMlPbZAizScu2sPtkDrMQ6sNGO2QJxqhPaGiLZAiuJlRcp1tUDLZ+dGjzO1QNK3Dq6DCbVAWq4k71jAtUAgYoKST4+1QAvNw4QLarVAyM+fdfJDtEDf6cBs2wy0QHDXOJAlu7NANeEDEtGxs0BoUg9q9EG0QP1DjDprOLNApbwzip4ptEAAznlWhFG0QBSzk1HTc7RAkseKJVMatEDb9nSb5pW0QAo362JpqLRARC71oyxmtUCPBotFFim1QIrlp1A\\u002fILVAFmL2RyAVtkD\\u002fb2kRp8+1QCDCvjC2tbVAfUxX8h\\u002f1tEAp2b7T8M20QPSR6ET977RA7TF6FxK5tED6YApQibK0QCy5D8hpsbNAK9iow2t6tUBo+l6xtxC2QIsAQu0sz7VAwFz6rh8ltkC+7qGW8oS1QIbENflyYrVAc0gO9JExtUBj1lb5gou0QCwUqnoCA7VAnokbJoO5tUAqrz+\\u002fvom1QEJKHJHARLVAFY4N1hP9tECzYYChoE+2QMeknYOmZrZAGdTykARItkCVJ6jQFaq1QCl\\u002fGwoWK7VAhgDSl\\u002fLltEB2vpwVFFy1QLeo+F4qc7VAPfEZ0m1btUDaLUEKIVi1QCrVNiRR7rRAbSGZvqNitEDtycLWK9yzQDxQqjLAqbNAP3Ma7fwjs0BdQN20lGOzQMMQgG\\u002fDUbJAvMCjXi4bskB7Aadu4w2xQEpGCwocCbFAniSnC5LMsUCwZz8+7+CxQEs4+OUn67BASPr4EQVcsUAyzS5Tn\\u002fqwQAVPNsn+hLFAjm4jEZMqskCAaWe0SDiyQAV7IBR9i7JAJsuiTrWxskAB5AvguNOyQIA7mFmokrNAVk3liC1Ps0BqGPTHiQizQJe3fA5TxLNAt3WkkDTOtEAheXKisOK0QHTruWOb3rRADPhmgtjNtUDK6HB+\\u002fMG2QGccPZ3NzrVATWd7gDc\\u002ftkDRaYezFBW3QCA6S\\u002fRi17dAQSgdwN3ht0Awp\\u002fYOkem3QFkc2aEqfbhAJdOD7wKWuEAfQVX12M24QA4m1BgKErhA\\u002fjNVa6NJuEDYWXb5skG5QBKVNQMWiLlA7gAdBdTBuEAqz+iCEry4QBCQI8zw4rdAHPCZ5Z0DuECpQhLMcRS5QOxxBTLrpbhAcWObSywquUAsNmwd4O24QNXWH+dikrhAUqzq5iFauECPjcR4Xx25QJ2XUw15BblA2hG2K8GXuECuLJknz7i4QI2cTagP9LdAoy1+G5ext0DNZFrFvsq3QKWoyc9vlbhAxwEoPaB\\u002fuECugTW6ASy5QNcmJ3aVBLlAfV\\u002f3j2NKuUA4ar4SCCS6QEQ9elAR57lALz3zEAUuukAeLA\\u002fMDQC6QA\\u002fNYMEK7rlAVhBum+7EuUCjPcWDRUS6QCLR2AmehLpAqoqaqhNeu0BKe999C\\u002fy6QLm9nJwQuLpAg+V\\u002frkUpukBxGDjrez+6QHjSBj3xPLpA3FqpdOkrukCOZhWq\\u002f7C5QN3R0Bb3LrpAPkQsK2U3ukAMEokKm2O6QCLL0wFqf7pAUQFY0VB7ukCtG29pSGu5QFdhpHsec7lAeZyafshVuUDCglgrQPi4QBXSKuAJ1rhAa\\u002f0bSzlzuUDDZJ58sOW5QEh7E1XUGbpA+oasE7rPuUCbbSl6RqS5QGZ73AiOjrlARFk\\u002faHykukBDlgYmgOK6QKQl3EY7h7pAWB4tIS2wukDuo2HCOcO6QM53beAed7pA\\u002frU+Ps+KukCp5vKChZW6QJzfFMxKNrtAunRydafdu0DfLcs+quy7QAhMyoqgRrxAV1LT7PLfu0CKoO+Dv7O7QLxja8Ch2r1Asvbn10O2vkBdkHc3vnu\\u002fQG\\u002fQzLcWA79AtH\\u002fIferKv0D0vIjnTQLAQB2xGRy3DMBAX52VlTYPwEAyMPeM3+q\\u002fQJ6N51+lYsBArZWhdQGewEB56rPOIebAQBeW+xjjScFAAcoGZQmKwUB85wyXzInBQD+zgXzun8FAIbgv268IwkDJovBXW57BQIL3xIPhycFAEOOGBY2AwUDuX0\\u002f0TO\\u002fAQAVoPeNIXMFAVAklOpJywUCXDcwl9HHBQKClvElc28FAF3qmNJQ+wkCgO8fn7TrCQC9P0Ha3I8JAODXPeTUdwkA+Hoy09vzBQACeFIxdBsJAnN4smXhPwkCMK76ZAbLCQFnZ1OjZtMJAGg9SHMskw0DXgokSqVbDQJmjLSNZTcNAHEkHYGl8wkCMiCUGsS\\u002fCQE593ktHZsJACEtOcUx6wkCvYjm8aHzCQH94d1ZBTsJA04GFfvu6wkDf+5h3S8jCQEGCqVYrksJAO26kMFcMwkBsGZ0uXyTCQDWt7Piaz8FAfbf0Dy7EwUAe9g7UkajBQAxIf2aNNsFA467BnOtCwUCnNhGkwAbBQE3IIOldZcFAXACAwDg2wUCHQcYv4\\u002ffAQG4TXiuLtcBAr5ucxSilwECAlhQhXXTBQAW+AmDZZMFAMwLCbAvCwUB6E+lizXDBQLEVxN7wkMFAqnSrNqWxwUBN\\u002f6\\u002fH9mvCQDNWxFEFk8JA0btRIbWbwkCJyU+oDEjCQKl2wr7djsJAgU8TaOoXwkDYJ\\u002fsVUdXBQHi5hroKucFAUx31NY1EwkCUg2JuA\\u002f3BQOiiesqaFcJA2Iwc1Gw9wkCZwL\\u002fIb\\u002fzBQEhZ+4QB5MFACCr\\u002fFOHkwUCwYDHplILBQO0c8h0sKcFAtDo\\u002f3CQJwUDwdEyOoS7BQPHuGSMW98BAubzeQ2LuwEAQ2QlMzhzBQFSn3hXYQ8FAgBpD6++FwUA+DSCgNTXBQPUfK8FynMFAy26Bmku0wUD\\u002fyv9zTezBQBki5ArG4MFAGTgZFgADwkD0c\\u002fgmZTDCQEAV8N6XJsJA1qXFXW3CwUDI\\u002f+EwpuLBQEcNqCWGncFAu4kL30sXwUB+iwq9EZTAQKs4LMl8O8BAPVjm\\u002fjlmwEB2+LLg9ZfAQDzO7VqpNsBAljTdTMp\\u002fv0BE9C7A2L2\\u002fQMd9ICh9n79AABNq2RCyv0C2Q8WZ2DzAQAQVFd19y8BArB1Im7f5wECCDOX55CHBQHglGhxjScFA77TH7\\u002fdkwUBGVrZcdR7BQHWuGufVgcFABQVPW+q2wUCvxvfYpzrCQEk8S9C3UcJAMj\\u002fOV7s6wkCY9SHvqzjCQFbnxt66a8JAxzMTjkCAwkAhqzoS\\u002fDrCQCFlYU+wHsJAUbIjwKouwkDG8fhSAGbCQBAorhg\\u002fWsJAVnXxW3YawkB2tFE2zR\\u002fCQNYdWLJZ38FAu4lWEdkxwkCz9ubKRBLCQGR5w2ngU8JA0DheIIOAwkA7oYhDpzzCQC5Hbh4JUMJAaCUuhayDwkBKI8FiQtjCQFrKnnnC+MJAL2+gyIYMw0AXcmSAjivDQBFkH0HWr8JAg9uYtmT6wkAyf\\u002fT4y+LCQKzqO9DWBcNALZqEGtknw0ATwcthUAPDQLDeJkJw3MJAEun3c6SFwkDaMshPDivCQC40ZotHJcJAHG5Q1f4+wkBhHgu9xMjCQGg0Oc\\u002fHu8JAk9HKu2PrwkB03Z5sU9bCQBu\\u002frI6+pMJAqmMypeXGwkBhMTkJ3pXCQI2aG0MfycJA3iWPJLIdw0AAkyHgHhzDQMxQWVzBH8NA29gqUpo7w0AcKXdYgY\\u002fCQCm1RsrwecJApBZt6NzywkAFV+3gitXCQFtUxEDagsJASuEVQGfEwkBGmY0kdwfDQHC0mXpoIMNA4m53RIwyw0CbBxq4o3TDQOM5NALOdMNAPoO2l6bTw0CCA8\\u002fDqJrDQF5AhomyasNA2arE96+zw0Boky7JVvLDQNiqYWks3cNAknOEzuVow0AI+jOuSUvDQO6ZFb3JZ8RAbTGSpaE2xEDLBUeeYWrEQNK4DexbccRAaa2v2tRZxECuvoG01XHEQIVaQTJbuMRAVg2HML1cxEA1jtoPrf3DQB+b9iLLAsRA02fzMKJQxEDB45O1JO3DQJpMvEWK8cNAu4CCmoJkxECQDrKxp+nDQE7ABdCYicNAx0GS4LmJw0BLDJ5hLwPEQEtTIsh0DcRAuGu2bJBixEBAiVVkUB7EQHb28ndkRsRAAXr3P6ZVxEDfElmC4kvEQKpg0qR2a8RAESdsQRA3xECaI0bGpSTEQNsFXMcjv8NAEk6RwtnIw0AMzT0W0qLDQBuVb2bTlsNAi2jPinLQw0AhD7RTFtfDQInmwVydvcNA8VGES5dWxEBTovxgDBbEQMRMGTv6dsNADs5pSsNKw0AcNkhmv\\u002fXCQJlkxdFExMJAL0TPrrAIwkDqt0t0AiDCQMDFF9YYb8JAU4iVH7X5wkDSbDqP5YLDQLmFoM8Mx8NA8ZFElPXZxEAyqDjA0EvEQATJ5zfG6cNAzOo8Q5s+xEA2qwlaJNDEQLC3z0QHGMVAxdgEP32+xECvYDPAvqnEQCA8rtBTesRAJOPo3oZoxEAkE7VAVavEQEygFAvDAMVANkFj934sxUB04v\\u002fzSDTFQHXbBQBxMMVAuyVrS\\u002fFLxUAtZOD7sM7FQMD8zJexicVAUuGH8RrQxUC\\u002fHUGb1knGQIXzfqtdoMZAY23Mw5ClxkBnY1K6c4DGQEVQ2m3ydsZAhdAcMizqxkCDY9+h+8fGQKB9oPb3O8dAG5lHgc88x0ANZd8toFzHQIkCH\\u002fPxIsdAXMkZL2lxx0B7OuDXbS3IQEGzbqkYsMhAZsjeEMeYyEC7P0r+HRXJQMMyBuWaKslAqXIJdwOXyEDuMPa1JE3IQFN3DPRpzMdAjC+8Iy2FyEDEiW659yPJQB6FDwEzGMlApDQYJ\\u002f8EyUCwXMy77LrJQJemwwa7jMpAdgG7fbF1y0BjP6rJT7fLQBtsUG3S\\u002fstARmgspVSHzEA3G1w0Y\\u002fDMQJD1T\\u002f22g8tAm+Z\\u002fABkEzEARNRYfQUHMQN220AQsOsxAeALq7qEvy0CC9hq6WUbLQP5Ou6+6rspAD7dd4Itey0Bq5YZPZifLQGlKvcr5X8lAh+KLXwNayUBiOEWC\\u002f27JQDn5OyEyyslASSVfqNnvyEBylM4M+E\\u002fKQAeaGJw5J8lAL2yb3Ia5yEBdc8KxA3\\u002fHQL35uWtIxcdA3LDsK3Uxx0BLFteYnvfHQCzSPFlxIshAbaUt7jheyEA6+wBq41vJQCxRrbYmQ8lAFCtc4N8mykCkWdom8GjKQPI8KedZAstAswMjsZXQykAwgU3TRvnKQP9lDrcsJspAvaXNHiDzykA3ZvGDr4rKQPxnyIhFhMpAkv7+0iopykAIIg3KctXJQFZ55qEOM8pAYWf4enQbyUD4ugbx2T3JQAjo5nBls8lA+wqlP8yhyEDxOgNpPhbJQJ28nl2NhMlAqDtMLnpHykD5635vIIvKQCOxbi7viMpAm8J4ePwIykDRg2EF\\u002fwLKQO1XY8mw9slAKZq7LFEly0Ad\\u002fvBeXNXKQK7v0pFvM8tAgqiZcWOwy0AjWKmcqO7LQCNGEX1O7ctAgtmPzFEEzEA5WaILmSjMQN7rcx7vdstAeNIJ8gZUy0BVwAhTTS7LQL0A7zWGo8tAgpAvhbNMy0AOD9VYrvXLQE22F\\u002fe068tA0MyXJNPzy0Arek7CtSnLQCCVJJvvi8tABxRV8W81y0D9RN5qUXrLQFZzV9yGjctAJkITAre3y0CSWnZghhDMQPWU5+\\u002fX8stATDzewhNby0D4aGX8TzPNQGxnHPHZkc1A9vdIyF1gzUBgsxMEL1jNQLnEhXJbCM1AVk7naj8tzECejITYlDfMQOjlaP4Y8MtAXsHWNJuIzEDY3r5GMinOQAUHCVGFxs5A8wATNCxkz0DfWndVjvHPQMd6ei30js9AhCqoRmV2z0DgEVPQTh7PQN1nsWYE+M5AzyFsS6J6z0CMbamAqg3QQHHSIewH9M9AXbd6x5Lez0D5S7M11AvQQE03EPM4fc9Ac7i+Z9imz0COApsJgmHPQKzCx2QUA9BAWTPY6gxC0EDoDCLzWVHQQEaN9Ih\\u002fkdBADT0d6WG+0EApLoAUXOfQQLyZnxCr19BA3Wwh4Obb0EAkhW9KaEjRQITRNUNqI9FAiNy\\u002fYDxD0UA+Hp1NZ4zRQHMZ\\u002fz\\u002fvsdFA62Bh08UX0UDXECrUOx\\u002fRQNuz1BvqKdFAwkkyhaeC0UBilX5mffrRQDcozLtX4dFAXxnsR0Bw0UClesz6LjPRQICoHzPm4dBAKIjceDah0EAi\\u002fx3yqEPRQO8NA2dgcNFA3tY84trf0ECy6Zfer+zQQIIbE7anndBA9nxJUEuS0EB4t2vh3GfQQG6ZLNhUFdFAAU8Du3if0EA+yVKE1wPRQPwC5eC25tBA4v6FPOUM0UBCD5EcBwDRQJ4WoOjBudBAs8CKvwHKz0CoVGGyIYPQQPEx7Z23ONBApmdwZcRi0ECgyoYIuT3QQPvnVpCIUs9AXM6li+D8z0AZ+5KzeQ7QQMGSD2ECLdBAC+8G5ffWz0DT7HhzFc7PQB7PQgZNTs9Ahw2NEOyKz0CBD59SaEnQQO7AMlxDetBAMr1Kb0Z70EAiVCdnkJPQQCo1e0XFjNBAWGaILJga0EAvHmWRE7rPQFExPdy9oc5A7AzVMUlbzkBc\\u002fq+K\\u002fzLNQGaRFnVSCs5A9cdB8lLJzEBs+rE2aHPMQBkHsHqey8xAZDpgkzTiy0B87U5Krj7MQD90KztiEspAaDkWUwhKykDQ06g+GUfLQHCushURuspABUegI9Way0CYvfSa9w\\u002fLQBnT72gNTcpA+1kGXu\\u002fsykCCCHPAawPLQMYS44CMjstAlUgBtubzzEBRyRIXiUnNQMdYALJPLcxANtenpxQjzECCy3Vh+HnLQA==\"},\"type\":\"scatter\"},{\"line\":{\"color\":\"green\"},\"mode\":\"lines\",\"name\":\"Defensive\",\"x\":[\"2022-04-04T00:00:00.000000000\",\"2022-04-05T00:00:00.000000000\",\"2022-04-06T00:00:00.000000000\",\"2022-04-07T00:00:00.000000000\",\"2022-04-08T00:00:00.000000000\",\"2022-04-11T00:00:00.000000000\",\"2022-04-12T00:00:00.000000000\",\"2022-04-13T00:00:00.000000000\",\"2022-04-14T00:00:00.000000000\",\"2022-04-18T00:00:00.000000000\",\"2022-04-19T00:00:00.000000000\",\"2022-04-20T00:00:00.000000000\",\"2022-04-21T00:00:00.000000000\",\"2022-04-22T00:00:00.000000000\",\"2022-04-25T00:00:00.000000000\",\"2022-04-26T00:00:00.000000000\",\"2022-04-27T00:00:00.000000000\",\"2022-04-28T00:00:00.000000000\",\"2022-04-29T00:00:00.000000000\",\"2022-05-02T00:00:00.000000000\",\"2022-05-03T00:00:00.000000000\",\"2022-05-04T00:00:00.000000000\",\"2022-05-05T00:00:00.000000000\",\"2022-05-06T00:00:00.000000000\",\"2022-05-09T00:00:00.000000000\",\"2022-05-10T00:00:00.000000000\",\"2022-05-11T00:00:00.000000000\",\"2022-05-12T00:00:00.000000000\",\"2022-05-13T00:00:00.000000000\",\"2022-05-16T00:00:00.000000000\",\"2022-05-17T00:00:00.000000000\",\"2022-05-18T00:00:00.000000000\",\"2022-05-19T00:00:00.000000000\",\"2022-05-20T00:00:00.000000000\",\"2022-05-23T00:00:00.000000000\",\"2022-05-24T00:00:00.000000000\",\"2022-05-25T00:00:00.000000000\",\"2022-05-26T00:00:00.000000000\",\"2022-05-27T00:00:00.000000000\",\"2022-05-31T00:00:00.000000000\",\"2022-06-01T00:00:00.000000000\",\"2022-06-02T00:00:00.000000000\",\"2022-06-03T00:00:00.000000000\",\"2022-06-06T00:00:00.000000000\",\"2022-06-07T00:00:00.000000000\",\"2022-06-08T00:00:00.000000000\",\"2022-06-09T00:00:00.000000000\",\"2022-06-10T00:00:00.000000000\",\"2022-06-13T00:00:00.000000000\",\"2022-06-14T00:00:00.000000000\",\"2022-06-15T00:00:00.000000000\",\"2022-06-16T00:00:00.000000000\",\"2022-06-17T00:00:00.000000000\",\"2022-06-21T00:00:00.000000000\",\"2022-06-22T00:00:00.000000000\",\"2022-06-23T00:00:00.000000000\",\"2022-06-24T00:00:00.000000000\",\"2022-06-27T00:00:00.000000000\",\"2022-06-28T00:00:00.000000000\",\"2022-06-29T00:00:00.000000000\",\"2022-06-30T00:00:00.000000000\",\"2022-07-01T00:00:00.000000000\",\"2022-07-05T00:00:00.000000000\",\"2022-07-06T00:00:00.000000000\",\"2022-07-07T00:00:00.000000000\",\"2022-07-08T00:00:00.000000000\",\"2022-07-11T00:00:00.000000000\",\"2022-07-12T00:00:00.000000000\",\"2022-07-13T00:00:00.000000000\",\"2022-07-14T00:00:00.000000000\",\"2022-07-15T00:00:00.000000000\",\"2022-07-18T00:00:00.000000000\",\"2022-07-19T00:00:00.000000000\",\"2022-07-20T00:00:00.000000000\",\"2022-07-21T00:00:00.000000000\",\"2022-07-22T00:00:00.000000000\",\"2022-07-25T00:00:00.000000000\",\"2022-07-26T00:00:00.000000000\",\"2022-07-27T00:00:00.000000000\",\"2022-07-28T00:00:00.000000000\",\"2022-07-29T00:00:00.000000000\",\"2022-08-01T00:00:00.000000000\",\"2022-08-02T00:00:00.000000000\",\"2022-08-03T00:00:00.000000000\",\"2022-08-04T00:00:00.000000000\",\"2022-08-05T00:00:00.000000000\",\"2022-08-08T00:00:00.000000000\",\"2022-08-09T00:00:00.000000000\",\"2022-08-10T00:00:00.000000000\",\"2022-08-11T00:00:00.000000000\",\"2022-08-12T00:00:00.000000000\",\"2022-08-15T00:00:00.000000000\",\"2022-08-16T00:00:00.000000000\",\"2022-08-17T00:00:00.000000000\",\"2022-08-18T00:00:00.000000000\",\"2022-08-19T00:00:00.000000000\",\"2022-08-22T00:00:00.000000000\",\"2022-08-23T00:00:00.000000000\",\"2022-08-24T00:00:00.000000000\",\"2022-08-25T00:00:00.000000000\",\"2022-08-26T00:00:00.000000000\",\"2022-08-29T00:00:00.000000000\",\"2022-08-30T00:00:00.000000000\",\"2022-08-31T00:00:00.000000000\",\"2022-09-01T00:00:00.000000000\",\"2022-09-02T00:00:00.000000000\",\"2022-09-06T00:00:00.000000000\",\"2022-09-07T00:00:00.000000000\",\"2022-09-08T00:00:00.000000000\",\"2022-09-09T00:00:00.000000000\",\"2022-09-12T00:00:00.000000000\",\"2022-09-13T00:00:00.000000000\",\"2022-09-14T00:00:00.000000000\",\"2022-09-15T00:00:00.000000000\",\"2022-09-16T00:00:00.000000000\",\"2022-09-19T00:00:00.000000000\",\"2022-09-20T00:00:00.000000000\",\"2022-09-21T00:00:00.000000000\",\"2022-09-22T00:00:00.000000000\",\"2022-09-23T00:00:00.000000000\",\"2022-09-26T00:00:00.000000000\",\"2022-09-27T00:00:00.000000000\",\"2022-09-28T00:00:00.000000000\",\"2022-09-29T00:00:00.000000000\",\"2022-09-30T00:00:00.000000000\",\"2022-10-03T00:00:00.000000000\",\"2022-10-04T00:00:00.000000000\",\"2022-10-05T00:00:00.000000000\",\"2022-10-06T00:00:00.000000000\",\"2022-10-07T00:00:00.000000000\",\"2022-10-10T00:00:00.000000000\",\"2022-10-11T00:00:00.000000000\",\"2022-10-12T00:00:00.000000000\",\"2022-10-13T00:00:00.000000000\",\"2022-10-14T00:00:00.000000000\",\"2022-10-17T00:00:00.000000000\",\"2022-10-18T00:00:00.000000000\",\"2022-10-19T00:00:00.000000000\",\"2022-10-20T00:00:00.000000000\",\"2022-10-21T00:00:00.000000000\",\"2022-10-24T00:00:00.000000000\",\"2022-10-25T00:00:00.000000000\",\"2022-10-26T00:00:00.000000000\",\"2022-10-27T00:00:00.000000000\",\"2022-10-28T00:00:00.000000000\",\"2022-10-31T00:00:00.000000000\",\"2022-11-01T00:00:00.000000000\",\"2022-11-02T00:00:00.000000000\",\"2022-11-03T00:00:00.000000000\",\"2022-11-04T00:00:00.000000000\",\"2022-11-07T00:00:00.000000000\",\"2022-11-08T00:00:00.000000000\",\"2022-11-09T00:00:00.000000000\",\"2022-11-10T00:00:00.000000000\",\"2022-11-11T00:00:00.000000000\",\"2022-11-14T00:00:00.000000000\",\"2022-11-15T00:00:00.000000000\",\"2022-11-16T00:00:00.000000000\",\"2022-11-17T00:00:00.000000000\",\"2022-11-18T00:00:00.000000000\",\"2022-11-21T00:00:00.000000000\",\"2022-11-22T00:00:00.000000000\",\"2022-11-23T00:00:00.000000000\",\"2022-11-25T00:00:00.000000000\",\"2022-11-28T00:00:00.000000000\",\"2022-11-29T00:00:00.000000000\",\"2022-11-30T00:00:00.000000000\",\"2022-12-01T00:00:00.000000000\",\"2022-12-02T00:00:00.000000000\",\"2022-12-05T00:00:00.000000000\",\"2022-12-06T00:00:00.000000000\",\"2022-12-07T00:00:00.000000000\",\"2022-12-08T00:00:00.000000000\",\"2022-12-09T00:00:00.000000000\",\"2022-12-12T00:00:00.000000000\",\"2022-12-13T00:00:00.000000000\",\"2022-12-14T00:00:00.000000000\",\"2022-12-15T00:00:00.000000000\",\"2022-12-16T00:00:00.000000000\",\"2022-12-19T00:00:00.000000000\",\"2022-12-20T00:00:00.000000000\",\"2022-12-21T00:00:00.000000000\",\"2022-12-22T00:00:00.000000000\",\"2022-12-23T00:00:00.000000000\",\"2022-12-27T00:00:00.000000000\",\"2022-12-28T00:00:00.000000000\",\"2022-12-29T00:00:00.000000000\",\"2022-12-30T00:00:00.000000000\",\"2023-01-03T00:00:00.000000000\",\"2023-01-04T00:00:00.000000000\",\"2023-01-05T00:00:00.000000000\",\"2023-01-06T00:00:00.000000000\",\"2023-01-09T00:00:00.000000000\",\"2023-01-10T00:00:00.000000000\",\"2023-01-11T00:00:00.000000000\",\"2023-01-12T00:00:00.000000000\",\"2023-01-13T00:00:00.000000000\",\"2023-01-17T00:00:00.000000000\",\"2023-01-18T00:00:00.000000000\",\"2023-01-19T00:00:00.000000000\",\"2023-01-20T00:00:00.000000000\",\"2023-01-23T00:00:00.000000000\",\"2023-01-24T00:00:00.000000000\",\"2023-01-25T00:00:00.000000000\",\"2023-01-26T00:00:00.000000000\",\"2023-01-27T00:00:00.000000000\",\"2023-01-30T00:00:00.000000000\",\"2023-01-31T00:00:00.000000000\",\"2023-02-01T00:00:00.000000000\",\"2023-02-02T00:00:00.000000000\",\"2023-02-03T00:00:00.000000000\",\"2023-02-06T00:00:00.000000000\",\"2023-02-07T00:00:00.000000000\",\"2023-02-08T00:00:00.000000000\",\"2023-02-09T00:00:00.000000000\",\"2023-02-10T00:00:00.000000000\",\"2023-02-13T00:00:00.000000000\",\"2023-02-14T00:00:00.000000000\",\"2023-02-15T00:00:00.000000000\",\"2023-02-16T00:00:00.000000000\",\"2023-02-17T00:00:00.000000000\",\"2023-02-21T00:00:00.000000000\",\"2023-02-22T00:00:00.000000000\",\"2023-02-23T00:00:00.000000000\",\"2023-02-24T00:00:00.000000000\",\"2023-02-27T00:00:00.000000000\",\"2023-02-28T00:00:00.000000000\",\"2023-03-01T00:00:00.000000000\",\"2023-03-02T00:00:00.000000000\",\"2023-03-03T00:00:00.000000000\",\"2023-03-06T00:00:00.000000000\",\"2023-03-07T00:00:00.000000000\",\"2023-03-08T00:00:00.000000000\",\"2023-03-09T00:00:00.000000000\",\"2023-03-10T00:00:00.000000000\",\"2023-03-13T00:00:00.000000000\",\"2023-03-14T00:00:00.000000000\",\"2023-03-15T00:00:00.000000000\",\"2023-03-16T00:00:00.000000000\",\"2023-03-17T00:00:00.000000000\",\"2023-03-20T00:00:00.000000000\",\"2023-03-21T00:00:00.000000000\",\"2023-03-22T00:00:00.000000000\",\"2023-03-23T00:00:00.000000000\",\"2023-03-24T00:00:00.000000000\",\"2023-03-27T00:00:00.000000000\",\"2023-03-28T00:00:00.000000000\",\"2023-03-29T00:00:00.000000000\",\"2023-03-30T00:00:00.000000000\",\"2023-03-31T00:00:00.000000000\",\"2023-04-03T00:00:00.000000000\",\"2023-04-04T00:00:00.000000000\",\"2023-04-05T00:00:00.000000000\",\"2023-04-06T00:00:00.000000000\",\"2023-04-10T00:00:00.000000000\",\"2023-04-11T00:00:00.000000000\",\"2023-04-12T00:00:00.000000000\",\"2023-04-13T00:00:00.000000000\",\"2023-04-14T00:00:00.000000000\",\"2023-04-17T00:00:00.000000000\",\"2023-04-18T00:00:00.000000000\",\"2023-04-19T00:00:00.000000000\",\"2023-04-20T00:00:00.000000000\",\"2023-04-21T00:00:00.000000000\",\"2023-04-24T00:00:00.000000000\",\"2023-04-25T00:00:00.000000000\",\"2023-04-26T00:00:00.000000000\",\"2023-04-27T00:00:00.000000000\",\"2023-04-28T00:00:00.000000000\",\"2023-05-01T00:00:00.000000000\",\"2023-05-02T00:00:00.000000000\",\"2023-05-03T00:00:00.000000000\",\"2023-05-04T00:00:00.000000000\",\"2023-05-05T00:00:00.000000000\",\"2023-05-08T00:00:00.000000000\",\"2023-05-09T00:00:00.000000000\",\"2023-05-10T00:00:00.000000000\",\"2023-05-11T00:00:00.000000000\",\"2023-05-12T00:00:00.000000000\",\"2023-05-15T00:00:00.000000000\",\"2023-05-16T00:00:00.000000000\",\"2023-05-17T00:00:00.000000000\",\"2023-05-18T00:00:00.000000000\",\"2023-05-19T00:00:00.000000000\",\"2023-05-22T00:00:00.000000000\",\"2023-05-23T00:00:00.000000000\",\"2023-05-24T00:00:00.000000000\",\"2023-05-25T00:00:00.000000000\",\"2023-05-26T00:00:00.000000000\",\"2023-05-30T00:00:00.000000000\",\"2023-05-31T00:00:00.000000000\",\"2023-06-01T00:00:00.000000000\",\"2023-06-02T00:00:00.000000000\",\"2023-06-05T00:00:00.000000000\",\"2023-06-06T00:00:00.000000000\",\"2023-06-07T00:00:00.000000000\",\"2023-06-08T00:00:00.000000000\",\"2023-06-09T00:00:00.000000000\",\"2023-06-12T00:00:00.000000000\",\"2023-06-13T00:00:00.000000000\",\"2023-06-14T00:00:00.000000000\",\"2023-06-15T00:00:00.000000000\",\"2023-06-16T00:00:00.000000000\",\"2023-06-20T00:00:00.000000000\",\"2023-06-21T00:00:00.000000000\",\"2023-06-22T00:00:00.000000000\",\"2023-06-23T00:00:00.000000000\",\"2023-06-26T00:00:00.000000000\",\"2023-06-27T00:00:00.000000000\",\"2023-06-28T00:00:00.000000000\",\"2023-06-29T00:00:00.000000000\",\"2023-06-30T00:00:00.000000000\",\"2023-07-03T00:00:00.000000000\",\"2023-07-05T00:00:00.000000000\",\"2023-07-06T00:00:00.000000000\",\"2023-07-07T00:00:00.000000000\",\"2023-07-10T00:00:00.000000000\",\"2023-07-11T00:00:00.000000000\",\"2023-07-12T00:00:00.000000000\",\"2023-07-13T00:00:00.000000000\",\"2023-07-14T00:00:00.000000000\",\"2023-07-17T00:00:00.000000000\",\"2023-07-18T00:00:00.000000000\",\"2023-07-19T00:00:00.000000000\",\"2023-07-20T00:00:00.000000000\",\"2023-07-21T00:00:00.000000000\",\"2023-07-24T00:00:00.000000000\",\"2023-07-25T00:00:00.000000000\",\"2023-07-26T00:00:00.000000000\",\"2023-07-27T00:00:00.000000000\",\"2023-07-28T00:00:00.000000000\",\"2023-07-31T00:00:00.000000000\",\"2023-08-01T00:00:00.000000000\",\"2023-08-02T00:00:00.000000000\",\"2023-08-03T00:00:00.000000000\",\"2023-08-04T00:00:00.000000000\",\"2023-08-07T00:00:00.000000000\",\"2023-08-08T00:00:00.000000000\",\"2023-08-09T00:00:00.000000000\",\"2023-08-10T00:00:00.000000000\",\"2023-08-11T00:00:00.000000000\",\"2023-08-14T00:00:00.000000000\",\"2023-08-15T00:00:00.000000000\",\"2023-08-16T00:00:00.000000000\",\"2023-08-17T00:00:00.000000000\",\"2023-08-18T00:00:00.000000000\",\"2023-08-21T00:00:00.000000000\",\"2023-08-22T00:00:00.000000000\",\"2023-08-23T00:00:00.000000000\",\"2023-08-24T00:00:00.000000000\",\"2023-08-25T00:00:00.000000000\",\"2023-08-28T00:00:00.000000000\",\"2023-08-29T00:00:00.000000000\",\"2023-08-30T00:00:00.000000000\",\"2023-08-31T00:00:00.000000000\",\"2023-09-01T00:00:00.000000000\",\"2023-09-05T00:00:00.000000000\",\"2023-09-06T00:00:00.000000000\",\"2023-09-07T00:00:00.000000000\",\"2023-09-08T00:00:00.000000000\",\"2023-09-11T00:00:00.000000000\",\"2023-09-12T00:00:00.000000000\",\"2023-09-13T00:00:00.000000000\",\"2023-09-14T00:00:00.000000000\",\"2023-09-15T00:00:00.000000000\",\"2023-09-18T00:00:00.000000000\",\"2023-09-19T00:00:00.000000000\",\"2023-09-20T00:00:00.000000000\",\"2023-09-21T00:00:00.000000000\",\"2023-09-22T00:00:00.000000000\",\"2023-09-25T00:00:00.000000000\",\"2023-09-26T00:00:00.000000000\",\"2023-09-27T00:00:00.000000000\",\"2023-09-28T00:00:00.000000000\",\"2023-09-29T00:00:00.000000000\",\"2023-10-02T00:00:00.000000000\",\"2023-10-03T00:00:00.000000000\",\"2023-10-04T00:00:00.000000000\",\"2023-10-05T00:00:00.000000000\",\"2023-10-06T00:00:00.000000000\",\"2023-10-09T00:00:00.000000000\",\"2023-10-10T00:00:00.000000000\",\"2023-10-11T00:00:00.000000000\",\"2023-10-12T00:00:00.000000000\",\"2023-10-13T00:00:00.000000000\",\"2023-10-16T00:00:00.000000000\",\"2023-10-17T00:00:00.000000000\",\"2023-10-18T00:00:00.000000000\",\"2023-10-19T00:00:00.000000000\",\"2023-10-20T00:00:00.000000000\",\"2023-10-23T00:00:00.000000000\",\"2023-10-24T00:00:00.000000000\",\"2023-10-25T00:00:00.000000000\",\"2023-10-26T00:00:00.000000000\",\"2023-10-27T00:00:00.000000000\",\"2023-10-30T00:00:00.000000000\",\"2023-10-31T00:00:00.000000000\",\"2023-11-01T00:00:00.000000000\",\"2023-11-02T00:00:00.000000000\",\"2023-11-03T00:00:00.000000000\",\"2023-11-06T00:00:00.000000000\",\"2023-11-07T00:00:00.000000000\",\"2023-11-08T00:00:00.000000000\",\"2023-11-09T00:00:00.000000000\",\"2023-11-10T00:00:00.000000000\",\"2023-11-13T00:00:00.000000000\",\"2023-11-14T00:00:00.000000000\",\"2023-11-15T00:00:00.000000000\",\"2023-11-16T00:00:00.000000000\",\"2023-11-17T00:00:00.000000000\",\"2023-11-20T00:00:00.000000000\",\"2023-11-21T00:00:00.000000000\",\"2023-11-22T00:00:00.000000000\",\"2023-11-24T00:00:00.000000000\",\"2023-11-27T00:00:00.000000000\",\"2023-11-28T00:00:00.000000000\",\"2023-11-29T00:00:00.000000000\",\"2023-11-30T00:00:00.000000000\",\"2023-12-01T00:00:00.000000000\",\"2023-12-04T00:00:00.000000000\",\"2023-12-05T00:00:00.000000000\",\"2023-12-06T00:00:00.000000000\",\"2023-12-07T00:00:00.000000000\",\"2023-12-08T00:00:00.000000000\",\"2023-12-11T00:00:00.000000000\",\"2023-12-12T00:00:00.000000000\",\"2023-12-13T00:00:00.000000000\",\"2023-12-14T00:00:00.000000000\",\"2023-12-15T00:00:00.000000000\",\"2023-12-18T00:00:00.000000000\",\"2023-12-19T00:00:00.000000000\",\"2023-12-20T00:00:00.000000000\",\"2023-12-21T00:00:00.000000000\",\"2023-12-22T00:00:00.000000000\",\"2023-12-26T00:00:00.000000000\",\"2023-12-27T00:00:00.000000000\",\"2023-12-28T00:00:00.000000000\",\"2023-12-29T00:00:00.000000000\",\"2024-01-02T00:00:00.000000000\",\"2024-01-03T00:00:00.000000000\",\"2024-01-04T00:00:00.000000000\",\"2024-01-05T00:00:00.000000000\",\"2024-01-08T00:00:00.000000000\",\"2024-01-09T00:00:00.000000000\",\"2024-01-10T00:00:00.000000000\",\"2024-01-11T00:00:00.000000000\",\"2024-01-12T00:00:00.000000000\",\"2024-01-16T00:00:00.000000000\",\"2024-01-17T00:00:00.000000000\",\"2024-01-18T00:00:00.000000000\",\"2024-01-19T00:00:00.000000000\",\"2024-01-22T00:00:00.000000000\",\"2024-01-23T00:00:00.000000000\",\"2024-01-24T00:00:00.000000000\",\"2024-01-25T00:00:00.000000000\",\"2024-01-26T00:00:00.000000000\",\"2024-01-29T00:00:00.000000000\",\"2024-01-30T00:00:00.000000000\",\"2024-01-31T00:00:00.000000000\",\"2024-02-01T00:00:00.000000000\",\"2024-02-02T00:00:00.000000000\",\"2024-02-05T00:00:00.000000000\",\"2024-02-06T00:00:00.000000000\",\"2024-02-07T00:00:00.000000000\",\"2024-02-08T00:00:00.000000000\",\"2024-02-09T00:00:00.000000000\",\"2024-02-12T00:00:00.000000000\",\"2024-02-13T00:00:00.000000000\",\"2024-02-14T00:00:00.000000000\",\"2024-02-15T00:00:00.000000000\",\"2024-02-16T00:00:00.000000000\",\"2024-02-20T00:00:00.000000000\",\"2024-02-21T00:00:00.000000000\",\"2024-02-22T00:00:00.000000000\",\"2024-02-23T00:00:00.000000000\",\"2024-02-26T00:00:00.000000000\",\"2024-02-27T00:00:00.000000000\",\"2024-02-28T00:00:00.000000000\",\"2024-02-29T00:00:00.000000000\",\"2024-03-01T00:00:00.000000000\",\"2024-03-04T00:00:00.000000000\",\"2024-03-05T00:00:00.000000000\",\"2024-03-06T00:00:00.000000000\",\"2024-03-07T00:00:00.000000000\",\"2024-03-08T00:00:00.000000000\",\"2024-03-11T00:00:00.000000000\",\"2024-03-12T00:00:00.000000000\",\"2024-03-13T00:00:00.000000000\",\"2024-03-14T00:00:00.000000000\",\"2024-03-15T00:00:00.000000000\",\"2024-03-18T00:00:00.000000000\",\"2024-03-19T00:00:00.000000000\",\"2024-03-20T00:00:00.000000000\",\"2024-03-21T00:00:00.000000000\",\"2024-03-22T00:00:00.000000000\",\"2024-03-25T00:00:00.000000000\",\"2024-03-26T00:00:00.000000000\",\"2024-03-27T00:00:00.000000000\",\"2024-03-28T00:00:00.000000000\",\"2024-04-01T00:00:00.000000000\",\"2024-04-02T00:00:00.000000000\",\"2024-04-03T00:00:00.000000000\",\"2024-04-04T00:00:00.000000000\",\"2024-04-05T00:00:00.000000000\",\"2024-04-08T00:00:00.000000000\",\"2024-04-09T00:00:00.000000000\",\"2024-04-10T00:00:00.000000000\",\"2024-04-11T00:00:00.000000000\",\"2024-04-12T00:00:00.000000000\",\"2024-04-15T00:00:00.000000000\",\"2024-04-16T00:00:00.000000000\",\"2024-04-17T00:00:00.000000000\",\"2024-04-18T00:00:00.000000000\",\"2024-04-19T00:00:00.000000000\",\"2024-04-22T00:00:00.000000000\",\"2024-04-23T00:00:00.000000000\",\"2024-04-24T00:00:00.000000000\",\"2024-04-25T00:00:00.000000000\",\"2024-04-26T00:00:00.000000000\",\"2024-04-29T00:00:00.000000000\",\"2024-04-30T00:00:00.000000000\",\"2024-05-01T00:00:00.000000000\",\"2024-05-02T00:00:00.000000000\",\"2024-05-03T00:00:00.000000000\",\"2024-05-06T00:00:00.000000000\",\"2024-05-07T00:00:00.000000000\",\"2024-05-08T00:00:00.000000000\",\"2024-05-09T00:00:00.000000000\",\"2024-05-10T00:00:00.000000000\",\"2024-05-13T00:00:00.000000000\",\"2024-05-14T00:00:00.000000000\",\"2024-05-15T00:00:00.000000000\",\"2024-05-16T00:00:00.000000000\",\"2024-05-17T00:00:00.000000000\",\"2024-05-20T00:00:00.000000000\",\"2024-05-21T00:00:00.000000000\",\"2024-05-22T00:00:00.000000000\",\"2024-05-23T00:00:00.000000000\",\"2024-05-24T00:00:00.000000000\",\"2024-05-28T00:00:00.000000000\",\"2024-05-29T00:00:00.000000000\",\"2024-05-30T00:00:00.000000000\",\"2024-05-31T00:00:00.000000000\",\"2024-06-03T00:00:00.000000000\",\"2024-06-04T00:00:00.000000000\",\"2024-06-05T00:00:00.000000000\",\"2024-06-06T00:00:00.000000000\",\"2024-06-07T00:00:00.000000000\",\"2024-06-10T00:00:00.000000000\",\"2024-06-11T00:00:00.000000000\",\"2024-06-12T00:00:00.000000000\",\"2024-06-13T00:00:00.000000000\",\"2024-06-14T00:00:00.000000000\",\"2024-06-17T00:00:00.000000000\",\"2024-06-18T00:00:00.000000000\",\"2024-06-20T00:00:00.000000000\",\"2024-06-21T00:00:00.000000000\",\"2024-06-24T00:00:00.000000000\",\"2024-06-25T00:00:00.000000000\",\"2024-06-26T00:00:00.000000000\",\"2024-06-27T00:00:00.000000000\",\"2024-06-28T00:00:00.000000000\",\"2024-07-01T00:00:00.000000000\",\"2024-07-02T00:00:00.000000000\",\"2024-07-03T00:00:00.000000000\",\"2024-07-05T00:00:00.000000000\",\"2024-07-08T00:00:00.000000000\",\"2024-07-09T00:00:00.000000000\",\"2024-07-10T00:00:00.000000000\",\"2024-07-11T00:00:00.000000000\",\"2024-07-12T00:00:00.000000000\",\"2024-07-15T00:00:00.000000000\",\"2024-07-16T00:00:00.000000000\",\"2024-07-17T00:00:00.000000000\",\"2024-07-18T00:00:00.000000000\",\"2024-07-19T00:00:00.000000000\",\"2024-07-22T00:00:00.000000000\",\"2024-07-23T00:00:00.000000000\",\"2024-07-24T00:00:00.000000000\",\"2024-07-25T00:00:00.000000000\",\"2024-07-26T00:00:00.000000000\",\"2024-07-29T00:00:00.000000000\",\"2024-07-30T00:00:00.000000000\",\"2024-07-31T00:00:00.000000000\",\"2024-08-01T00:00:00.000000000\",\"2024-08-02T00:00:00.000000000\",\"2024-08-05T00:00:00.000000000\",\"2024-08-06T00:00:00.000000000\",\"2024-08-07T00:00:00.000000000\",\"2024-08-08T00:00:00.000000000\",\"2024-08-09T00:00:00.000000000\",\"2024-08-12T00:00:00.000000000\",\"2024-08-13T00:00:00.000000000\",\"2024-08-14T00:00:00.000000000\",\"2024-08-15T00:00:00.000000000\",\"2024-08-16T00:00:00.000000000\",\"2024-08-19T00:00:00.000000000\",\"2024-08-20T00:00:00.000000000\",\"2024-08-21T00:00:00.000000000\",\"2024-08-22T00:00:00.000000000\",\"2024-08-23T00:00:00.000000000\",\"2024-08-26T00:00:00.000000000\",\"2024-08-27T00:00:00.000000000\",\"2024-08-28T00:00:00.000000000\",\"2024-08-29T00:00:00.000000000\",\"2024-08-30T00:00:00.000000000\",\"2024-09-03T00:00:00.000000000\",\"2024-09-04T00:00:00.000000000\",\"2024-09-05T00:00:00.000000000\",\"2024-09-06T00:00:00.000000000\",\"2024-09-09T00:00:00.000000000\",\"2024-09-10T00:00:00.000000000\",\"2024-09-11T00:00:00.000000000\",\"2024-09-12T00:00:00.000000000\",\"2024-09-13T00:00:00.000000000\",\"2024-09-16T00:00:00.000000000\",\"2024-09-17T00:00:00.000000000\",\"2024-09-18T00:00:00.000000000\",\"2024-09-19T00:00:00.000000000\",\"2024-09-20T00:00:00.000000000\",\"2024-09-23T00:00:00.000000000\",\"2024-09-24T00:00:00.000000000\",\"2024-09-25T00:00:00.000000000\",\"2024-09-26T00:00:00.000000000\",\"2024-09-27T00:00:00.000000000\",\"2024-09-30T00:00:00.000000000\",\"2024-10-01T00:00:00.000000000\",\"2024-10-02T00:00:00.000000000\",\"2024-10-03T00:00:00.000000000\",\"2024-10-04T00:00:00.000000000\",\"2024-10-07T00:00:00.000000000\",\"2024-10-08T00:00:00.000000000\",\"2024-10-09T00:00:00.000000000\",\"2024-10-10T00:00:00.000000000\",\"2024-10-11T00:00:00.000000000\",\"2024-10-14T00:00:00.000000000\",\"2024-10-15T00:00:00.000000000\",\"2024-10-16T00:00:00.000000000\",\"2024-10-17T00:00:00.000000000\",\"2024-10-18T00:00:00.000000000\",\"2024-10-21T00:00:00.000000000\",\"2024-10-22T00:00:00.000000000\",\"2024-10-23T00:00:00.000000000\",\"2024-10-24T00:00:00.000000000\",\"2024-10-25T00:00:00.000000000\",\"2024-10-28T00:00:00.000000000\",\"2024-10-29T00:00:00.000000000\",\"2024-10-30T00:00:00.000000000\",\"2024-10-31T00:00:00.000000000\",\"2024-11-01T00:00:00.000000000\",\"2024-11-04T00:00:00.000000000\",\"2024-11-05T00:00:00.000000000\",\"2024-11-06T00:00:00.000000000\",\"2024-11-07T00:00:00.000000000\",\"2024-11-08T00:00:00.000000000\",\"2024-11-11T00:00:00.000000000\",\"2024-11-12T00:00:00.000000000\",\"2024-11-13T00:00:00.000000000\",\"2024-11-14T00:00:00.000000000\",\"2024-11-15T00:00:00.000000000\",\"2024-11-18T00:00:00.000000000\",\"2024-11-19T00:00:00.000000000\",\"2024-11-20T00:00:00.000000000\",\"2024-11-21T00:00:00.000000000\",\"2024-11-22T00:00:00.000000000\",\"2024-11-25T00:00:00.000000000\",\"2024-11-26T00:00:00.000000000\",\"2024-11-27T00:00:00.000000000\",\"2024-11-29T00:00:00.000000000\",\"2024-12-02T00:00:00.000000000\",\"2024-12-03T00:00:00.000000000\",\"2024-12-04T00:00:00.000000000\",\"2024-12-05T00:00:00.000000000\",\"2024-12-06T00:00:00.000000000\",\"2024-12-09T00:00:00.000000000\",\"2024-12-10T00:00:00.000000000\",\"2024-12-11T00:00:00.000000000\",\"2024-12-12T00:00:00.000000000\",\"2024-12-13T00:00:00.000000000\",\"2024-12-16T00:00:00.000000000\",\"2024-12-17T00:00:00.000000000\",\"2024-12-18T00:00:00.000000000\",\"2024-12-19T00:00:00.000000000\",\"2024-12-20T00:00:00.000000000\",\"2024-12-23T00:00:00.000000000\",\"2024-12-24T00:00:00.000000000\",\"2024-12-26T00:00:00.000000000\",\"2024-12-27T00:00:00.000000000\",\"2024-12-30T00:00:00.000000000\",\"2024-12-31T00:00:00.000000000\",\"2025-01-02T00:00:00.000000000\",\"2025-01-03T00:00:00.000000000\",\"2025-01-06T00:00:00.000000000\",\"2025-01-07T00:00:00.000000000\",\"2025-01-08T00:00:00.000000000\",\"2025-01-10T00:00:00.000000000\",\"2025-01-13T00:00:00.000000000\",\"2025-01-14T00:00:00.000000000\",\"2025-01-15T00:00:00.000000000\",\"2025-01-16T00:00:00.000000000\",\"2025-01-17T00:00:00.000000000\",\"2025-01-21T00:00:00.000000000\",\"2025-01-22T00:00:00.000000000\",\"2025-01-23T00:00:00.000000000\",\"2025-01-24T00:00:00.000000000\",\"2025-01-27T00:00:00.000000000\",\"2025-01-28T00:00:00.000000000\",\"2025-01-29T00:00:00.000000000\",\"2025-01-30T00:00:00.000000000\",\"2025-01-31T00:00:00.000000000\",\"2025-02-03T00:00:00.000000000\",\"2025-02-04T00:00:00.000000000\",\"2025-02-05T00:00:00.000000000\",\"2025-02-06T00:00:00.000000000\",\"2025-02-07T00:00:00.000000000\",\"2025-02-10T00:00:00.000000000\",\"2025-02-11T00:00:00.000000000\",\"2025-02-12T00:00:00.000000000\",\"2025-02-13T00:00:00.000000000\",\"2025-02-14T00:00:00.000000000\",\"2025-02-18T00:00:00.000000000\",\"2025-02-19T00:00:00.000000000\",\"2025-02-20T00:00:00.000000000\",\"2025-02-21T00:00:00.000000000\",\"2025-02-24T00:00:00.000000000\",\"2025-02-25T00:00:00.000000000\",\"2025-02-26T00:00:00.000000000\",\"2025-02-27T00:00:00.000000000\",\"2025-02-28T00:00:00.000000000\",\"2025-03-03T00:00:00.000000000\",\"2025-03-04T00:00:00.000000000\",\"2025-03-05T00:00:00.000000000\",\"2025-03-06T00:00:00.000000000\",\"2025-03-07T00:00:00.000000000\",\"2025-03-10T00:00:00.000000000\",\"2025-03-11T00:00:00.000000000\",\"2025-03-12T00:00:00.000000000\",\"2025-03-13T00:00:00.000000000\",\"2025-03-14T00:00:00.000000000\",\"2025-03-17T00:00:00.000000000\",\"2025-03-18T00:00:00.000000000\",\"2025-03-19T00:00:00.000000000\",\"2025-03-20T00:00:00.000000000\",\"2025-03-21T00:00:00.000000000\",\"2025-03-24T00:00:00.000000000\",\"2025-03-25T00:00:00.000000000\",\"2025-03-26T00:00:00.000000000\",\"2025-03-27T00:00:00.000000000\",\"2025-03-28T00:00:00.000000000\"],\"y\":{\"dtype\":\"f8\",\"bdata\":\"PTZa4MKc9kAazTGAooT2QBONrUjCpfZAWkYMxfDF9kBWYLavdfv2QBSQn58z4\\u002fZAAgctd4rx9kC\\u002fuxHunRL3QE4LfSrACvdACSzHF9Yw90A3uYl4qc32QCqhVp4e+\\u002fZA5t8EyQ\\u002f69kAC0sDg4J72QLmXAICOOPZANjDFhjZO9kA9I35ZPh32QFugCaPDb\\u002fZAq9Hz\\u002ftBE9kAdibWv6\\u002fb1QHihMWLEAPZAxj6bjloN9kCvT3J1WPb1QPF8k+vNr\\u002fVALJYToeKv9UB7TGh+ZZL1QJLljjpFp\\u002fVAF5eH2RRY9UDp3bbejUz1QHm\\u002fN4x3XfVANkUP40\\u002fa9EAv21qL+Zn0QE4OlhboZ\\u002fRAz5VrGcCm9EA1qJS3VdH0QHTBmAEx7PRAW58KRkL09ECaU8zi7g\\u002f1QF\\u002fvRyWUPvVAa+R2AUWF9UCKSpEQIk71QFVhNRfqdPVA2w7Jqcwr9UDYrRLvdzD1QNg+MDgkIPVAxasb\\u002fv4J9UCxTOnTiR31QJOgXQhALvVAcd5N\\u002fNXB9ECpe+a1Zb30QO77IsAt0fRAsmPQdg6\\u002f9EDSinauXGH0QNUBiv8Lr\\u002fRAae0fVp9y9EAsUX5m0530QL0+hxSoovRApb\\u002f3iQqq9EDPnc14i5v0QEnyQzHKjPRARecq8CBt9EBhDpvLfa70QKK9vJgOmvRAJ87fCiaW9EDUdED+15b0QK4RpuQSsPRAKLeUgC+19EBVVK2155X0QLgTWQfctPRAEqG\\u002f9cay9EDBCEc9pN30QD0riREW9PRAKpqx4ePx9EAwHXaWqxP1QOl0NYrEIPVAH2ophAUi9UCeosMO8fj0QK9a2PBbhfRAR0k7isDn9EDV0cXFn0P1QK44rztO1fVAhtQNLaUV9kCuDd29YvD1QEHB2pSs5PVAELiRbv7s9UBVpyIHisz1QI0vS\\u002fAk6\\u002fVAcGenwZ3+9UCtvqtHhQn2QL6130R4BvZAFyHJiuc+9kBuGs6szSr2QFubHDSqjvZAe+P6aA129kC2PjmUKYb2QOR9V039RfZAzVizXjQD9kBQ+rUc4CD2QMkA0RZKNfZAQwOWOZxB9kA6cCJ9Own2QM3292dQBfZAcChDxIwm9kBelEsJyhj2QMW5y69S7fVAPFNerjbe9UCuFB6PEv71QMhs9kXbU\\u002fZAP+ro1TFH9kBXlQHwG0T2QH0W6F2XafZA3HYes2w\\u002f9kA6Ds3QxiH2QOs6gt\\u002fKy\\u002fVADMDDwcHH9UDMc\\u002fA4K+z1QDuF0kVNGvZAD7v4\\u002f\\u002fIW9kC+LUlCTur1QHVpBSSDofVAvgwPLBCK9UCln4Mp\\u002fpn1QO2hFBva0fVA88xdQAXc9UAjxM\\u002fIDsv1QHt7DRZ1GPZApjuGQxZr9kDr2iK5WlL2QMqa9SwxKfZA1x+ynzjt9UDfl\\u002fUDCcr1QCUAHy2GwPVAjWdshB6\\u002f9UCc6laaV6D1QDx5PrLccvVA9F32yaeL9UAB3z5aO9z1QEPv+mEBxPVAdG72vIXO9UB1n82AdSH2QBxz4iaiTfZAd91IwMFe9kClRoAOyHX2QNOO\\u002frdqdvZAoDQ0PsVq9kBP0Cn2zXL2QBeEG9ZdiPZAq6fP+fJn9kBVQwYhkGf2QGy+5e46ifZAvrgGGTSP9kCZOU5Bur72QJ8SC+KegvZAGUHNjGi59kB+2wdA9tP2QIWka6DLs\\u002fZANZSdgOYZ90CcS1SpCR73QGEo7PF6CPdAoSCDE2jz9kA8hWrojOL2QNyUPQFk7PZAfoxmIbIA90AFYz2xhQ\\u002f3QFWXick4FPdARGgUkg4y90AjQy7233L3QBc39mrumfdAUrr84DmL90BxfrYyk0\\u002f3QDyUu4FVPvdAnaBWUwYs90AtIPg1UTf3QJnBDRvkHvdAGP61lgQY90CRw1BgOFH3QIKWFNqnPvdAefQU2eAJ90Aynhe3Rd\\u002f2QGCRowzW7\\u002fZA6DBp4kLx9kDcLkjThyP3QBboUDggAPdAO+xmWQ7w9kDaR8RQlvr2QAuk7f6hzvZAycflR6n19kBUU\\u002fZnG9L2QCeu6blzHPdA3HNq2hwd90AelvifCyD3QCocWP2lXfdAvTdtrwGD90D1tlRr9nv3QLbrZnxdWvdAt8BkB0OM90DaPzdpi633QOYb0iy1ifdAfyMIuWpl90D0icP\\u002fx333QHERDFRyYfdAhgiVxtWE90AFd+mTi3j3QF9ht5wpTPdA0iOVL\\u002fQ490A8niYBXEf3QDISjNYeFvdAzk2ruNUN90D9qSX70cb2QJ1+eHepivZAWuSlz1xo9kBsFmB1cGr2QGGoRXJKafZAYahD9AWU9kDOFuhF9pD2QKLEmxFLvPZAiYZWZWu29kDRR6ocf6f2QNuFl2G5tvZAUY46X4yc9kAhGR9WY5L2QLy13EQFU\\u002fZA7el51zIR9kDZ2G\\u002f8cP31QIw47qub5vVAvpFA5I3e9UDUL1MPdbL1QFYUcVpgnvVAOEytkO989UDvh9apcan1QN6tJLciovVA+\\u002fKSenZ09UBcQxA7ZmT1QKQbe4wTT\\u002fVArj+ef4hy9UB7I9okBn71QPT0f2ymfPVAKf+tY\\u002fOV9UCaWAqKSZb1QEI4OLyk1fVAIhVL9xTf9UDUS42wjs31QIpdu8\\u002f29vVAGApmTCAn9kDGbT0VriD2QK+UeZNHJ\\u002fZAbTEghBgo9kCw8s52UCv2QCKdTWdpSvZAF\\u002fiLuulk9kD6XuPNiHb2QB0WCuLXi\\u002fZAgpoSVbyp9kAs+QzFm7D2QMTy0d2fnvZAZrFm7qS09kBYn3TnGNX2QJnFORHS8fZA+H0774jF9kA1dpj1DM32QEqulG9S7vZA7wODlNi99kCiIbnVRsv2QH9zuGuKs\\u002fZAvGX9bVuz9kAi+CECabr2QGYrinobuvZAzyI9qSLY9kAePUq59tD2QJF+5ZchzvZAXQShTQQI90BVYsCQrQb3QKw7QHkHTPdACbJGhGo290C8\\u002fW3qgFb3QK9yV0dCb\\u002fdAjMuFVi9190A02y0u\\u002fWT3QGpZ1iFXW\\u002fdAgiQM\\u002fmlE90CjQqcomwz3QAGTSb9S8fZAjFhW9DfU9kCc1HOjE9z2QO9u1Smv0fZAQ2bPYNno9kBEeWnZ2Ob2QFsH7ZP30PZAXLhcuun29kDSWm+x2x\\u002f3QFBu4trSN\\u002fdA\\u002fll\\u002f6ow990Aa57TAPyr3QAnPxFnDWPdArSzrmN9f90AhJBrSaFX3QPmul2yng\\u002fdAuDyj3PqE90D7xN\\u002fpCon3QOII+nI0pfdATW6qfyyx90C1O9sh1N33QHg8cyNN+\\u002fdAjYiSRwHu90Anm5d4\\u002fer3QGLW1+KDw\\u002fdAbYTOVvGs90BJuCKBKdf3QAp6uC5hz\\u002fdAOCsWIivi90C+DXF3ldX3QMZNiEQFDfhAJvkHwDkA+EDzrPWyFvz3QCkpP8ci+vdAe\\u002fTMd2nm90DgH5mJefD3QGLagWaoBPhAx3XU74Mj+ECAzgbFdij4QARhfcb8OfhA4W55JUo5+EC65ijv2Uv4QLjNPN5GTvhAX5ELYah8+EDY33nCMGf4QPArByxBhPhAFo1+bBSE+EDyB9G4lZr4QEuS06KM7vhAHtKn0CwG+UAkE0+V8P\\u002f4QFCwiOyK4\\u002fhAWqISZy28+EB3i5\\u002f\\u002fka\\u002f4QDfRDst\\u002f7PhAolorxbgy+UBpPstk64b5QE+dDLztfvlA3hkvEkhk+UDHAYZg+kv5QJnJk3O6GvlAwblAGNcM+UDkHV91+AL5QAmWuf6u0fhArcTrwxHi+EAfGPmfjdz4QPwtO6FT1\\u002fhA7rp4i5sQ+UDf1uVaUfL4QHjoV++u8PhAMEM3roQO+UBFDLWn1zf5QE6THCIXU\\u002flAL7qSyZ1q+UAKKuB2kXT5QGrJ3IT2QvlAM8M0Z\\u002fhi+UAou4emgJD5QGWbYfTaiPlA2U0BmNKe+UAHcNf+xYn5QD96sTx8ePlAOl2bf62N+UBAPZXXSq35QClYgXtOtPlAXqZv0cyx+UDj0FU1MJn5QHVHIn0pR\\u002flASOYW6zAs+UB+kX2SLAb5QN9QR3wb2vhAu+tql\\u002fXW+EBmGY5Hirb4QLBkiZfEsPhAYlYZqXGc+EBWVQO54Xr4QCw6JQtkZfhAo4t4vhhN+EAh3lVu2Ej4QK2EuY0zX\\u002fhAYcroCd+D+EAM5DtmLbP4QHlKxpq5qfhAucMc7AYD+UBN6xhjJgn5QMndT3RRNflA5mz\\u002ff6CF+UDB9UCiq5z5QC6VNZ3fhflAwVj2V0Rq+UDZ2ED1tID5QCZyFSbcTflAyv42L9U2+UDuT53ZLGD5QOVbHWd0lflADi8pC7\\u002fC+UA64jhtoqn5QK2sEjZnx\\u002flAS71N0+m0+UCyg3T9gqb5QBMfMY5dvPlAQc4hSXC4+UDm7xpl6r\\u002f5QGCKZ5QtxvlAva+lUfLD+UAeBxjSNdf5QEHZfzrAB\\u002fpAtgB\\u002fRu2V+UDwsavt\\u002f9f5QOn\\u002faeN0s\\u002flAJ4ki3A0A+kD9XZBFsAP6QBuQOPFNvvlAOm51JIzU+UDM078xaQH6QFg3dese7\\u002flAm5cv914K+kBjNQ8V4w76QLjH5qBvCvpA0RujK1Mh+kBOmDOIZvj5QFEA9ZItCfpA46j+OR3g+UBz6iqFq7X5QL20GDEFx\\u002flAqZYyBxAa+kBFky91Pgn6QO48aSJK7PlAH8fZ1hET+kCs0aGQnib6QNPgUrf69flA7UVVDlr8+UCISVohbR76QONpZkOjN\\u002fpAkMQxLTto+kCffUXhKX36QABi2+RlaPpAsQjyfUSf+kCV2vwTAZD6QDZVhG+9h\\u002fpAv9UrqNSK+kA6EmdztVf6QKniUkwAlPpAEIu11h\\u002fP+kBrYbWbB7X6QODxbJSrw\\u002fpAKntDWVOR+kBklVXdg3X6QOPoZbfCqvpAkuIH6YfU+kCVS\\u002f\\u002fjHMz6QNbFEsMm5fpAvGU9ZXTp+kAfyItj5L36QIe8A6BQy\\u002fpARHfh7jrt+kBwGtl9Jc36QLWdvdLJ7PpAufYo9cdr+0CRS1ORv2r7QHeQqB7Pa\\u002ftAyWZZHuWs+0CMoZ5Ikbr7QFt1Zswxm\\u002ftA0tAc1RqP+0Bvn0edy4r7QBngWzZ7l\\u002ftAKeZ8ZeJi+0BUzlIMYnb7QGcsA9V41\\u002ftAaW27+iMv\\u002fEBhpirgMgj8QOm4Fow0KfxAVFjY\\u002f9tZ\\u002fEDznQTvlY78QMGtzz\\u002filfxASas9+4iO\\u002fEAMlwtKf4z8QJE+MHS7qvxAWg9VrmzJ\\u002fEBZpTrN59P8QCrPpswhJP1A8\\u002fxaFpYe\\u002fUBuUOME+Cv9QO8n1obhbf1AjIY3WBoz\\u002fUAmi+zlsyX9QJQrrbWrR\\u002f1A\\u002fQxdQ2wp\\u002fUAltiaNwCf9QCHDKpLO0fxAvlYViaLk\\u002fEAcdkuR9RL9QIuG3BsDNP1A\\u002f03TK6ky\\u002fUCkMIEZhR\\u002f9QMRCl31dJ\\u002f1AljCJVRlv\\u002fUBDimCNFHn9QPJHusVfZP1AnOmbN9hl\\u002fUAdKT6NX1H9QB9\\u002fabBUlf1Ai51mfFbW\\u002fUBHrBD\\u002f5c79QMK5Nn4jrf1AC9\\u002fXWT\\u002fN\\u002fUCNZcu0mIb9QO2x8gmBgP1A\\u002fPE2VkR1\\u002fUDdbWveCF39QLqck+TLNP1AdJPZS4o4\\u002fUArAm+03Dj9QGSrrZkbA\\u002f1AkBmJQi5D\\u002fUCddvi63FL9QJSbkFdbOv1AqwkGmiA\\u002f\\u002fUA9gfHzsvr8QN0K4JVWAf1AtmjUbuBF\\u002fUCNgEwp6zf9QJ3SrDABT\\u002f1Aqij0Bx1B\\u002fUBolfJtNhL9QDUTgsd8I\\u002f1A3RpMOk8v\\u002fUBxRg02IVv9QLzzlTn0LP1Ao2JR53J9\\u002fUDXv6WJpSD+QCJS3HALMf5A8aU6CUMt\\u002fkCAWC\\u002fqt2\\u002f+QMPOzHDQav5Am2hdAxZK\\u002fkCVKyF+KE3+QEwXM31eaP5AScsoEYIt\\u002fkDJjVfCI+79QCmxldAs7f1A7NuvCzoR\\u002fkB63Uw0ZNr9QPePtOgVa\\u002f5AcD8cKPat\\u002fkDO9fgndSz+QCMHyypskP5ATT58wvqH\\u002fkDRNwshk6v+QLA9a\\u002fREov5AAV0o4Yr5\\u002fkB0CEuUsff+QDjp\\u002fkvfFf9AxlcFQ0UP\\u002f0DvIrRGAev+QFp5cKwq3\\u002f5Au\\u002fMVDVyu\\u002fkCj16YVN43+QAj1sgTWr\\u002f5AeUxSR0nN\\u002fkC7yumfPNf+QJPzPBYh6v5AJrsGsEAJ\\u002f0CetkFTr6P\\u002fQF3t90EXT\\u002f9AnXmiysF\\u002f\\u002f0CetgJ02cH\\u002fQL07289i2P9AW9ePzYvR\\u002f0CaiYGW0RIAQVzRiH14NABB5MpLIIA9AEE47rtGyEUAQXdzImbbGQBBkMmSs2gIAEG7tlNEYQYAQY0HuKneGQBBy6goX7wdAEHw8mE8G28AQfpnSnKFXQBBlki6I+hJAEG7xtJ1hXQAQUrwpbS7iQBBki2xBKtkAEFJSbQyLzIAQWmJYE+iGABBxl+s9p0cAEHLUnlHSlEAQSOS1mwCZgBBauHakVOEAEHYiEW+amsAQVRGEmSSYwBBokFUUtKsAEEziPTFFNgAQRX7TLB0zwBBF+c2VdENAUFjHob4Sj0BQX8XzvcYKQFBa8is4EUyAUHOv1D7F0oBQRV0Kh1YaQFBiV\\u002fk7s5rAUFAjlvMk3gBQaNnuxIDkQFBUlS606qzAUFd\\u002fmtUSKwBQS1D2bh0pQFBgZrXJ4+GAUH50nDG3Z4BQQSG+9CLpwFBHo6QpcCmAUGvmDmhdOUBQQl3xZgo8wFB92wGEzrkAUEmiyO\\u002fg8UBQeGY7aR5wgFB0ycDpkbDAUH6Rzzm7\\u002fUBQd\\u002fG1LmFMQJBrfiqmDwiAkGKRMfCRC0CQaaKEgmhJwJBl21QPSYtAkEpnfzEiA8CQd6Cl\\u002fdWJwJBxn6LG6AbAkGmvLIKwgUCQa+nxcWl8wFB1yGHmFHPAUFF6MbHebMBQYkCdFQF0AFBAo7HSJitAUGQFP3CirgBQe+98SIyvAFB3zJIH1S9AUE35DxKar8BQWsmoWALrwFBsfCHazzDAUFNXE10Za8BQc4K55aKwAFB\\u002fOkQ9\\u002fa7AUFZmnq0a5gBQX\\u002fIdkfNhgFBkLtKa7WLAUHvW42FkqEBQeD\\u002f9oiEawFB78ZNEO6sAUGcftnvrbIBQTZga5AbugFB8eAdXSDnAUGlKhihV58BQWPtwegVqgFB4PHJHLapAUHn5mPs2GUBQbcVYI6sUQFBWQbGkGk0AUHWBhTICyoBQagW896bJAFBSLtfAHkqAUEmhU1v9kIBQTlcYoSMUgFBRwC+nShNAUHulCz32ooBQdO9md5fZAFBAf+9wkl\\u002fAUFGA9NmxocBQRY68fHqhwFBwzMMH7diAUG\\u002fbfwDbIwBQR7kzoGJkQFBP171RbiAAUGSg77hjoUBQQwf0i\\u002fKhwFBd746CYmWAUErC64l7aQBQdKGe4fxbgFBG7GQ+AJgAUGZf2+1j2YBQThil+NmYAFBJ\\u002f14tAEzAUHeUyHYukwBQYqyGhTENgFBKVfwWv8eAUE7DpQeHTEBQV9hziCJVAFByqZcu5xDAUGVlyKYTzkBQYXrdeB8OgFBVCDQ77RlAUFUJT09omYBQTu97E9YWAFBdDSWVIJ6AUHEV37fH4MBQeQEfWEKmwFBSqSKCUxhAUHt5Q+A3HoBQYDKe7mpegFBEy6T6QqeAUFXzrnEUK8BQTaZCGvwmgFBmmi17uOmAUEQ8VHb26sBQWV0\\u002favUoQFBJFMBivmcAUGpFtB0g7QBQSoxxSn60AFB09JRi4kSAkH0kusb6iQCQZOGxrnMCAJBHWudMvJAAkELf4+IJFQCQaKR9cGqZwJBE2ZM8qpbAkHqV03ryXECQeUmkwzwTQJBOWRoY51yAkHFbpo7a64CQVtoaPnEfwJBgjHmESasAkEQ9SvbdaQCQdd22EUvXQJBoDMgsGxOAkFKjYFlfUMCQV\\u002fX8DudTgJBeIEiFCk\\u002fAkELARACjh8CQU1Geqba+gFBuyF9sSTzAUFAjOZxi9IBQRz327pwAQJB4bSeeKMEAkFMZz62wdoBQYNmSjlspQFB+Z8qxjGmAUEmcEUTD48BQYiV1a79kwFB0EQtAdyfAUFxG3mf3PkBQdccAZkI8wFBJStuQJQrAkHjalCs4jMCQbs5IriiVQJByKPV91ZzAkF7wodBI0UCQTWZVAEzKgJBR1\\u002fi0gdLAkHRP+uG9jgCQQ==\"},\"type\":\"scatter\"}],                        {\"template\":{\"data\":{\"barpolar\":[{\"marker\":{\"line\":{\"color\":\"rgb(17,17,17)\",\"width\":0.5},\"pattern\":{\"fillmode\":\"overlay\",\"size\":10,\"solidity\":0.2}},\"type\":\"barpolar\"}],\"bar\":[{\"error_x\":{\"color\":\"#f2f5fa\"},\"error_y\":{\"color\":\"#f2f5fa\"},\"marker\":{\"line\":{\"color\":\"rgb(17,17,17)\",\"width\":0.5},\"pattern\":{\"fillmode\":\"overlay\",\"size\":10,\"solidity\":0.2}},\"type\":\"bar\"}],\"carpet\":[{\"aaxis\":{\"endlinecolor\":\"#A2B1C6\",\"gridcolor\":\"#506784\",\"linecolor\":\"#506784\",\"minorgridcolor\":\"#506784\",\"startlinecolor\":\"#A2B1C6\"},\"baxis\":{\"endlinecolor\":\"#A2B1C6\",\"gridcolor\":\"#506784\",\"linecolor\":\"#506784\",\"minorgridcolor\":\"#506784\",\"startlinecolor\":\"#A2B1C6\"},\"type\":\"carpet\"}],\"choropleth\":[{\"colorbar\":{\"outlinewidth\":0,\"ticks\":\"\"},\"type\":\"choropleth\"}],\"contourcarpet\":[{\"colorbar\":{\"outlinewidth\":0,\"ticks\":\"\"},\"type\":\"contourcarpet\"}],\"contour\":[{\"colorbar\":{\"outlinewidth\":0,\"ticks\":\"\"},\"colorscale\":[[0.0,\"#0d0887\"],[0.1111111111111111,\"#46039f\"],[0.2222222222222222,\"#7201a8\"],[0.3333333333333333,\"#9c179e\"],[0.4444444444444444,\"#bd3786\"],[0.5555555555555556,\"#d8576b\"],[0.6666666666666666,\"#ed7953\"],[0.7777777777777778,\"#fb9f3a\"],[0.8888888888888888,\"#fdca26\"],[1.0,\"#f0f921\"]],\"type\":\"contour\"}],\"heatmap\":[{\"colorbar\":{\"outlinewidth\":0,\"ticks\":\"\"},\"colorscale\":[[0.0,\"#0d0887\"],[0.1111111111111111,\"#46039f\"],[0.2222222222222222,\"#7201a8\"],[0.3333333333333333,\"#9c179e\"],[0.4444444444444444,\"#bd3786\"],[0.5555555555555556,\"#d8576b\"],[0.6666666666666666,\"#ed7953\"],[0.7777777777777778,\"#fb9f3a\"],[0.8888888888888888,\"#fdca26\"],[1.0,\"#f0f921\"]],\"type\":\"heatmap\"}],\"histogram2dcontour\":[{\"colorbar\":{\"outlinewidth\":0,\"ticks\":\"\"},\"colorscale\":[[0.0,\"#0d0887\"],[0.1111111111111111,\"#46039f\"],[0.2222222222222222,\"#7201a8\"],[0.3333333333333333,\"#9c179e\"],[0.4444444444444444,\"#bd3786\"],[0.5555555555555556,\"#d8576b\"],[0.6666666666666666,\"#ed7953\"],[0.7777777777777778,\"#fb9f3a\"],[0.8888888888888888,\"#fdca26\"],[1.0,\"#f0f921\"]],\"type\":\"histogram2dcontour\"}],\"histogram2d\":[{\"colorbar\":{\"outlinewidth\":0,\"ticks\":\"\"},\"colorscale\":[[0.0,\"#0d0887\"],[0.1111111111111111,\"#46039f\"],[0.2222222222222222,\"#7201a8\"],[0.3333333333333333,\"#9c179e\"],[0.4444444444444444,\"#bd3786\"],[0.5555555555555556,\"#d8576b\"],[0.6666666666666666,\"#ed7953\"],[0.7777777777777778,\"#fb9f3a\"],[0.8888888888888888,\"#fdca26\"],[1.0,\"#f0f921\"]],\"type\":\"histogram2d\"}],\"histogram\":[{\"marker\":{\"pattern\":{\"fillmode\":\"overlay\",\"size\":10,\"solidity\":0.2}},\"type\":\"histogram\"}],\"mesh3d\":[{\"colorbar\":{\"outlinewidth\":0,\"ticks\":\"\"},\"type\":\"mesh3d\"}],\"parcoords\":[{\"line\":{\"colorbar\":{\"outlinewidth\":0,\"ticks\":\"\"}},\"type\":\"parcoords\"}],\"pie\":[{\"automargin\":true,\"type\":\"pie\"}],\"scatter3d\":[{\"line\":{\"colorbar\":{\"outlinewidth\":0,\"ticks\":\"\"}},\"marker\":{\"colorbar\":{\"outlinewidth\":0,\"ticks\":\"\"}},\"type\":\"scatter3d\"}],\"scattercarpet\":[{\"marker\":{\"colorbar\":{\"outlinewidth\":0,\"ticks\":\"\"}},\"type\":\"scattercarpet\"}],\"scattergeo\":[{\"marker\":{\"colorbar\":{\"outlinewidth\":0,\"ticks\":\"\"}},\"type\":\"scattergeo\"}],\"scattergl\":[{\"marker\":{\"line\":{\"color\":\"#283442\"}},\"type\":\"scattergl\"}],\"scattermapbox\":[{\"marker\":{\"colorbar\":{\"outlinewidth\":0,\"ticks\":\"\"}},\"type\":\"scattermapbox\"}],\"scattermap\":[{\"marker\":{\"colorbar\":{\"outlinewidth\":0,\"ticks\":\"\"}},\"type\":\"scattermap\"}],\"scatterpolargl\":[{\"marker\":{\"colorbar\":{\"outlinewidth\":0,\"ticks\":\"\"}},\"type\":\"scatterpolargl\"}],\"scatterpolar\":[{\"marker\":{\"colorbar\":{\"outlinewidth\":0,\"ticks\":\"\"}},\"type\":\"scatterpolar\"}],\"scatter\":[{\"marker\":{\"line\":{\"color\":\"#283442\"}},\"type\":\"scatter\"}],\"scatterternary\":[{\"marker\":{\"colorbar\":{\"outlinewidth\":0,\"ticks\":\"\"}},\"type\":\"scatterternary\"}],\"surface\":[{\"colorbar\":{\"outlinewidth\":0,\"ticks\":\"\"},\"colorscale\":[[0.0,\"#0d0887\"],[0.1111111111111111,\"#46039f\"],[0.2222222222222222,\"#7201a8\"],[0.3333333333333333,\"#9c179e\"],[0.4444444444444444,\"#bd3786\"],[0.5555555555555556,\"#d8576b\"],[0.6666666666666666,\"#ed7953\"],[0.7777777777777778,\"#fb9f3a\"],[0.8888888888888888,\"#fdca26\"],[1.0,\"#f0f921\"]],\"type\":\"surface\"}],\"table\":[{\"cells\":{\"fill\":{\"color\":\"#506784\"},\"line\":{\"color\":\"rgb(17,17,17)\"}},\"header\":{\"fill\":{\"color\":\"#2a3f5f\"},\"line\":{\"color\":\"rgb(17,17,17)\"}},\"type\":\"table\"}]},\"layout\":{\"annotationdefaults\":{\"arrowcolor\":\"#f2f5fa\",\"arrowhead\":0,\"arrowwidth\":1},\"autotypenumbers\":\"strict\",\"coloraxis\":{\"colorbar\":{\"outlinewidth\":0,\"ticks\":\"\"}},\"colorscale\":{\"diverging\":[[0,\"#8e0152\"],[0.1,\"#c51b7d\"],[0.2,\"#de77ae\"],[0.3,\"#f1b6da\"],[0.4,\"#fde0ef\"],[0.5,\"#f7f7f7\"],[0.6,\"#e6f5d0\"],[0.7,\"#b8e186\"],[0.8,\"#7fbc41\"],[0.9,\"#4d9221\"],[1,\"#276419\"]],\"sequential\":[[0.0,\"#0d0887\"],[0.1111111111111111,\"#46039f\"],[0.2222222222222222,\"#7201a8\"],[0.3333333333333333,\"#9c179e\"],[0.4444444444444444,\"#bd3786\"],[0.5555555555555556,\"#d8576b\"],[0.6666666666666666,\"#ed7953\"],[0.7777777777777778,\"#fb9f3a\"],[0.8888888888888888,\"#fdca26\"],[1.0,\"#f0f921\"]],\"sequentialminus\":[[0.0,\"#0d0887\"],[0.1111111111111111,\"#46039f\"],[0.2222222222222222,\"#7201a8\"],[0.3333333333333333,\"#9c179e\"],[0.4444444444444444,\"#bd3786\"],[0.5555555555555556,\"#d8576b\"],[0.6666666666666666,\"#ed7953\"],[0.7777777777777778,\"#fb9f3a\"],[0.8888888888888888,\"#fdca26\"],[1.0,\"#f0f921\"]]},\"colorway\":[\"#636efa\",\"#EF553B\",\"#00cc96\",\"#ab63fa\",\"#FFA15A\",\"#19d3f3\",\"#FF6692\",\"#B6E880\",\"#FF97FF\",\"#FECB52\"],\"font\":{\"color\":\"#f2f5fa\"},\"geo\":{\"bgcolor\":\"rgb(17,17,17)\",\"lakecolor\":\"rgb(17,17,17)\",\"landcolor\":\"rgb(17,17,17)\",\"showlakes\":true,\"showland\":true,\"subunitcolor\":\"#506784\"},\"hoverlabel\":{\"align\":\"left\"},\"hovermode\":\"closest\",\"mapbox\":{\"style\":\"dark\"},\"paper_bgcolor\":\"rgb(17,17,17)\",\"plot_bgcolor\":\"rgb(17,17,17)\",\"polar\":{\"angularaxis\":{\"gridcolor\":\"#506784\",\"linecolor\":\"#506784\",\"ticks\":\"\"},\"bgcolor\":\"rgb(17,17,17)\",\"radialaxis\":{\"gridcolor\":\"#506784\",\"linecolor\":\"#506784\",\"ticks\":\"\"}},\"scene\":{\"xaxis\":{\"backgroundcolor\":\"rgb(17,17,17)\",\"gridcolor\":\"#506784\",\"gridwidth\":2,\"linecolor\":\"#506784\",\"showbackground\":true,\"ticks\":\"\",\"zerolinecolor\":\"#C8D4E3\"},\"yaxis\":{\"backgroundcolor\":\"rgb(17,17,17)\",\"gridcolor\":\"#506784\",\"gridwidth\":2,\"linecolor\":\"#506784\",\"showbackground\":true,\"ticks\":\"\",\"zerolinecolor\":\"#C8D4E3\"},\"zaxis\":{\"backgroundcolor\":\"rgb(17,17,17)\",\"gridcolor\":\"#506784\",\"gridwidth\":2,\"linecolor\":\"#506784\",\"showbackground\":true,\"ticks\":\"\",\"zerolinecolor\":\"#C8D4E3\"}},\"shapedefaults\":{\"line\":{\"color\":\"#f2f5fa\"}},\"sliderdefaults\":{\"bgcolor\":\"#C8D4E3\",\"bordercolor\":\"rgb(17,17,17)\",\"borderwidth\":1,\"tickwidth\":0},\"ternary\":{\"aaxis\":{\"gridcolor\":\"#506784\",\"linecolor\":\"#506784\",\"ticks\":\"\"},\"baxis\":{\"gridcolor\":\"#506784\",\"linecolor\":\"#506784\",\"ticks\":\"\"},\"bgcolor\":\"rgb(17,17,17)\",\"caxis\":{\"gridcolor\":\"#506784\",\"linecolor\":\"#506784\",\"ticks\":\"\"}},\"title\":{\"x\":0.05},\"updatemenudefaults\":{\"bgcolor\":\"#506784\",\"borderwidth\":0},\"xaxis\":{\"automargin\":true,\"gridcolor\":\"#283442\",\"linecolor\":\"#506784\",\"ticks\":\"\",\"title\":{\"standoff\":15},\"zerolinecolor\":\"#283442\",\"zerolinewidth\":2},\"yaxis\":{\"automargin\":true,\"gridcolor\":\"#283442\",\"linecolor\":\"#506784\",\"ticks\":\"\",\"title\":{\"standoff\":15},\"zerolinecolor\":\"#283442\",\"zerolinewidth\":2}}},\"title\":{\"text\":\"Portfolio Performance (Apr 2022 - Mar 2025)\"},\"xaxis\":{\"title\":{\"text\":\"Date\"}},\"yaxis\":{\"title\":{\"text\":\"Value (INR)\"}}},                        {\"responsive\": true}                    ).then(function(){\n",
       "                            \n",
       "var gd = document.getElementById('5520e660-a193-4931-ad24-1ff465de4800');\n",
       "var x = new MutationObserver(function (mutations, observer) {{\n",
       "        var display = window.getComputedStyle(gd).display;\n",
       "        if (!display || display === 'none') {{\n",
       "            console.log([gd, 'removed!']);\n",
       "            Plotly.purge(gd);\n",
       "            observer.disconnect();\n",
       "        }}\n",
       "}});\n",
       "\n",
       "// Listen for the removal of the full notebook cells\n",
       "var notebookContainer = gd.closest('#notebook-container');\n",
       "if (notebookContainer) {{\n",
       "    x.observe(notebookContainer, {childList: true});\n",
       "}}\n",
       "\n",
       "// Listen for the clearing of the current output cell\n",
       "var outputEl = gd.closest('.output');\n",
       "if (outputEl) {{\n",
       "    x.observe(outputEl, {childList: true});\n",
       "}}\n",
       "\n",
       "                        })                };            </script>        </div>"
      ]
     },
     "metadata": {},
     "output_type": "display_data"
    },
    {
     "data": {
      "text/html": [
       "<div>            <script src=\"https://cdnjs.cloudflare.com/ajax/libs/mathjax/2.7.5/MathJax.js?config=TeX-AMS-MML_SVG\"></script><script type=\"text/javascript\">if (window.MathJax && window.MathJax.Hub && window.MathJax.Hub.Config) {window.MathJax.Hub.Config({SVG: {font: \"STIX-Web\"}});}</script>                <script type=\"text/javascript\">window.PlotlyConfig = {MathJaxConfig: 'local'};</script>\n",
       "        <script charset=\"utf-8\" src=\"https://cdn.plot.ly/plotly-3.0.1.min.js\"></script>                <div id=\"ce10b6de-681b-4d46-bda9-6f298ac5fbdb\" class=\"plotly-graph-div\" style=\"height:525px; width:100%;\"></div>            <script type=\"text/javascript\">                window.PLOTLYENV=window.PLOTLYENV || {};                                if (document.getElementById(\"ce10b6de-681b-4d46-bda9-6f298ac5fbdb\")) {                    Plotly.newPlot(                        \"ce10b6de-681b-4d46-bda9-6f298ac5fbdb\",                        [{\"hovertemplate\":\"Ticker=%{x}\\u003cbr\\u003eAllocation (INR)=%{y}\\u003cextra\\u003e\\u003c\\u002fextra\\u003e\",\"legendgroup\":\"\",\"marker\":{\"color\":\"#636efa\",\"pattern\":{\"shape\":\"\"}},\"name\":\"\",\"orientation\":\"v\",\"showlegend\":false,\"textposition\":\"none\",\"x\":[\"GLD\",\"WMT\",\"SBILIFE.NS\",\"CIPLA.NS\",\"TSLA\",\"NVDA\",\"AAPL\",\"RELIANCE.NS\"],\"xaxis\":\"x\",\"y\":{\"dtype\":\"f8\",\"bdata\":\"AQAAAACm3UB3wvU9h2zWQJIlcWg\\u002fLtRAe0bMXAmB0UCSqJ\\u002f+\\u002f7+iQOO9uPz\\u002fv6JAwjYn+v+\\u002fokCobzZe\\u002fv+IQA==\"},\"yaxis\":\"y\",\"type\":\"bar\",\"texttemplate\":\"\"}],                        {\"template\":{\"data\":{\"barpolar\":[{\"marker\":{\"line\":{\"color\":\"rgb(17,17,17)\",\"width\":0.5},\"pattern\":{\"fillmode\":\"overlay\",\"size\":10,\"solidity\":0.2}},\"type\":\"barpolar\"}],\"bar\":[{\"error_x\":{\"color\":\"#f2f5fa\"},\"error_y\":{\"color\":\"#f2f5fa\"},\"marker\":{\"line\":{\"color\":\"rgb(17,17,17)\",\"width\":0.5},\"pattern\":{\"fillmode\":\"overlay\",\"size\":10,\"solidity\":0.2}},\"type\":\"bar\"}],\"carpet\":[{\"aaxis\":{\"endlinecolor\":\"#A2B1C6\",\"gridcolor\":\"#506784\",\"linecolor\":\"#506784\",\"minorgridcolor\":\"#506784\",\"startlinecolor\":\"#A2B1C6\"},\"baxis\":{\"endlinecolor\":\"#A2B1C6\",\"gridcolor\":\"#506784\",\"linecolor\":\"#506784\",\"minorgridcolor\":\"#506784\",\"startlinecolor\":\"#A2B1C6\"},\"type\":\"carpet\"}],\"choropleth\":[{\"colorbar\":{\"outlinewidth\":0,\"ticks\":\"\"},\"type\":\"choropleth\"}],\"contourcarpet\":[{\"colorbar\":{\"outlinewidth\":0,\"ticks\":\"\"},\"type\":\"contourcarpet\"}],\"contour\":[{\"colorbar\":{\"outlinewidth\":0,\"ticks\":\"\"},\"colorscale\":[[0.0,\"#0d0887\"],[0.1111111111111111,\"#46039f\"],[0.2222222222222222,\"#7201a8\"],[0.3333333333333333,\"#9c179e\"],[0.4444444444444444,\"#bd3786\"],[0.5555555555555556,\"#d8576b\"],[0.6666666666666666,\"#ed7953\"],[0.7777777777777778,\"#fb9f3a\"],[0.8888888888888888,\"#fdca26\"],[1.0,\"#f0f921\"]],\"type\":\"contour\"}],\"heatmap\":[{\"colorbar\":{\"outlinewidth\":0,\"ticks\":\"\"},\"colorscale\":[[0.0,\"#0d0887\"],[0.1111111111111111,\"#46039f\"],[0.2222222222222222,\"#7201a8\"],[0.3333333333333333,\"#9c179e\"],[0.4444444444444444,\"#bd3786\"],[0.5555555555555556,\"#d8576b\"],[0.6666666666666666,\"#ed7953\"],[0.7777777777777778,\"#fb9f3a\"],[0.8888888888888888,\"#fdca26\"],[1.0,\"#f0f921\"]],\"type\":\"heatmap\"}],\"histogram2dcontour\":[{\"colorbar\":{\"outlinewidth\":0,\"ticks\":\"\"},\"colorscale\":[[0.0,\"#0d0887\"],[0.1111111111111111,\"#46039f\"],[0.2222222222222222,\"#7201a8\"],[0.3333333333333333,\"#9c179e\"],[0.4444444444444444,\"#bd3786\"],[0.5555555555555556,\"#d8576b\"],[0.6666666666666666,\"#ed7953\"],[0.7777777777777778,\"#fb9f3a\"],[0.8888888888888888,\"#fdca26\"],[1.0,\"#f0f921\"]],\"type\":\"histogram2dcontour\"}],\"histogram2d\":[{\"colorbar\":{\"outlinewidth\":0,\"ticks\":\"\"},\"colorscale\":[[0.0,\"#0d0887\"],[0.1111111111111111,\"#46039f\"],[0.2222222222222222,\"#7201a8\"],[0.3333333333333333,\"#9c179e\"],[0.4444444444444444,\"#bd3786\"],[0.5555555555555556,\"#d8576b\"],[0.6666666666666666,\"#ed7953\"],[0.7777777777777778,\"#fb9f3a\"],[0.8888888888888888,\"#fdca26\"],[1.0,\"#f0f921\"]],\"type\":\"histogram2d\"}],\"histogram\":[{\"marker\":{\"pattern\":{\"fillmode\":\"overlay\",\"size\":10,\"solidity\":0.2}},\"type\":\"histogram\"}],\"mesh3d\":[{\"colorbar\":{\"outlinewidth\":0,\"ticks\":\"\"},\"type\":\"mesh3d\"}],\"parcoords\":[{\"line\":{\"colorbar\":{\"outlinewidth\":0,\"ticks\":\"\"}},\"type\":\"parcoords\"}],\"pie\":[{\"automargin\":true,\"type\":\"pie\"}],\"scatter3d\":[{\"line\":{\"colorbar\":{\"outlinewidth\":0,\"ticks\":\"\"}},\"marker\":{\"colorbar\":{\"outlinewidth\":0,\"ticks\":\"\"}},\"type\":\"scatter3d\"}],\"scattercarpet\":[{\"marker\":{\"colorbar\":{\"outlinewidth\":0,\"ticks\":\"\"}},\"type\":\"scattercarpet\"}],\"scattergeo\":[{\"marker\":{\"colorbar\":{\"outlinewidth\":0,\"ticks\":\"\"}},\"type\":\"scattergeo\"}],\"scattergl\":[{\"marker\":{\"line\":{\"color\":\"#283442\"}},\"type\":\"scattergl\"}],\"scattermapbox\":[{\"marker\":{\"colorbar\":{\"outlinewidth\":0,\"ticks\":\"\"}},\"type\":\"scattermapbox\"}],\"scattermap\":[{\"marker\":{\"colorbar\":{\"outlinewidth\":0,\"ticks\":\"\"}},\"type\":\"scattermap\"}],\"scatterpolargl\":[{\"marker\":{\"colorbar\":{\"outlinewidth\":0,\"ticks\":\"\"}},\"type\":\"scatterpolargl\"}],\"scatterpolar\":[{\"marker\":{\"colorbar\":{\"outlinewidth\":0,\"ticks\":\"\"}},\"type\":\"scatterpolar\"}],\"scatter\":[{\"marker\":{\"line\":{\"color\":\"#283442\"}},\"type\":\"scatter\"}],\"scatterternary\":[{\"marker\":{\"colorbar\":{\"outlinewidth\":0,\"ticks\":\"\"}},\"type\":\"scatterternary\"}],\"surface\":[{\"colorbar\":{\"outlinewidth\":0,\"ticks\":\"\"},\"colorscale\":[[0.0,\"#0d0887\"],[0.1111111111111111,\"#46039f\"],[0.2222222222222222,\"#7201a8\"],[0.3333333333333333,\"#9c179e\"],[0.4444444444444444,\"#bd3786\"],[0.5555555555555556,\"#d8576b\"],[0.6666666666666666,\"#ed7953\"],[0.7777777777777778,\"#fb9f3a\"],[0.8888888888888888,\"#fdca26\"],[1.0,\"#f0f921\"]],\"type\":\"surface\"}],\"table\":[{\"cells\":{\"fill\":{\"color\":\"#506784\"},\"line\":{\"color\":\"rgb(17,17,17)\"}},\"header\":{\"fill\":{\"color\":\"#2a3f5f\"},\"line\":{\"color\":\"rgb(17,17,17)\"}},\"type\":\"table\"}]},\"layout\":{\"annotationdefaults\":{\"arrowcolor\":\"#f2f5fa\",\"arrowhead\":0,\"arrowwidth\":1},\"autotypenumbers\":\"strict\",\"coloraxis\":{\"colorbar\":{\"outlinewidth\":0,\"ticks\":\"\"}},\"colorscale\":{\"diverging\":[[0,\"#8e0152\"],[0.1,\"#c51b7d\"],[0.2,\"#de77ae\"],[0.3,\"#f1b6da\"],[0.4,\"#fde0ef\"],[0.5,\"#f7f7f7\"],[0.6,\"#e6f5d0\"],[0.7,\"#b8e186\"],[0.8,\"#7fbc41\"],[0.9,\"#4d9221\"],[1,\"#276419\"]],\"sequential\":[[0.0,\"#0d0887\"],[0.1111111111111111,\"#46039f\"],[0.2222222222222222,\"#7201a8\"],[0.3333333333333333,\"#9c179e\"],[0.4444444444444444,\"#bd3786\"],[0.5555555555555556,\"#d8576b\"],[0.6666666666666666,\"#ed7953\"],[0.7777777777777778,\"#fb9f3a\"],[0.8888888888888888,\"#fdca26\"],[1.0,\"#f0f921\"]],\"sequentialminus\":[[0.0,\"#0d0887\"],[0.1111111111111111,\"#46039f\"],[0.2222222222222222,\"#7201a8\"],[0.3333333333333333,\"#9c179e\"],[0.4444444444444444,\"#bd3786\"],[0.5555555555555556,\"#d8576b\"],[0.6666666666666666,\"#ed7953\"],[0.7777777777777778,\"#fb9f3a\"],[0.8888888888888888,\"#fdca26\"],[1.0,\"#f0f921\"]]},\"colorway\":[\"#636efa\",\"#EF553B\",\"#00cc96\",\"#ab63fa\",\"#FFA15A\",\"#19d3f3\",\"#FF6692\",\"#B6E880\",\"#FF97FF\",\"#FECB52\"],\"font\":{\"color\":\"#f2f5fa\"},\"geo\":{\"bgcolor\":\"rgb(17,17,17)\",\"lakecolor\":\"rgb(17,17,17)\",\"landcolor\":\"rgb(17,17,17)\",\"showlakes\":true,\"showland\":true,\"subunitcolor\":\"#506784\"},\"hoverlabel\":{\"align\":\"left\"},\"hovermode\":\"closest\",\"mapbox\":{\"style\":\"dark\"},\"paper_bgcolor\":\"rgb(17,17,17)\",\"plot_bgcolor\":\"rgb(17,17,17)\",\"polar\":{\"angularaxis\":{\"gridcolor\":\"#506784\",\"linecolor\":\"#506784\",\"ticks\":\"\"},\"bgcolor\":\"rgb(17,17,17)\",\"radialaxis\":{\"gridcolor\":\"#506784\",\"linecolor\":\"#506784\",\"ticks\":\"\"}},\"scene\":{\"xaxis\":{\"backgroundcolor\":\"rgb(17,17,17)\",\"gridcolor\":\"#506784\",\"gridwidth\":2,\"linecolor\":\"#506784\",\"showbackground\":true,\"ticks\":\"\",\"zerolinecolor\":\"#C8D4E3\"},\"yaxis\":{\"backgroundcolor\":\"rgb(17,17,17)\",\"gridcolor\":\"#506784\",\"gridwidth\":2,\"linecolor\":\"#506784\",\"showbackground\":true,\"ticks\":\"\",\"zerolinecolor\":\"#C8D4E3\"},\"zaxis\":{\"backgroundcolor\":\"rgb(17,17,17)\",\"gridcolor\":\"#506784\",\"gridwidth\":2,\"linecolor\":\"#506784\",\"showbackground\":true,\"ticks\":\"\",\"zerolinecolor\":\"#C8D4E3\"}},\"shapedefaults\":{\"line\":{\"color\":\"#f2f5fa\"}},\"sliderdefaults\":{\"bgcolor\":\"#C8D4E3\",\"bordercolor\":\"rgb(17,17,17)\",\"borderwidth\":1,\"tickwidth\":0},\"ternary\":{\"aaxis\":{\"gridcolor\":\"#506784\",\"linecolor\":\"#506784\",\"ticks\":\"\"},\"baxis\":{\"gridcolor\":\"#506784\",\"linecolor\":\"#506784\",\"ticks\":\"\"},\"bgcolor\":\"rgb(17,17,17)\",\"caxis\":{\"gridcolor\":\"#506784\",\"linecolor\":\"#506784\",\"ticks\":\"\"}},\"title\":{\"x\":0.05},\"updatemenudefaults\":{\"bgcolor\":\"#506784\",\"borderwidth\":0},\"xaxis\":{\"automargin\":true,\"gridcolor\":\"#283442\",\"linecolor\":\"#506784\",\"ticks\":\"\",\"title\":{\"standoff\":15},\"zerolinecolor\":\"#283442\",\"zerolinewidth\":2},\"yaxis\":{\"automargin\":true,\"gridcolor\":\"#283442\",\"linecolor\":\"#506784\",\"ticks\":\"\",\"title\":{\"standoff\":15},\"zerolinecolor\":\"#283442\",\"zerolinewidth\":2}}},\"xaxis\":{\"anchor\":\"y\",\"domain\":[0.0,1.0],\"title\":{\"text\":\"Ticker\"}},\"yaxis\":{\"anchor\":\"x\",\"domain\":[0.0,1.0],\"title\":{\"text\":\"Allocation (INR)\"}},\"legend\":{\"tracegroupgap\":0},\"title\":{\"text\":\"Combined Portfolio Allocation (\\u20b9100,000)\"},\"barmode\":\"relative\",\"uniformtext\":{\"minsize\":8,\"mode\":\"hide\"}},                        {\"responsive\": true}                    ).then(function(){\n",
       "                            \n",
       "var gd = document.getElementById('ce10b6de-681b-4d46-bda9-6f298ac5fbdb');\n",
       "var x = new MutationObserver(function (mutations, observer) {{\n",
       "        var display = window.getComputedStyle(gd).display;\n",
       "        if (!display || display === 'none') {{\n",
       "            console.log([gd, 'removed!']);\n",
       "            Plotly.purge(gd);\n",
       "            observer.disconnect();\n",
       "        }}\n",
       "}});\n",
       "\n",
       "// Listen for the removal of the full notebook cells\n",
       "var notebookContainer = gd.closest('#notebook-container');\n",
       "if (notebookContainer) {{\n",
       "    x.observe(notebookContainer, {childList: true});\n",
       "}}\n",
       "\n",
       "// Listen for the clearing of the current output cell\n",
       "var outputEl = gd.closest('.output');\n",
       "if (outputEl) {{\n",
       "    x.observe(outputEl, {childList: true});\n",
       "}}\n",
       "\n",
       "                        })                };            </script>        </div>"
      ]
     },
     "metadata": {},
     "output_type": "display_data"
    }
   ],
   "source": [
    "plot_results_interactive_combined(\n",
    "    agg_results, agg_best_index, aggressive_tickers, agg_value, agg_weights,\n",
    "    def_results, def_best_index, defensive_tickers, def_value, def_weights\n",
    ")"
   ]
  }
 ],
 "metadata": {
  "jupytext": {
   "cell_metadata_filter": "-all",
   "main_language": "python",
   "notebook_metadata_filter": "-all"
  },
  "kernelspec": {
   "display_name": "newenv",
   "language": "python",
   "name": "python3"
  },
  "language_info": {
   "codemirror_mode": {
    "name": "ipython",
    "version": 3
   },
   "file_extension": ".py",
   "mimetype": "text/x-python",
   "name": "python",
   "nbconvert_exporter": "python",
   "pygments_lexer": "ipython3",
   "version": "3.13.3"
  }
 },
 "nbformat": 4,
 "nbformat_minor": 5
}
