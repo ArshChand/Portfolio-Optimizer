{
 "cells": [
  {
   "cell_type": "code",
   "execution_count": null,
   "id": "a457ee42",
   "metadata": {},
   "outputs": [],
   "source": [
    "import yfinance as yf\n",
    "import pandas as pd\n",
    "import matplotlib.pyplot as plt\n",
    "import numpy as np\n",
    "import seaborn as sns\n",
    "from datetime import datetime\n",
    "import cvxpy as cp\n",
    "import time\n",
    "import plotly.graph_objects as go\n",
    "import plotly.express as px\n",
    "import dash\n",
    "from dash import html, dcc\n",
    "import plotly.io as pio"
   ]
  },
  {
   "cell_type": "code",
   "execution_count": null,
   "id": "849310b0",
   "metadata": {
    "lines_to_next_cell": 2
   },
   "outputs": [],
   "source": [
    "pio.renderers.default = \"browser\""
   ]
  },
  {
   "cell_type": "markdown",
   "id": "549b9d21",
   "metadata": {},
   "source": [
    "Aggressive and Defensive portfolios\n",
    "This is a fairly well-diversified selection — spanning IT, Energy, Banking, Pharma, FMCG,etc."
   ]
  },
  {
   "cell_type": "code",
   "execution_count": null,
   "id": "2b28c75b",
   "metadata": {},
   "outputs": [],
   "source": [
    "aggressive_tickers = [\"TSLA\", \"RELIANCE.NS\", \"INDA\",\"AAPL\",\"NVDA\",\"QQQ\",\"ARKK\",\"META\"]\n",
    "defensive_tickers = [\"WMT\", \"GLD\", \"CIPLA.NS\", \"SBILIFE.NS\",\"TLT\",\"VNQ\",\"XLU\",\"MCD\"]"
   ]
  },
  {
   "cell_type": "markdown",
   "id": "7bca877f",
   "metadata": {},
   "source": [
    "Training dates"
   ]
  },
  {
   "cell_type": "code",
   "execution_count": null,
   "id": "8d38da5a",
   "metadata": {
    "lines_to_next_cell": 1
   },
   "outputs": [],
   "source": [
    "start_date = \"2019-04-01\"\n",
    "end_date = \"2022-03-31\""
   ]
  },
  {
   "cell_type": "markdown",
   "id": "f7161d72",
   "metadata": {},
   "source": [
    "Function to load the data"
   ]
  },
  {
   "cell_type": "code",
   "execution_count": null,
   "id": "21b39c63",
   "metadata": {
    "lines_to_next_cell": 1
   },
   "outputs": [],
   "source": [
    "def download_price_and_returns(tickers, start_date, end_date):\n",
    "    all_closes = pd.DataFrame()\n",
    "    for ticker in tickers:\n",
    "        try:\n",
    "            print(f\"Downloading {ticker}...\")\n",
    "            data = yf.download(ticker, start=start_date, end=end_date, auto_adjust=True)['Close']\n",
    "            all_closes[ticker] = data\n",
    "        except Exception as e:\n",
    "            print(f\"Failed to download {ticker}: {e}\")\n",
    "    \n",
    "    returns = all_closes.pct_change().dropna()\n",
    "    return all_closes, returns"
   ]
  },
  {
   "cell_type": "markdown",
   "id": "2aa04c71",
   "metadata": {},
   "source": [
    "Testing dates"
   ]
  },
  {
   "cell_type": "code",
   "execution_count": null,
   "id": "e3f45b92",
   "metadata": {
    "lines_to_next_cell": 1
   },
   "outputs": [],
   "source": [
    "start_date2 = \"2022-04-01\"\n",
    "end_date2 = \"2025-03-31\""
   ]
  },
  {
   "cell_type": "markdown",
   "id": "342c3d45",
   "metadata": {},
   "source": [
    "Markowitz Optimization"
   ]
  },
  {
   "cell_type": "markdown",
   "id": "01fb609d",
   "metadata": {},
   "source": [
    "We have split our optimization into two parts one for the aggressive and one for the defensive tickers , aiming at good returns and low volatility."
   ]
  },
  {
   "cell_type": "markdown",
   "id": "aa210050",
   "metadata": {},
   "source": [
    "Defensive Optimizer"
   ]
  },
  {
   "cell_type": "code",
   "execution_count": null,
   "id": "d225c34e",
   "metadata": {
    "lines_to_next_cell": 1
   },
   "outputs": [],
   "source": [
    "def def_markowitz_optimizer(mean_returns, cov_matrix, target_returns, weight_bounds=(0.0,0.33), risk_free_rate=0.06):\n",
    "    n_assets = len(mean_returns)\n",
    "    weights = cp.Variable(n_assets)\n",
    "    portfolio_risk = cp.quad_form(weights, cov_matrix)\n",
    "    portfolio_return = mean_returns.values @ weights\n",
    "\n",
    "    results = {\n",
    "        'risks': [],\n",
    "        'weights': [],\n",
    "        'sharpe_ratios': [],\n",
    "    }\n",
    "\n",
    "    for target in target_returns:\n",
    "        constraints = [\n",
    "            cp.sum(weights) == 1,\n",
    "            weights >= weight_bounds[0],\n",
    "            weights <= weight_bounds[1],\n",
    "            portfolio_return >= target\n",
    "        ]\n",
    "        prob = cp.Problem(cp.Minimize(portfolio_risk), constraints)\n",
    "        prob.solve()\n",
    "\n",
    "        if weights.value is not None:\n",
    "            w = weights.value\n",
    "            vol = np.sqrt(w.T @ cov_matrix.values @ w)\n",
    "            ann_return = mean_returns.values @ w * 252\n",
    "            sharpe = (ann_return - risk_free_rate) / vol\n",
    "            results['risks'].append(vol)\n",
    "            results['weights'].append(w)\n",
    "            results['sharpe_ratios'].append(sharpe)\n",
    "\n",
    "    idx_best = int(np.argmax(results['sharpe_ratios']))\n",
    "    return results, idx_best"
   ]
  },
  {
   "cell_type": "markdown",
   "id": "88f98fdb",
   "metadata": {},
   "source": [
    "Aggressive Optimizer"
   ]
  },
  {
   "cell_type": "code",
   "execution_count": null,
   "id": "cde16aab",
   "metadata": {
    "lines_to_next_cell": 1
   },
   "outputs": [],
   "source": [
    "def agg_markowitz_optimizer(mean_returns, cov_matrix, target_returns, weight_bounds=(0, 0.3), risk_free_rate=0.06):\n",
    "    n_assets = len(mean_returns)\n",
    "    weights = cp.Variable(n_assets)\n",
    "    portfolio_risk = cp.quad_form(weights, cov_matrix)\n",
    "    portfolio_return = mean_returns.values @ weights\n",
    "\n",
    "    results = {\n",
    "        'risks': [],\n",
    "        'weights': [],\n",
    "        'sharpe_ratios': [],\n",
    "    } \n",
    "\n",
    "    for target in target_returns:\n",
    "        constraints = [\n",
    "            cp.sum(weights) == 1,\n",
    "            weights >= weight_bounds[0],\n",
    "            weights <= weight_bounds[1],\n",
    "            portfolio_return >= target\n",
    "        ]\n",
    "        prob = cp.Problem(cp.Maximize(portfolio_return), constraints)\n",
    "        prob.solve()\n",
    "\n",
    "        if weights.value is not None:\n",
    "            w = weights.value\n",
    "            vol = np.sqrt(w.T @ cov_matrix.values @ w)\n",
    "            ann_return = mean_returns.values @ w * 252\n",
    "            sharpe = (ann_return - risk_free_rate) / vol\n",
    "            results['risks'].append(vol)\n",
    "            results['weights'].append(w)\n",
    "            results['sharpe_ratios'].append(sharpe)\n",
    "\n",
    "    idx_best = int(np.argmax(results['sharpe_ratios']))\n",
    "    return results, idx_best"
   ]
  },
  {
   "cell_type": "markdown",
   "id": "dc07637a",
   "metadata": {},
   "source": [
    "Aggressive portfolio"
   ]
  },
  {
   "cell_type": "code",
   "execution_count": null,
   "id": "5a9ed82d",
   "metadata": {},
   "outputs": [],
   "source": [
    "agg_data, agg_returns = download_price_and_returns(aggressive_tickers, start_date, end_date)\n",
    "agg_mean = agg_returns.mean()\n",
    "agg_cov = agg_returns.cov()\n",
    "agg_results, agg_best_index = agg_markowitz_optimizer(agg_mean, agg_cov, np.linspace(agg_mean.min(), agg_mean.max(), 50))"
   ]
  },
  {
   "cell_type": "markdown",
   "id": "8fbdac27",
   "metadata": {},
   "source": [
    "Defensive portfolio"
   ]
  },
  {
   "cell_type": "code",
   "execution_count": null,
   "id": "ac6ac6ac",
   "metadata": {
    "lines_to_next_cell": 2
   },
   "outputs": [],
   "source": [
    "def_data, def_returns = download_price_and_returns(defensive_tickers, start_date, end_date)\n",
    "def_mean = def_returns.mean()\n",
    "def_cov = def_returns.cov()\n",
    "def_results, def_best_index = def_markowitz_optimizer(def_mean, def_cov, np.linspace(def_mean.min(), def_mean.max(), 50))"
   ]
  },
  {
   "cell_type": "markdown",
   "id": "6c6ee433",
   "metadata": {},
   "source": [
    "Weight Splits(agg & def separately)"
   ]
  },
  {
   "cell_type": "code",
   "execution_count": null,
   "id": "eee196e5",
   "metadata": {
    "lines_to_next_cell": 1
   },
   "outputs": [],
   "source": [
    "agg_optimal_weights = agg_results['weights'][agg_best_index]\n",
    "print(\"Optimal Portfolio Weights:\")\n",
    "print(dict(zip(aggressive_tickers, np.round(agg_optimal_weights, 4))))\n",
    "def_optimal_weights = def_results['weights'][def_best_index]\n",
    "print(\"Optimal Portfolio Weights:\")\n",
    "print(dict(zip(defensive_tickers, np.round(def_optimal_weights, 4))))"
   ]
  },
  {
   "cell_type": "markdown",
   "id": "3ed60672",
   "metadata": {},
   "source": [
    "Testing"
   ]
  },
  {
   "cell_type": "code",
   "execution_count": null,
   "id": "a6e56b6d",
   "metadata": {
    "lines_to_next_cell": 1
   },
   "outputs": [],
   "source": [
    "def backtest_portfolio(returns_df, weights, initial_capital=100000, annual_risk_free_rate=0.06):\n",
    "    # 1. Daily portfolio returns\n",
    "    portfolio_daily_returns = returns_df @ weights\n",
    "\n",
    "    # 2. Portfolio value over time\n",
    "    portfolio_value = (1 + portfolio_daily_returns).cumprod() * initial_capital\n",
    "\n",
    "    # 3. Performance metrics\n",
    "    total_return = portfolio_value.iloc[-1] / initial_capital - 1\n",
    "    annualized_return = (1 + total_return) ** (1/3) - 1  # 3-year period\n",
    "    annualized_volatility = portfolio_daily_returns.std() * np.sqrt(252)\n",
    "    sharpe_ratio = (annualized_return - annual_risk_free_rate) / annualized_volatility\n",
    "\n",
    "    metrics = {\n",
    "        \"Total Return\": total_return,\n",
    "        \"Annualized Return\": annualized_return,\n",
    "        \"Annualized Volatility\": annualized_volatility,\n",
    "        \"Sharpe Ratio\": sharpe_ratio\n",
    "    }\n",
    "\n",
    "    return portfolio_value, metrics"
   ]
  },
  {
   "cell_type": "code",
   "execution_count": null,
   "id": "7804bb66",
   "metadata": {},
   "outputs": [],
   "source": [
    "agg_weights = agg_results['weights'][agg_best_index]\n",
    "def_weights = def_results['weights'][def_best_index]"
   ]
  },
  {
   "cell_type": "markdown",
   "id": "f4833eba",
   "metadata": {},
   "source": [
    "Get test returns for 2022–2025"
   ]
  },
  {
   "cell_type": "code",
   "execution_count": null,
   "id": "9a8d258b",
   "metadata": {},
   "outputs": [],
   "source": [
    "agg_test_data, agg_test_returns = download_price_and_returns(aggressive_tickers, start_date2, end_date2)\n",
    "def_test_data, def_test_returns = download_price_and_returns(defensive_tickers, start_date2, end_date2)"
   ]
  },
  {
   "cell_type": "markdown",
   "id": "1ad8aadf",
   "metadata": {},
   "source": [
    "Backtest "
   ]
  },
  {
   "cell_type": "code",
   "execution_count": null,
   "id": "1e17b2c2",
   "metadata": {},
   "outputs": [],
   "source": [
    "agg_value, agg_metrics = backtest_portfolio(agg_test_returns, agg_weights, initial_capital=8000)\n",
    "def_value, def_metrics = backtest_portfolio(def_test_returns, def_weights, initial_capital=92000)"
   ]
  },
  {
   "cell_type": "code",
   "execution_count": null,
   "id": "b687fece",
   "metadata": {},
   "outputs": [],
   "source": [
    "combined_tickers = aggressive_tickers + defensive_tickers\n",
    "combined_weights = list(0.08 * np.array(agg_weights)) + list(0.92 * np.array(def_weights))"
   ]
  },
  {
   "cell_type": "code",
   "execution_count": null,
   "id": "439de4e4",
   "metadata": {
    "lines_to_next_cell": 2
   },
   "outputs": [],
   "source": [
    "combined_returns = pd.concat([agg_test_returns, def_test_returns], axis=1)"
   ]
  },
  {
   "cell_type": "code",
   "execution_count": null,
   "id": "ae89c8ff",
   "metadata": {
    "lines_to_next_cell": 2
   },
   "outputs": [],
   "source": [
    "combined_tickers = aggressive_tickers + defensive_tickers\n",
    "combined_returns.columns = combined_tickers"
   ]
  },
  {
   "cell_type": "code",
   "execution_count": null,
   "id": "4058c942",
   "metadata": {},
   "outputs": [],
   "source": [
    "print(\"\\nBacktest Performance:\")\n",
    "combined_value, combined_metrics = backtest_portfolio(combined_returns, combined_weights, initial_capital=100000)"
   ]
  },
  {
   "cell_type": "code",
   "execution_count": null,
   "id": "d5d363bd",
   "metadata": {},
   "outputs": [],
   "source": [
    "print(\"----- Combined Portfolio Metrics -----\")\n",
    "for key, value in combined_metrics.items():\n",
    "    print(f\"{key}: {value}\")"
   ]
  },
  {
   "cell_type": "markdown",
   "id": "48850e9f",
   "metadata": {},
   "source": [
    "plot results"
   ]
  },
  {
   "cell_type": "code",
   "execution_count": null,
   "id": "e452f959",
   "metadata": {},
   "outputs": [],
   "source": [
    "def plot_results_interactive_combined(\n",
    "    agg_results, agg_best_index, agg_tickers, agg_portfolio_value, agg_weights,\n",
    "    def_results, def_best_index, def_tickers, def_portfolio_value, def_weights\n",
    "):\n",
    "    total_value = agg_portfolio_value + def_portfolio_value\n",
    "    total_weights = np.concatenate([agg_weights * 0.08, def_weights * 0.92])\n",
    "    total_tickers = agg_tickers + def_tickers\n",
    "\n",
    "    # --- Pie Chart ---\n",
    "    min_allocation_threshold = 0.02\n",
    "    rounded_weights = np.round(total_weights, 4)\n",
    "\n",
    "    filtered = [(t, w) for t, w in zip(total_tickers, rounded_weights) if w > min_allocation_threshold]\n",
    "    if filtered:\n",
    "        new_tickers, new_weights = zip(*filtered)\n",
    "    else:\n",
    "        new_tickers, new_weights = [], []\n",
    "\n",
    "    sorted_allocation = sorted(zip(new_tickers, new_weights), key=lambda x: x[1], reverse=True)\n",
    "    new_tickers, new_weights = zip(*sorted_allocation)\n",
    "\n",
    "    fig = go.Figure(data=[go.Pie(labels=new_tickers, values=new_weights, hole=0.3)])\n",
    "    fig.update_layout(title=\"Combined Portfolio Allocation\", template=\"plotly_dark\")\n",
    "    fig.show()\n",
    "\n",
    "    # --- Value Over Time Chart ---\n",
    "    fig = go.Figure()\n",
    "    fig.add_trace(go.Scatter(x=total_value.index, y=total_value.values, mode='lines', name='Total Portfolio', line=dict(color='yellow')))\n",
    "    fig.add_trace(go.Scatter(x=agg_portfolio_value.index, y=agg_portfolio_value.values, mode='lines', name='Aggressive', line=dict(color='red')))\n",
    "    fig.add_trace(go.Scatter(x=def_portfolio_value.index, y=def_portfolio_value.values, mode='lines', name='Defensive', line=dict(color='green')))\n",
    "\n",
    "    fig.update_layout(\n",
    "        title=\"Portfolio Performance (Apr 2022 - Mar 2025)\",\n",
    "        xaxis_title=\"Date\",\n",
    "        yaxis_title=\"Value (INR)\",\n",
    "        template=\"plotly_dark\"\n",
    "    )\n",
    "    fig.show()\n",
    "\n",
    "    # --- Bar Chart with Optimization ---\n",
    "    assert len(total_weights) == len(total_tickers), \"Mismatch in weights and tickers\"\n",
    "\n",
    "    allocation_inr = pd.Series(total_weights * 100000, index=total_tickers)\n",
    "    allocation_df = allocation_inr.reset_index()\n",
    "    allocation_df.columns = ['Ticker', 'Allocation (INR)']\n",
    "\n",
    "    allocation_df = allocation_df[allocation_df[\"Allocation (INR)\"] > 100]  # Filter low weights\n",
    "    allocation_df = allocation_df.sort_values(\"Allocation (INR)\", ascending=False)\n",
    "\n",
    "    fig = px.bar(allocation_df,\n",
    "                 x='Ticker', y='Allocation (INR)',\n",
    "                 title=\"Combined Portfolio Allocation (₹100,000)\",\n",
    "                 template='plotly_dark')\n",
    "\n",
    "    fig.update_traces(texttemplate='', textposition='none')  \n",
    "    fig.update_layout(uniformtext_minsize=8, uniformtext_mode='hide')\n",
    "    fig.show()"
   ]
  },
  {
   "cell_type": "code",
   "execution_count": null,
   "id": "72820469",
   "metadata": {
    "lines_to_next_cell": 2
   },
   "outputs": [],
   "source": [
    "plot_results_interactive_combined(\n",
    "    agg_results, agg_best_index, aggressive_tickers, agg_value, agg_weights,\n",
    "    def_results, def_best_index, defensive_tickers, def_value, def_weights\n",
    ")"
   ]
  }
 ],
 "metadata": {
  "jupytext": {
   "cell_metadata_filter": "-all",
   "main_language": "python",
   "notebook_metadata_filter": "-all"
  }
 },
 "nbformat": 4,
 "nbformat_minor": 5
}
